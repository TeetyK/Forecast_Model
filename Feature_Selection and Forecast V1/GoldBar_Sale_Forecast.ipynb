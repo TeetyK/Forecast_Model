{
 "cells": [
  {
   "cell_type": "markdown",
   "id": "2c9150a6-4067-4034-adf1-dc0dae2840ad",
   "metadata": {},
   "source": [
    "Import Libraries"
   ]
  },
  {
   "cell_type": "code",
   "execution_count": 1,
   "id": "b4e5470f-9bc6-49c9-b398-bc725527dfd1",
   "metadata": {
    "execution": {
     "iopub.execute_input": "2024-07-17T01:35:46.419235Z",
     "iopub.status.busy": "2024-07-17T01:35:46.419235Z",
     "iopub.status.idle": "2024-07-17T01:36:25.114883Z",
     "shell.execute_reply": "2024-07-17T01:36:25.113880Z",
     "shell.execute_reply.started": "2024-07-17T01:35:46.419235Z"
    }
   },
   "outputs": [],
   "source": [
    "import os\n",
    "import msoffcrypto\n",
    "import pandas as pd\n",
    "import numpy as np\n",
    "from datetime import datetime as dt\n",
    "from matplotlib import pyplot as plt\n",
    "from scipy.interpolate import CubicSpline\n",
    "from sklearn.linear_model import LinearRegression\n",
    "import pmdarima as pm\n",
    "from pmdarima import model_selection\n",
    "import math\n",
    "import pytz\n",
    "import datetime"
   ]
  },
  {
   "cell_type": "code",
   "execution_count": 320,
   "id": "3dc78b3a-e711-43c6-b327-e0612f073682",
   "metadata": {
    "execution": {
     "iopub.execute_input": "2024-07-17T08:55:44.034840Z",
     "iopub.status.busy": "2024-07-17T08:55:44.034840Z",
     "iopub.status.idle": "2024-07-17T08:55:44.257853Z",
     "shell.execute_reply": "2024-07-17T08:55:44.257853Z",
     "shell.execute_reply.started": "2024-07-17T08:55:44.034840Z"
    }
   },
   "outputs": [],
   "source": [
    "xls = pd.ExcelFile(\"RawData13.xlsx\")\n",
    "Factor_data = pd.read_excel(xls,'Factor')\n",
    "Gold_data = pd.read_excel(xls,'GoldBar_Sale')"
   ]
  },
  {
   "cell_type": "code",
   "execution_count": 321,
   "id": "df219fd8-903c-47bd-a9eb-7a2c8716751c",
   "metadata": {
    "execution": {
     "iopub.execute_input": "2024-07-17T08:55:44.578972Z",
     "iopub.status.busy": "2024-07-17T08:55:44.578972Z",
     "iopub.status.idle": "2024-07-17T08:55:44.586611Z",
     "shell.execute_reply": "2024-07-17T08:55:44.586611Z",
     "shell.execute_reply.started": "2024-07-17T08:55:44.578972Z"
    }
   },
   "outputs": [],
   "source": [
    "factor_col = Factor_data.columns[1:]"
   ]
  },
  {
   "cell_type": "code",
   "execution_count": 322,
   "id": "b7155a9d-3b73-4a5f-a148-1f75be5cd4aa",
   "metadata": {
    "execution": {
     "iopub.execute_input": "2024-07-17T08:55:45.345377Z",
     "iopub.status.busy": "2024-07-17T08:55:45.345377Z",
     "iopub.status.idle": "2024-07-17T08:55:45.365084Z",
     "shell.execute_reply": "2024-07-17T08:55:45.364380Z",
     "shell.execute_reply.started": "2024-07-17T08:55:45.345377Z"
    }
   },
   "outputs": [
    {
     "data": {
      "text/plain": [
       "Index(['(Inflation)', 'PTT_แก๊สโซฮอล์_95', 'PTT_แก๊สโซฮอล์_91', 'PTT_ดีเซล',\n",
       "       'อัตราแลกเปลี่ยน_USD_THB', 'BOT_Policy_rate_(อัตราดอกเบี้ย นโยบาย)',\n",
       "       'SCB_ออมทรัพย์(อัตราดอกเบี้ย)', 'SCB_ประจำ_3_เดือน(อัตราดอกเบี้ย)',\n",
       "       'SCB_ประจำ_6_เดือน(อัตราดอกเบี้ย)', 'SCB_ประจำ_12_เดือน(อัตราดอกเบี้ย)',\n",
       "       'XAU_USD'],\n",
       "      dtype='object')"
      ]
     },
     "execution_count": 322,
     "metadata": {},
     "output_type": "execute_result"
    }
   ],
   "source": [
    "factor_col"
   ]
  },
  {
   "cell_type": "code",
   "execution_count": 323,
   "id": "d53625de-93c1-4f32-9e84-e65938a9143b",
   "metadata": {
    "execution": {
     "iopub.execute_input": "2024-07-17T08:55:48.915997Z",
     "iopub.status.busy": "2024-07-17T08:55:48.915997Z",
     "iopub.status.idle": "2024-07-17T08:55:48.975996Z",
     "shell.execute_reply": "2024-07-17T08:55:48.975996Z",
     "shell.execute_reply.started": "2024-07-17T08:55:48.915997Z"
    },
    "scrolled": true
   },
   "outputs": [
    {
     "name": "stderr",
     "output_type": "stream",
     "text": [
      "C:\\Users\\temp5\\AppData\\Local\\Temp\\ipykernel_5456\\466376135.py:2: PerformanceWarning: DataFrame is highly fragmented.  This is usually the result of calling `frame.insert` many times, which has poor performance.  Consider joining all columns at once using pd.concat(axis=1) instead. To get a de-fragmented frame, use `newframe = frame.copy()`\n",
      "  Factor_data[[i+f'_LAG_{month}' for i in factor_col]] = Factor_data[factor_col].shift(month)\n"
     ]
    }
   ],
   "source": [
    "for month in range(1,10):\n",
    "    Factor_data[[i+f'_LAG_{month}' for i in factor_col]] = Factor_data[factor_col].shift(month)"
   ]
  },
  {
   "cell_type": "code",
   "execution_count": 324,
   "id": "ba165f3d-a076-4847-bc7e-1801f16b933d",
   "metadata": {
    "execution": {
     "iopub.execute_input": "2024-07-17T08:55:49.411636Z",
     "iopub.status.busy": "2024-07-17T08:55:49.405457Z",
     "iopub.status.idle": "2024-07-17T08:55:49.418774Z",
     "shell.execute_reply": "2024-07-17T08:55:49.418774Z",
     "shell.execute_reply.started": "2024-07-17T08:55:49.411636Z"
    }
   },
   "outputs": [
    {
     "data": {
      "text/plain": [
       "Index(['Report Date', '(Inflation)', 'PTT_แก๊สโซฮอล์_95', 'PTT_แก๊สโซฮอล์_91',\n",
       "       'PTT_ดีเซล', 'อัตราแลกเปลี่ยน_USD_THB',\n",
       "       'BOT_Policy_rate_(อัตราดอกเบี้ย นโยบาย)',\n",
       "       'SCB_ออมทรัพย์(อัตราดอกเบี้ย)', 'SCB_ประจำ_3_เดือน(อัตราดอกเบี้ย)',\n",
       "       'SCB_ประจำ_6_เดือน(อัตราดอกเบี้ย)',\n",
       "       ...\n",
       "       'PTT_แก๊สโซฮอล์_95_LAG_9', 'PTT_แก๊สโซฮอล์_91_LAG_9', 'PTT_ดีเซล_LAG_9',\n",
       "       'อัตราแลกเปลี่ยน_USD_THB_LAG_9',\n",
       "       'BOT_Policy_rate_(อัตราดอกเบี้ย นโยบาย)_LAG_9',\n",
       "       'SCB_ออมทรัพย์(อัตราดอกเบี้ย)_LAG_9',\n",
       "       'SCB_ประจำ_3_เดือน(อัตราดอกเบี้ย)_LAG_9',\n",
       "       'SCB_ประจำ_6_เดือน(อัตราดอกเบี้ย)_LAG_9',\n",
       "       'SCB_ประจำ_12_เดือน(อัตราดอกเบี้ย)_LAG_9', 'XAU_USD_LAG_9'],\n",
       "      dtype='object', length=111)"
      ]
     },
     "execution_count": 324,
     "metadata": {},
     "output_type": "execute_result"
    }
   ],
   "source": [
    "Factor_data.columns"
   ]
  },
  {
   "cell_type": "code",
   "execution_count": 325,
   "id": "186012c8-fe52-47ba-bb6e-8319a0d81772",
   "metadata": {
    "execution": {
     "iopub.execute_input": "2024-07-17T08:55:49.836369Z",
     "iopub.status.busy": "2024-07-17T08:55:49.836369Z",
     "iopub.status.idle": "2024-07-17T08:55:49.843671Z",
     "shell.execute_reply": "2024-07-17T08:55:49.843671Z",
     "shell.execute_reply.started": "2024-07-17T08:55:49.836369Z"
    },
    "scrolled": true
   },
   "outputs": [],
   "source": [
    "# for month in range(1,4):\n",
    "#     Factor_data[['DIFF_'+i+f'_LAG_{month}' for i in factor_col]] = \\\n",
    "#     Factor_data[factor_col].values - Factor_data[[i+f'_LAG_{month}' for i in factor_col]].values"
   ]
  },
  {
   "cell_type": "code",
   "execution_count": 326,
   "id": "ef177f68-432f-4d36-96c0-dcfd657ca8b8",
   "metadata": {
    "execution": {
     "iopub.execute_input": "2024-07-17T08:55:50.252824Z",
     "iopub.status.busy": "2024-07-17T08:55:50.252824Z",
     "iopub.status.idle": "2024-07-17T08:55:50.263127Z",
     "shell.execute_reply": "2024-07-17T08:55:50.261643Z",
     "shell.execute_reply.started": "2024-07-17T08:55:50.252824Z"
    },
    "scrolled": true
   },
   "outputs": [],
   "source": [
    "# diff MoM LAG 1-12 Months\n",
    "# for month in range(1,13):\n",
    "#     Factor_data[['DIFF_'+i+f'_MoM_LAG_{month}' for i in factor_col]] = Factor_data[['DIFF_'+i+f'_LAG_1' for i in factor_col]].shift(month)"
   ]
  },
  {
   "cell_type": "code",
   "execution_count": 327,
   "id": "b1e6ec13-13d4-4e3c-b33d-2c27dc40310c",
   "metadata": {
    "execution": {
     "iopub.execute_input": "2024-07-17T08:55:53.778370Z",
     "iopub.status.busy": "2024-07-17T08:55:53.777723Z",
     "iopub.status.idle": "2024-07-17T08:55:53.796942Z",
     "shell.execute_reply": "2024-07-17T08:55:53.795907Z",
     "shell.execute_reply.started": "2024-07-17T08:55:53.778370Z"
    },
    "scrolled": true
   },
   "outputs": [
    {
     "name": "stderr",
     "output_type": "stream",
     "text": [
      "C:\\Users\\temp5\\AppData\\Local\\Temp\\ipykernel_5456\\563302744.py:4: PerformanceWarning: DataFrame is highly fragmented.  This is usually the result of calling `frame.insert` many times, which has poor performance.  Consider joining all columns at once using pd.concat(axis=1) instead. To get a de-fragmented frame, use `newframe = frame.copy()`\n",
      "  Factor_data[['LOG_'+i+f'_LAG_{month}' if month!=0 else 'LOG_'+i for i in factor_col]] = \\\n",
      "C:\\Users\\temp5\\AppData\\Local\\Temp\\ipykernel_5456\\563302744.py:4: PerformanceWarning: DataFrame is highly fragmented.  This is usually the result of calling `frame.insert` many times, which has poor performance.  Consider joining all columns at once using pd.concat(axis=1) instead. To get a de-fragmented frame, use `newframe = frame.copy()`\n",
      "  Factor_data[['LOG_'+i+f'_LAG_{month}' if month!=0 else 'LOG_'+i for i in factor_col]] = \\\n",
      "C:\\Users\\temp5\\AppData\\Local\\Temp\\ipykernel_5456\\563302744.py:4: PerformanceWarning: DataFrame is highly fragmented.  This is usually the result of calling `frame.insert` many times, which has poor performance.  Consider joining all columns at once using pd.concat(axis=1) instead. To get a de-fragmented frame, use `newframe = frame.copy()`\n",
      "  Factor_data[['LOG_'+i+f'_LAG_{month}' if month!=0 else 'LOG_'+i for i in factor_col]] = \\\n",
      "C:\\Users\\temp5\\AppData\\Local\\Temp\\ipykernel_5456\\563302744.py:4: PerformanceWarning: DataFrame is highly fragmented.  This is usually the result of calling `frame.insert` many times, which has poor performance.  Consider joining all columns at once using pd.concat(axis=1) instead. To get a de-fragmented frame, use `newframe = frame.copy()`\n",
      "  Factor_data[['LOG_'+i+f'_LAG_{month}' if month!=0 else 'LOG_'+i for i in factor_col]] = \\\n",
      "C:\\Users\\temp5\\AppData\\Local\\Temp\\ipykernel_5456\\563302744.py:4: PerformanceWarning: DataFrame is highly fragmented.  This is usually the result of calling `frame.insert` many times, which has poor performance.  Consider joining all columns at once using pd.concat(axis=1) instead. To get a de-fragmented frame, use `newframe = frame.copy()`\n",
      "  Factor_data[['LOG_'+i+f'_LAG_{month}' if month!=0 else 'LOG_'+i for i in factor_col]] = \\\n",
      "C:\\Users\\temp5\\AppData\\Local\\Temp\\ipykernel_5456\\563302744.py:4: PerformanceWarning: DataFrame is highly fragmented.  This is usually the result of calling `frame.insert` many times, which has poor performance.  Consider joining all columns at once using pd.concat(axis=1) instead. To get a de-fragmented frame, use `newframe = frame.copy()`\n",
      "  Factor_data[['LOG_'+i+f'_LAG_{month}' if month!=0 else 'LOG_'+i for i in factor_col]] = \\\n",
      "C:\\Users\\temp5\\AppData\\Local\\Temp\\ipykernel_5456\\563302744.py:4: PerformanceWarning: DataFrame is highly fragmented.  This is usually the result of calling `frame.insert` many times, which has poor performance.  Consider joining all columns at once using pd.concat(axis=1) instead. To get a de-fragmented frame, use `newframe = frame.copy()`\n",
      "  Factor_data[['LOG_'+i+f'_LAG_{month}' if month!=0 else 'LOG_'+i for i in factor_col]] = \\\n",
      "C:\\Users\\temp5\\AppData\\Local\\Temp\\ipykernel_5456\\563302744.py:4: PerformanceWarning: DataFrame is highly fragmented.  This is usually the result of calling `frame.insert` many times, which has poor performance.  Consider joining all columns at once using pd.concat(axis=1) instead. To get a de-fragmented frame, use `newframe = frame.copy()`\n",
      "  Factor_data[['LOG_'+i+f'_LAG_{month}' if month!=0 else 'LOG_'+i for i in factor_col]] = \\\n",
      "C:\\Users\\temp5\\AppData\\Local\\Temp\\ipykernel_5456\\563302744.py:4: PerformanceWarning: DataFrame is highly fragmented.  This is usually the result of calling `frame.insert` many times, which has poor performance.  Consider joining all columns at once using pd.concat(axis=1) instead. To get a de-fragmented frame, use `newframe = frame.copy()`\n",
      "  Factor_data[['LOG_'+i+f'_LAG_{month}' if month!=0 else 'LOG_'+i for i in factor_col]] = \\\n",
      "C:\\Users\\temp5\\AppData\\Local\\Temp\\ipykernel_5456\\563302744.py:4: PerformanceWarning: DataFrame is highly fragmented.  This is usually the result of calling `frame.insert` many times, which has poor performance.  Consider joining all columns at once using pd.concat(axis=1) instead. To get a de-fragmented frame, use `newframe = frame.copy()`\n",
      "  Factor_data[['LOG_'+i+f'_LAG_{month}' if month!=0 else 'LOG_'+i for i in factor_col]] = \\\n",
      "C:\\Users\\temp5\\AppData\\Local\\Temp\\ipykernel_5456\\563302744.py:4: PerformanceWarning: DataFrame is highly fragmented.  This is usually the result of calling `frame.insert` many times, which has poor performance.  Consider joining all columns at once using pd.concat(axis=1) instead. To get a de-fragmented frame, use `newframe = frame.copy()`\n",
      "  Factor_data[['LOG_'+i+f'_LAG_{month}' if month!=0 else 'LOG_'+i for i in factor_col]] = \\\n",
      "C:\\Users\\temp5\\AppData\\Local\\Temp\\ipykernel_5456\\563302744.py:4: PerformanceWarning: DataFrame is highly fragmented.  This is usually the result of calling `frame.insert` many times, which has poor performance.  Consider joining all columns at once using pd.concat(axis=1) instead. To get a de-fragmented frame, use `newframe = frame.copy()`\n",
      "  Factor_data[['LOG_'+i+f'_LAG_{month}' if month!=0 else 'LOG_'+i for i in factor_col]] = \\\n",
      "C:\\Users\\temp5\\AppData\\Local\\Temp\\ipykernel_5456\\563302744.py:4: PerformanceWarning: DataFrame is highly fragmented.  This is usually the result of calling `frame.insert` many times, which has poor performance.  Consider joining all columns at once using pd.concat(axis=1) instead. To get a de-fragmented frame, use `newframe = frame.copy()`\n",
      "  Factor_data[['LOG_'+i+f'_LAG_{month}' if month!=0 else 'LOG_'+i for i in factor_col]] = \\\n",
      "C:\\Users\\temp5\\AppData\\Local\\Temp\\ipykernel_5456\\563302744.py:4: PerformanceWarning: DataFrame is highly fragmented.  This is usually the result of calling `frame.insert` many times, which has poor performance.  Consider joining all columns at once using pd.concat(axis=1) instead. To get a de-fragmented frame, use `newframe = frame.copy()`\n",
      "  Factor_data[['LOG_'+i+f'_LAG_{month}' if month!=0 else 'LOG_'+i for i in factor_col]] = \\\n",
      "C:\\Users\\temp5\\AppData\\Local\\Temp\\ipykernel_5456\\563302744.py:4: PerformanceWarning: DataFrame is highly fragmented.  This is usually the result of calling `frame.insert` many times, which has poor performance.  Consider joining all columns at once using pd.concat(axis=1) instead. To get a de-fragmented frame, use `newframe = frame.copy()`\n",
      "  Factor_data[['LOG_'+i+f'_LAG_{month}' if month!=0 else 'LOG_'+i for i in factor_col]] = \\\n",
      "C:\\Users\\temp5\\AppData\\Local\\Temp\\ipykernel_5456\\563302744.py:4: PerformanceWarning: DataFrame is highly fragmented.  This is usually the result of calling `frame.insert` many times, which has poor performance.  Consider joining all columns at once using pd.concat(axis=1) instead. To get a de-fragmented frame, use `newframe = frame.copy()`\n",
      "  Factor_data[['LOG_'+i+f'_LAG_{month}' if month!=0 else 'LOG_'+i for i in factor_col]] = \\\n",
      "C:\\Users\\temp5\\AppData\\Local\\Temp\\ipykernel_5456\\563302744.py:4: PerformanceWarning: DataFrame is highly fragmented.  This is usually the result of calling `frame.insert` many times, which has poor performance.  Consider joining all columns at once using pd.concat(axis=1) instead. To get a de-fragmented frame, use `newframe = frame.copy()`\n",
      "  Factor_data[['LOG_'+i+f'_LAG_{month}' if month!=0 else 'LOG_'+i for i in factor_col]] = \\\n",
      "C:\\Users\\temp5\\AppData\\Local\\Temp\\ipykernel_5456\\563302744.py:4: PerformanceWarning: DataFrame is highly fragmented.  This is usually the result of calling `frame.insert` many times, which has poor performance.  Consider joining all columns at once using pd.concat(axis=1) instead. To get a de-fragmented frame, use `newframe = frame.copy()`\n",
      "  Factor_data[['LOG_'+i+f'_LAG_{month}' if month!=0 else 'LOG_'+i for i in factor_col]] = \\\n",
      "C:\\Users\\temp5\\AppData\\Local\\Temp\\ipykernel_5456\\563302744.py:4: PerformanceWarning: DataFrame is highly fragmented.  This is usually the result of calling `frame.insert` many times, which has poor performance.  Consider joining all columns at once using pd.concat(axis=1) instead. To get a de-fragmented frame, use `newframe = frame.copy()`\n",
      "  Factor_data[['LOG_'+i+f'_LAG_{month}' if month!=0 else 'LOG_'+i for i in factor_col]] = \\\n",
      "C:\\Users\\temp5\\AppData\\Local\\Temp\\ipykernel_5456\\563302744.py:4: PerformanceWarning: DataFrame is highly fragmented.  This is usually the result of calling `frame.insert` many times, which has poor performance.  Consider joining all columns at once using pd.concat(axis=1) instead. To get a de-fragmented frame, use `newframe = frame.copy()`\n",
      "  Factor_data[['LOG_'+i+f'_LAG_{month}' if month!=0 else 'LOG_'+i for i in factor_col]] = \\\n",
      "C:\\Users\\temp5\\AppData\\Local\\Temp\\ipykernel_5456\\563302744.py:4: PerformanceWarning: DataFrame is highly fragmented.  This is usually the result of calling `frame.insert` many times, which has poor performance.  Consider joining all columns at once using pd.concat(axis=1) instead. To get a de-fragmented frame, use `newframe = frame.copy()`\n",
      "  Factor_data[['LOG_'+i+f'_LAG_{month}' if month!=0 else 'LOG_'+i for i in factor_col]] = \\\n",
      "C:\\Users\\temp5\\AppData\\Local\\Temp\\ipykernel_5456\\563302744.py:4: PerformanceWarning: DataFrame is highly fragmented.  This is usually the result of calling `frame.insert` many times, which has poor performance.  Consider joining all columns at once using pd.concat(axis=1) instead. To get a de-fragmented frame, use `newframe = frame.copy()`\n",
      "  Factor_data[['LOG_'+i+f'_LAG_{month}' if month!=0 else 'LOG_'+i for i in factor_col]] = \\\n"
     ]
    }
   ],
   "source": [
    "# Factor_data[['LOG_'+i for i in factor_col]] = \\\n",
    "#     Factor_data[[i for i in factor_col]].apply(np.log)\n",
    "for month in range(0,2):\n",
    "    Factor_data[['LOG_'+i+f'_LAG_{month}' if month!=0 else 'LOG_'+i for i in factor_col]] = \\\n",
    "    Factor_data[[i+f'_LAG_{month}' if month!=0 else i for i in factor_col]].apply(np.log)"
   ]
  },
  {
   "cell_type": "code",
   "execution_count": 328,
   "id": "6f5498b4-9cf1-4639-9623-c8129595a3b5",
   "metadata": {
    "execution": {
     "iopub.execute_input": "2024-07-17T08:55:54.595041Z",
     "iopub.status.busy": "2024-07-17T08:55:54.594321Z",
     "iopub.status.idle": "2024-07-17T08:55:54.600408Z",
     "shell.execute_reply": "2024-07-17T08:55:54.600408Z",
     "shell.execute_reply.started": "2024-07-17T08:55:54.594321Z"
    }
   },
   "outputs": [
    {
     "data": {
      "text/plain": [
       "Index(['Report Date', '(Inflation)', 'PTT_แก๊สโซฮอล์_95', 'PTT_แก๊สโซฮอล์_91',\n",
       "       'PTT_ดีเซล', 'อัตราแลกเปลี่ยน_USD_THB',\n",
       "       'BOT_Policy_rate_(อัตราดอกเบี้ย นโยบาย)',\n",
       "       'SCB_ออมทรัพย์(อัตราดอกเบี้ย)', 'SCB_ประจำ_3_เดือน(อัตราดอกเบี้ย)',\n",
       "       'SCB_ประจำ_6_เดือน(อัตราดอกเบี้ย)',\n",
       "       ...\n",
       "       'LOG_PTT_แก๊สโซฮอล์_95_LAG_1', 'LOG_PTT_แก๊สโซฮอล์_91_LAG_1',\n",
       "       'LOG_PTT_ดีเซล_LAG_1', 'LOG_อัตราแลกเปลี่ยน_USD_THB_LAG_1',\n",
       "       'LOG_BOT_Policy_rate_(อัตราดอกเบี้ย นโยบาย)_LAG_1',\n",
       "       'LOG_SCB_ออมทรัพย์(อัตราดอกเบี้ย)_LAG_1',\n",
       "       'LOG_SCB_ประจำ_3_เดือน(อัตราดอกเบี้ย)_LAG_1',\n",
       "       'LOG_SCB_ประจำ_6_เดือน(อัตราดอกเบี้ย)_LAG_1',\n",
       "       'LOG_SCB_ประจำ_12_เดือน(อัตราดอกเบี้ย)_LAG_1', 'LOG_XAU_USD_LAG_1'],\n",
       "      dtype='object', length=133)"
      ]
     },
     "execution_count": 328,
     "metadata": {},
     "output_type": "execute_result"
    }
   ],
   "source": [
    "Factor_data.columns"
   ]
  },
  {
   "cell_type": "code",
   "execution_count": 329,
   "id": "eeedcd18-dc4d-4d76-a3bc-46b384451ce3",
   "metadata": {
    "execution": {
     "iopub.execute_input": "2024-07-17T08:55:55.037093Z",
     "iopub.status.busy": "2024-07-17T08:55:55.037093Z",
     "iopub.status.idle": "2024-07-17T08:55:55.047971Z",
     "shell.execute_reply": "2024-07-17T08:55:55.047971Z",
     "shell.execute_reply.started": "2024-07-17T08:55:55.037093Z"
    },
    "scrolled": true
   },
   "outputs": [],
   "source": [
    "# ln(self/lag) -> lag 12 months\n",
    "# for month in range(1,13):\n",
    "#     Factor_data[['LOG_('+i+f'/{i}_LAG_{month})' for i in factor_col]] = \\\n",
    "#     np.log(Factor_data[[i for i in factor_col]].values/Factor_data[[f'{i}_LAG_{month}' for i in factor_col]].values)"
   ]
  },
  {
   "cell_type": "code",
   "execution_count": 330,
   "id": "cce3d4d1-22bc-4860-bd05-baf8dfa8ebdb",
   "metadata": {
    "execution": {
     "iopub.execute_input": "2024-07-17T08:55:55.437084Z",
     "iopub.status.busy": "2024-07-17T08:55:55.437084Z",
     "iopub.status.idle": "2024-07-17T08:55:55.445959Z",
     "shell.execute_reply": "2024-07-17T08:55:55.444682Z",
     "shell.execute_reply.started": "2024-07-17T08:55:55.437084Z"
    }
   },
   "outputs": [],
   "source": [
    "# Factor_data.columns"
   ]
  },
  {
   "cell_type": "code",
   "execution_count": 331,
   "id": "583009c4-e602-4f3a-af3d-721ce63ece3c",
   "metadata": {
    "execution": {
     "iopub.execute_input": "2024-07-17T08:55:55.789155Z",
     "iopub.status.busy": "2024-07-17T08:55:55.789155Z",
     "iopub.status.idle": "2024-07-17T08:55:55.798991Z",
     "shell.execute_reply": "2024-07-17T08:55:55.798991Z",
     "shell.execute_reply.started": "2024-07-17T08:55:55.789155Z"
    },
    "scrolled": true
   },
   "outputs": [],
   "source": [
    "# ln(self/lag) MoM lag 1-12 months\n",
    "# for month in range(1,13):\n",
    "#     Factor_data[['LOG_MoM_('+i+f'/{i}_LAG_1)_LAG_{month}' for i in factor_col]] = Factor_data[['LOG_('+i+f'/{i}_LAG_1)' for i in factor_col]].shift(month)"
   ]
  },
  {
   "cell_type": "code",
   "execution_count": 332,
   "id": "7f7a4a70-db28-43c1-a5d4-d452018098c8",
   "metadata": {
    "execution": {
     "iopub.execute_input": "2024-07-17T08:55:56.349903Z",
     "iopub.status.busy": "2024-07-17T08:55:56.349903Z",
     "iopub.status.idle": "2024-07-17T08:55:56.358492Z",
     "shell.execute_reply": "2024-07-17T08:55:56.358492Z",
     "shell.execute_reply.started": "2024-07-17T08:55:56.349903Z"
    }
   },
   "outputs": [],
   "source": [
    "# Factor_data.columns"
   ]
  },
  {
   "cell_type": "code",
   "execution_count": 333,
   "id": "4f0f0189-764d-4b8d-8e95-ca74cf81ffbd",
   "metadata": {
    "execution": {
     "iopub.execute_input": "2024-07-17T08:55:56.829297Z",
     "iopub.status.busy": "2024-07-17T08:55:56.829297Z",
     "iopub.status.idle": "2024-07-17T08:55:56.849045Z",
     "shell.execute_reply": "2024-07-17T08:55:56.849045Z",
     "shell.execute_reply.started": "2024-07-17T08:55:56.829297Z"
    }
   },
   "outputs": [],
   "source": [
    "Gold_Factor_data = \\\n",
    "                pd.merge(\n",
    "                    Gold_data,\n",
    "                    Factor_data,\n",
    "                    left_on = 'Report Date',\n",
    "                    right_on = 'Report Date',\n",
    "                    how = 'left'\n",
    "                )"
   ]
  },
  {
   "cell_type": "code",
   "execution_count": 334,
   "id": "60bcc171-1905-4ede-862b-398349efa745",
   "metadata": {
    "execution": {
     "iopub.execute_input": "2024-07-17T08:55:57.629353Z",
     "iopub.status.busy": "2024-07-17T08:55:57.629353Z",
     "iopub.status.idle": "2024-07-17T08:55:57.638742Z",
     "shell.execute_reply": "2024-07-17T08:55:57.638742Z",
     "shell.execute_reply.started": "2024-07-17T08:55:57.629353Z"
    }
   },
   "outputs": [],
   "source": [
    "Gold_Factor_data.replace([np.inf, -np.inf, np.nan],0,inplace=True)\n",
    "# Gold_Factor_data.replace([np.inf, -np.inf],np.nan,inplace=True)\n",
    "Gold_Factor_data = Gold_Factor_data.dropna(axis='columns')"
   ]
  },
  {
   "cell_type": "code",
   "execution_count": 335,
   "id": "16ffa661-99c8-4de4-a739-75bc6b51b457",
   "metadata": {
    "execution": {
     "iopub.execute_input": "2024-07-17T08:55:57.932647Z",
     "iopub.status.busy": "2024-07-17T08:55:57.932647Z",
     "iopub.status.idle": "2024-07-17T08:55:57.947202Z",
     "shell.execute_reply": "2024-07-17T08:55:57.947202Z",
     "shell.execute_reply.started": "2024-07-17T08:55:57.932647Z"
    }
   },
   "outputs": [
    {
     "data": {
      "text/plain": [
       "Index(['Report Date', 'GoldBar_Sale', '(Inflation)', 'PTT_แก๊สโซฮอล์_95',\n",
       "       'PTT_แก๊สโซฮอล์_91', 'PTT_ดีเซล', 'อัตราแลกเปลี่ยน_USD_THB',\n",
       "       'BOT_Policy_rate_(อัตราดอกเบี้ย นโยบาย)',\n",
       "       'SCB_ออมทรัพย์(อัตราดอกเบี้ย)', 'SCB_ประจำ_3_เดือน(อัตราดอกเบี้ย)',\n",
       "       ...\n",
       "       'LOG_PTT_แก๊สโซฮอล์_95_LAG_1', 'LOG_PTT_แก๊สโซฮอล์_91_LAG_1',\n",
       "       'LOG_PTT_ดีเซล_LAG_1', 'LOG_อัตราแลกเปลี่ยน_USD_THB_LAG_1',\n",
       "       'LOG_BOT_Policy_rate_(อัตราดอกเบี้ย นโยบาย)_LAG_1',\n",
       "       'LOG_SCB_ออมทรัพย์(อัตราดอกเบี้ย)_LAG_1',\n",
       "       'LOG_SCB_ประจำ_3_เดือน(อัตราดอกเบี้ย)_LAG_1',\n",
       "       'LOG_SCB_ประจำ_6_เดือน(อัตราดอกเบี้ย)_LAG_1',\n",
       "       'LOG_SCB_ประจำ_12_เดือน(อัตราดอกเบี้ย)_LAG_1', 'LOG_XAU_USD_LAG_1'],\n",
       "      dtype='object', length=134)"
      ]
     },
     "execution_count": 335,
     "metadata": {},
     "output_type": "execute_result"
    }
   ],
   "source": [
    "Gold_Factor_data.columns"
   ]
  },
  {
   "cell_type": "code",
   "execution_count": 336,
   "id": "b99116e8-09a2-4d5c-85a7-b095a7bce592",
   "metadata": {
    "execution": {
     "iopub.execute_input": "2024-07-17T08:55:58.663654Z",
     "iopub.status.busy": "2024-07-17T08:55:58.663654Z",
     "iopub.status.idle": "2024-07-17T08:55:58.671606Z",
     "shell.execute_reply": "2024-07-17T08:55:58.670574Z",
     "shell.execute_reply.started": "2024-07-17T08:55:58.663654Z"
    }
   },
   "outputs": [
    {
     "name": "stderr",
     "output_type": "stream",
     "text": [
      "C:\\Users\\temp5\\AppData\\Local\\Temp\\ipykernel_5456\\3363949668.py:2: FutureWarning: A value is trying to be set on a copy of a DataFrame or Series through chained assignment using an inplace method.\n",
      "The behavior will change in pandas 3.0. This inplace method will never work because the intermediate object on which we are setting values always behaves as a copy.\n",
      "\n",
      "For example, when doing 'df[col].method(value, inplace=True)', try using 'df.method({col: value}, inplace=True)' or df[col] = df[col].method(value) instead, to perform the operation inplace on the original object.\n",
      "\n",
      "\n",
      "  Gold_Factor_data['LOGIT'].replace([np.inf, -np.inf, np.nan],0,inplace=True)\n"
     ]
    }
   ],
   "source": [
    "Gold_Factor_data['LOGIT'] = np.log(Gold_Factor_data['GoldBar_Sale'].values)\n",
    "Gold_Factor_data['LOGIT'].replace([np.inf, -np.inf, np.nan],0,inplace=True)"
   ]
  },
  {
   "cell_type": "code",
   "execution_count": 337,
   "id": "8857c355-da6f-440d-bc3b-f0e84a86b582",
   "metadata": {
    "execution": {
     "iopub.execute_input": "2024-07-17T08:55:59.133379Z",
     "iopub.status.busy": "2024-07-17T08:55:59.133379Z",
     "iopub.status.idle": "2024-07-17T08:55:59.143536Z",
     "shell.execute_reply": "2024-07-17T08:55:59.143536Z",
     "shell.execute_reply.started": "2024-07-17T08:55:59.133379Z"
    }
   },
   "outputs": [
    {
     "data": {
      "text/plain": [
       "Index(['Report Date', '(Inflation)', 'PTT_แก๊สโซฮอล์_95', 'PTT_แก๊สโซฮอล์_91',\n",
       "       'PTT_ดีเซล', 'อัตราแลกเปลี่ยน_USD_THB',\n",
       "       'BOT_Policy_rate_(อัตราดอกเบี้ย นโยบาย)',\n",
       "       'SCB_ออมทรัพย์(อัตราดอกเบี้ย)', 'SCB_ประจำ_3_เดือน(อัตราดอกเบี้ย)',\n",
       "       'SCB_ประจำ_6_เดือน(อัตราดอกเบี้ย)',\n",
       "       ...\n",
       "       'LOG_PTT_แก๊สโซฮอล์_95_LAG_1', 'LOG_PTT_แก๊สโซฮอล์_91_LAG_1',\n",
       "       'LOG_PTT_ดีเซล_LAG_1', 'LOG_อัตราแลกเปลี่ยน_USD_THB_LAG_1',\n",
       "       'LOG_BOT_Policy_rate_(อัตราดอกเบี้ย นโยบาย)_LAG_1',\n",
       "       'LOG_SCB_ออมทรัพย์(อัตราดอกเบี้ย)_LAG_1',\n",
       "       'LOG_SCB_ประจำ_3_เดือน(อัตราดอกเบี้ย)_LAG_1',\n",
       "       'LOG_SCB_ประจำ_6_เดือน(อัตราดอกเบี้ย)_LAG_1',\n",
       "       'LOG_SCB_ประจำ_12_เดือน(อัตราดอกเบี้ย)_LAG_1', 'LOG_XAU_USD_LAG_1'],\n",
       "      dtype='object', length=133)"
      ]
     },
     "execution_count": 337,
     "metadata": {},
     "output_type": "execute_result"
    }
   ],
   "source": [
    "Factor_data.columns"
   ]
  },
  {
   "cell_type": "code",
   "execution_count": 338,
   "id": "deccd72b-b357-4c5d-8fbd-01361f3ee2ce",
   "metadata": {
    "execution": {
     "iopub.execute_input": "2024-07-17T08:56:00.003159Z",
     "iopub.status.busy": "2024-07-17T08:56:00.003159Z",
     "iopub.status.idle": "2024-07-17T08:56:00.010288Z",
     "shell.execute_reply": "2024-07-17T08:56:00.010288Z",
     "shell.execute_reply.started": "2024-07-17T08:56:00.003159Z"
    }
   },
   "outputs": [
    {
     "data": {
      "text/plain": [
       "0       9.888374\n",
       "1       9.920836\n",
       "2       9.920836\n",
       "3       9.982761\n",
       "4       9.998798\n",
       "         ...    \n",
       "151    10.373491\n",
       "152    10.393600\n",
       "153    10.439981\n",
       "154    10.422281\n",
       "155    10.423768\n",
       "Name: LOGIT, Length: 156, dtype: float64"
      ]
     },
     "execution_count": 338,
     "metadata": {},
     "output_type": "execute_result"
    }
   ],
   "source": [
    "Gold_Factor_data['LOGIT']"
   ]
  },
  {
   "cell_type": "code",
   "execution_count": 339,
   "id": "a82582fb-356c-4d13-a7b1-af901a452494",
   "metadata": {
    "execution": {
     "iopub.execute_input": "2024-07-17T08:56:00.528917Z",
     "iopub.status.busy": "2024-07-17T08:56:00.528917Z",
     "iopub.status.idle": "2024-07-17T08:56:00.884823Z",
     "shell.execute_reply": "2024-07-17T08:56:00.884823Z",
     "shell.execute_reply.started": "2024-07-17T08:56:00.528917Z"
    }
   },
   "outputs": [],
   "source": [
    "Gold_Factor_data.to_excel(\"LAG_RESULT.xlsx\")"
   ]
  },
  {
   "cell_type": "markdown",
   "id": "3d94ee79-aa72-4ad0-8628-253d5bf838b2",
   "metadata": {},
   "source": [
    "เลือกตัวแปรที่สนใจ และเกี่ยวข้องกับทองคำ"
   ]
  },
  {
   "cell_type": "code",
   "execution_count": 340,
   "id": "4ab4ae2d-daeb-4a52-9486-3ad7e3af5a24",
   "metadata": {
    "execution": {
     "iopub.execute_input": "2024-07-17T08:56:01.564647Z",
     "iopub.status.busy": "2024-07-17T08:56:01.564647Z",
     "iopub.status.idle": "2024-07-17T08:56:03.185169Z",
     "shell.execute_reply": "2024-07-17T08:56:03.185169Z",
     "shell.execute_reply.started": "2024-07-17T08:56:01.564647Z"
    },
    "scrolled": true
   },
   "outputs": [
    {
     "data": {
      "text/html": [
       "<div>\n",
       "<style scoped>\n",
       "    .dataframe tbody tr th:only-of-type {\n",
       "        vertical-align: middle;\n",
       "    }\n",
       "\n",
       "    .dataframe tbody tr th {\n",
       "        vertical-align: top;\n",
       "    }\n",
       "\n",
       "    .dataframe thead th {\n",
       "        text-align: right;\n",
       "    }\n",
       "</style>\n",
       "<table border=\"1\" class=\"dataframe\">\n",
       "  <thead>\n",
       "    <tr style=\"text-align: right;\">\n",
       "      <th></th>\n",
       "      <th>Factor</th>\n",
       "      <th>r2</th>\n",
       "      <th>sign</th>\n",
       "      <th>adf</th>\n",
       "      <th>adf_result</th>\n",
       "    </tr>\n",
       "  </thead>\n",
       "  <tbody>\n",
       "    <tr>\n",
       "      <th>0</th>\n",
       "      <td>(Inflation)</td>\n",
       "      <td>0.05187151977125404</td>\n",
       "      <td>+</td>\n",
       "      <td>0.384208513196113</td>\n",
       "      <td>PASS</td>\n",
       "    </tr>\n",
       "    <tr>\n",
       "      <th>1</th>\n",
       "      <td>(Inflation)_LAG_1</td>\n",
       "      <td>0.054405709215588516</td>\n",
       "      <td>+</td>\n",
       "      <td>0.3362302389299119</td>\n",
       "      <td>PASS</td>\n",
       "    </tr>\n",
       "    <tr>\n",
       "      <th>2</th>\n",
       "      <td>(Inflation)_LAG_2</td>\n",
       "      <td>0.055283130021961724</td>\n",
       "      <td>+</td>\n",
       "      <td>0.19741664974776724</td>\n",
       "      <td>PASS</td>\n",
       "    </tr>\n",
       "    <tr>\n",
       "      <th>3</th>\n",
       "      <td>(Inflation)_LAG_3</td>\n",
       "      <td>0.05670107871432539</td>\n",
       "      <td>+</td>\n",
       "      <td>0.3039389850156042</td>\n",
       "      <td>PASS</td>\n",
       "    </tr>\n",
       "    <tr>\n",
       "      <th>4</th>\n",
       "      <td>(Inflation)_LAG_4</td>\n",
       "      <td>0.05645775960343169</td>\n",
       "      <td>+</td>\n",
       "      <td>0.3660969987165338</td>\n",
       "      <td>PASS</td>\n",
       "    </tr>\n",
       "    <tr>\n",
       "      <th>...</th>\n",
       "      <td>...</td>\n",
       "      <td>...</td>\n",
       "      <td>...</td>\n",
       "      <td>...</td>\n",
       "      <td>...</td>\n",
       "    </tr>\n",
       "    <tr>\n",
       "      <th>127</th>\n",
       "      <td>XAU_USD_LAG_7</td>\n",
       "      <td>1.2261600439988918e-05</td>\n",
       "      <td>+</td>\n",
       "      <td>0.0017321172117057229</td>\n",
       "      <td>PASS</td>\n",
       "    </tr>\n",
       "    <tr>\n",
       "      <th>128</th>\n",
       "      <td>XAU_USD_LAG_8</td>\n",
       "      <td>0.0010457091970103027</td>\n",
       "      <td>-</td>\n",
       "      <td>0.0030292580053241135</td>\n",
       "      <td>PASS</td>\n",
       "    </tr>\n",
       "    <tr>\n",
       "      <th>129</th>\n",
       "      <td>XAU_USD_LAG_9</td>\n",
       "      <td>0.0032627510570611973</td>\n",
       "      <td>-</td>\n",
       "      <td>0.004678169178184846</td>\n",
       "      <td>PASS</td>\n",
       "    </tr>\n",
       "    <tr>\n",
       "      <th>130</th>\n",
       "      <td>LOG_XAU_USD</td>\n",
       "      <td>0.0006549384190054353</td>\n",
       "      <td>+</td>\n",
       "      <td>0.19306634129907924</td>\n",
       "      <td>PASS</td>\n",
       "    </tr>\n",
       "    <tr>\n",
       "      <th>131</th>\n",
       "      <td>LOG_XAU_USD_LAG_1</td>\n",
       "      <td>0.004373423165069279</td>\n",
       "      <td>+</td>\n",
       "      <td>0.0</td>\n",
       "      <td>PASS</td>\n",
       "    </tr>\n",
       "  </tbody>\n",
       "</table>\n",
       "<p>132 rows × 5 columns</p>\n",
       "</div>"
      ],
      "text/plain": [
       "                Factor                      r2 sign                    adf  \\\n",
       "0          (Inflation)     0.05187151977125404    +      0.384208513196113   \n",
       "1    (Inflation)_LAG_1    0.054405709215588516    +     0.3362302389299119   \n",
       "2    (Inflation)_LAG_2    0.055283130021961724    +    0.19741664974776724   \n",
       "3    (Inflation)_LAG_3     0.05670107871432539    +     0.3039389850156042   \n",
       "4    (Inflation)_LAG_4     0.05645775960343169    +     0.3660969987165338   \n",
       "..                 ...                     ...  ...                    ...   \n",
       "127      XAU_USD_LAG_7  1.2261600439988918e-05    +  0.0017321172117057229   \n",
       "128      XAU_USD_LAG_8   0.0010457091970103027    -  0.0030292580053241135   \n",
       "129      XAU_USD_LAG_9   0.0032627510570611973    -   0.004678169178184846   \n",
       "130        LOG_XAU_USD   0.0006549384190054353    +    0.19306634129907924   \n",
       "131  LOG_XAU_USD_LAG_1    0.004373423165069279    +                    0.0   \n",
       "\n",
       "    adf_result  \n",
       "0         PASS  \n",
       "1         PASS  \n",
       "2         PASS  \n",
       "3         PASS  \n",
       "4         PASS  \n",
       "..         ...  \n",
       "127       PASS  \n",
       "128       PASS  \n",
       "129       PASS  \n",
       "130       PASS  \n",
       "131       PASS  \n",
       "\n",
       "[132 rows x 5 columns]"
      ]
     },
     "execution_count": 340,
     "metadata": {},
     "output_type": "execute_result"
    }
   ],
   "source": [
    "import statsmodels.api as sm\n",
    "from statsmodels.compat import lzip\n",
    "from statsmodels.tsa.stattools import adfuller\n",
    "main_Factor_list = factor_col\n",
    "# Factor_list = Gold_Factor_data.drop(columns = ['GoldBar_Sale'] ).columns\n",
    "# Factor_list = Gold_Factor_data.drop(columns = ['Report Date','GoldBar_Sale','LOGIT']).columns\n",
    "Factor_list = Gold_Factor_data.drop(columns = ['Report Date','GoldBar_Sale','LOGIT']).columns\n",
    "All_result_table = pd.DataFrame()\n",
    "All_result_table_best = pd.DataFrame()\n",
    "\n",
    "for ix , temp_factor_group in enumerate(main_Factor_list,1):\n",
    "    Factor_group = [i for i in Factor_list if temp_factor_group in i]\n",
    "    r2_list = []\n",
    "    # print(ix , \" \" , temp_factor_group , \" \" , Factor_group)\n",
    "    # print(Factor_group)\n",
    "    temp_result_table = pd.DataFrame()\n",
    "    for temp_factor in Factor_group:\n",
    "        X_train = np.array(Gold_Factor_data[temp_factor].values , dtype=float)\n",
    "        y_train = np.array(Gold_Factor_data['LOGIT'].values , dtype=float)\n",
    "        # y_train = np.array(Gold_Factor_data['GoldBar_Sale'].values , dtype=float)\n",
    "        \n",
    "        X_train_1 = X_train.reshape(-1,1)\n",
    "        y_train_1 = y_train.reshape(-1,1)\n",
    "\n",
    "        # test stationary test 10%\n",
    "        adf = adfuller(X_train)[1]\n",
    "        adf_result = 'PASS' if adfuller(X_train)[1] <= 0.4 else 'FAIL'\n",
    "\n",
    "        #Regression\n",
    "        linear_model = LinearRegression()\n",
    "        linear_model.fit(X_train_1 , y_train_1)\n",
    "\n",
    "        X_train = sm.add_constant(X_train)\n",
    "        reg = sm.OLS(y_train , X_train).fit()\n",
    "        sign = '+' if linear_model.coef_ > 0 else '-'\n",
    "\n",
    "        r2_list.append((temp_factor,reg.rsquared,sign,adf,adf_result))\n",
    "        # print(r2_list)\n",
    "\n",
    "    temp_result_table['Factor'] = np.array(r2_list)[:,0]\n",
    "    temp_result_table['r2'] = np.array(r2_list)[:,1]\n",
    "    temp_result_table['sign'] = np.array(r2_list)[:,2]\n",
    "    temp_result_table['adf'] = np.array(r2_list)[:,3]\n",
    "    temp_result_table['adf_result'] = np.array(r2_list)[:,4]\n",
    "\n",
    "    temp_result_table_sort = temp_result_table.sort_values(['adf_result','r2'], ascending = [False,False]).reset_index(drop=True)\n",
    "\n",
    "    if ix == 1:\n",
    "        All_result_table = temp_result_table\n",
    "        All_result_table_best = temp_result_table_sort.head(1)\n",
    "    else:\n",
    "        All_result_table = pd.concat([All_result_table,temp_result_table], ignore_index = True)\n",
    "        All_result_table_best = pd.concat([All_result_table,temp_result_table_sort.head(1)], ignore_index = True)\n",
    "All_result_table"
   ]
  },
  {
   "cell_type": "code",
   "execution_count": 341,
   "id": "4f3e126d-73de-4c5a-aafd-99183134a482",
   "metadata": {
    "execution": {
     "iopub.execute_input": "2024-07-17T08:56:03.187856Z",
     "iopub.status.busy": "2024-07-17T08:56:03.186859Z",
     "iopub.status.idle": "2024-07-17T08:56:03.192590Z",
     "shell.execute_reply": "2024-07-17T08:56:03.192590Z",
     "shell.execute_reply.started": "2024-07-17T08:56:03.187856Z"
    }
   },
   "outputs": [
    {
     "data": {
      "text/plain": [
       "Index(['(Inflation)', 'PTT_แก๊สโซฮอล์_95', 'PTT_แก๊สโซฮอล์_91', 'PTT_ดีเซล',\n",
       "       'อัตราแลกเปลี่ยน_USD_THB', 'BOT_Policy_rate_(อัตราดอกเบี้ย นโยบาย)',\n",
       "       'SCB_ออมทรัพย์(อัตราดอกเบี้ย)', 'SCB_ประจำ_3_เดือน(อัตราดอกเบี้ย)',\n",
       "       'SCB_ประจำ_6_เดือน(อัตราดอกเบี้ย)', 'SCB_ประจำ_12_เดือน(อัตราดอกเบี้ย)',\n",
       "       ...\n",
       "       'LOG_PTT_แก๊สโซฮอล์_95_LAG_1', 'LOG_PTT_แก๊สโซฮอล์_91_LAG_1',\n",
       "       'LOG_PTT_ดีเซล_LAG_1', 'LOG_อัตราแลกเปลี่ยน_USD_THB_LAG_1',\n",
       "       'LOG_BOT_Policy_rate_(อัตราดอกเบี้ย นโยบาย)_LAG_1',\n",
       "       'LOG_SCB_ออมทรัพย์(อัตราดอกเบี้ย)_LAG_1',\n",
       "       'LOG_SCB_ประจำ_3_เดือน(อัตราดอกเบี้ย)_LAG_1',\n",
       "       'LOG_SCB_ประจำ_6_เดือน(อัตราดอกเบี้ย)_LAG_1',\n",
       "       'LOG_SCB_ประจำ_12_เดือน(อัตราดอกเบี้ย)_LAG_1', 'LOG_XAU_USD_LAG_1'],\n",
       "      dtype='object', length=132)"
      ]
     },
     "execution_count": 341,
     "metadata": {},
     "output_type": "execute_result"
    }
   ],
   "source": [
    "Factor_list"
   ]
  },
  {
   "cell_type": "code",
   "execution_count": 342,
   "id": "bbb2a526-3288-4f57-a601-5bf194c21924",
   "metadata": {
    "execution": {
     "iopub.execute_input": "2024-07-17T08:56:03.452598Z",
     "iopub.status.busy": "2024-07-17T08:56:03.452598Z",
     "iopub.status.idle": "2024-07-17T08:56:03.496755Z",
     "shell.execute_reply": "2024-07-17T08:56:03.496755Z",
     "shell.execute_reply.started": "2024-07-17T08:56:03.452598Z"
    }
   },
   "outputs": [],
   "source": [
    "Pass_Factor_list = All_result_table[All_result_table['adf_result'] == 'PASS']\n",
    "Pass_Factor_list.to_excel(\"ADF_RESULT_PASS.xlsx\")"
   ]
  },
  {
   "cell_type": "code",
   "execution_count": 343,
   "id": "c8785a06-ec1d-4608-be16-41ced38b0c7e",
   "metadata": {
    "execution": {
     "iopub.execute_input": "2024-07-17T08:56:04.363062Z",
     "iopub.status.busy": "2024-07-17T08:56:04.363062Z",
     "iopub.status.idle": "2024-07-17T08:56:04.373341Z",
     "shell.execute_reply": "2024-07-17T08:56:04.373341Z",
     "shell.execute_reply.started": "2024-07-17T08:56:04.363062Z"
    }
   },
   "outputs": [],
   "source": [
    "Pass_Factor_list = Pass_Factor_list['Factor']"
   ]
  },
  {
   "cell_type": "markdown",
   "id": "f67b66d6-bac5-4469-a38c-1385e50f45cb",
   "metadata": {},
   "source": [
    "Overall Model Performance"
   ]
  },
  {
   "cell_type": "code",
   "execution_count": 369,
   "id": "cb10066d-79d1-46f3-9cf1-86143f331423",
   "metadata": {
    "execution": {
     "iopub.execute_input": "2024-07-17T09:07:54.299641Z",
     "iopub.status.busy": "2024-07-17T09:07:54.266673Z",
     "iopub.status.idle": "2024-07-17T09:08:40.066617Z",
     "shell.execute_reply": "2024-07-17T09:08:40.061112Z",
     "shell.execute_reply.started": "2024-07-17T09:07:54.299641Z"
    }
   },
   "outputs": [
    {
     "data": {
      "text/plain": [
       "7503"
      ]
     },
     "execution_count": 369,
     "metadata": {},
     "output_type": "execute_result"
    }
   ],
   "source": [
    "from itertools import combinations\n",
    "# comb_list = [i for i in combinations(Pass_Factor_list , 3)] + [i for i in combinations(Pass_Factor_list, 2)]\n",
    "comb_list = [i for i in combinations(Pass_Factor_list , 2)]\n",
    "# comb_list = [i for i in combinations(Pass_Stat_list['FACTOR_1'], 2)]\n",
    "len(comb_list)\n",
    "# 2 fac\n",
    "#5000 = 2 min\n",
    "#2346 = 50 sec\n",
    "#30856 = 14 min\n",
    "#4186 = 1.34 min/sec\n",
    "#9453 = 3.32 min/sec\n",
    "#17020 = 6.52 min/sec # 7.45.39 min/sec/msec\n",
    "# 1 fac\n",
    "#185 = 12ms"
   ]
  },
  {
   "cell_type": "code",
   "execution_count": null,
   "id": "f0f17ba8-8595-4128-9755-40fe38f2e802",
   "metadata": {},
   "outputs": [],
   "source": []
  },
  {
   "cell_type": "code",
   "execution_count": 346,
   "id": "de4e14c6-1d8b-4533-80b5-d741944013e9",
   "metadata": {
    "execution": {
     "iopub.execute_input": "2024-07-17T08:56:24.769255Z",
     "iopub.status.busy": "2024-07-17T08:56:24.768257Z",
     "iopub.status.idle": "2024-07-17T08:59:09.569915Z",
     "shell.execute_reply": "2024-07-17T08:59:09.569915Z",
     "shell.execute_reply.started": "2024-07-17T08:56:24.769255Z"
    },
    "scrolled": true
   },
   "outputs": [],
   "source": [
    "from sklearn.linear_model import LinearRegression\n",
    "from sklearn.metrics import r2_score\n",
    "from scipy.stats import anderson as AD\n",
    "from statsmodels.stats.outliers_influence import variance_inflation_factor\n",
    "\n",
    "all_stats_results = pd.DataFrame()\n",
    "\n",
    "# y_train = np.array(Gold_Factor_data['GoldBar_Sale'].values , dtype=float)\n",
    "y_train = np.array(Gold_Factor_data['LOGIT'].values , dtype=float)\n",
    "\n",
    "for out_index , comb in enumerate(comb_list,1):\n",
    "    selected_Factor = list(comb)\n",
    "    X_train = np.array(Gold_Factor_data[selected_Factor].values , dtype = float)\n",
    "\n",
    "    linear_model = LinearRegression()\n",
    "    linear_model.fit(X_train , y_train)\n",
    "\n",
    "    X_train = sm.add_constant(X_train)\n",
    "    reg = sm.OLS(y_train , X_train).fit()\n",
    "\n",
    "    X_train = X_train[:,1:]\n",
    "    y_pred = linear_model.predict(X_train)\n",
    "\n",
    "    stats_results = pd.DataFrame()\n",
    "    stats_results[[f'FACTOR_{i+1}' for i in range(len(selected_Factor))]] = np.array([selected_Factor])\n",
    "\n",
    "    coeff_result = reg.summary2().tables[1].iloc[:,:1].transpose().reset_index(drop=True)\n",
    "    # for i in ['const','x1']:\n",
    "    for i in ['const','x1','x2']:\n",
    "        if i in coeff_result.columns:\n",
    "            stats_results[i] = coeff_result[i]\n",
    "        else:\n",
    "            stats_results[i] = None\n",
    "    # P-Value\n",
    "    stats_results[['intercept_p_value'] + [f'FACTOR_{i+1}_p_value' for i in range(len(selected_Factor))]] = reg.pvalues\n",
    "    # ADJ Rsq\n",
    "    r2 = r2_score(y_train,y_pred)\n",
    "    n , p = X_train.shape\n",
    "    adj_r2 = 1 - (( 1 - r2 ) * (n - 1) / (n - p - 1))\n",
    "    stats_results['r2'] = r2\n",
    "    stats_results['adj_r2'] = adj_r2\n",
    "    # F stats\n",
    "    stats_results['Probability of F-Stats'] = reg.summary2().tables[0][3].astype(float)[5]\n",
    "    # Anderson Darling\n",
    "    stats_results['AD'] = AD(reg.resid , dist='norm')[0]\n",
    "    stats_results['AD_criteria'] = [{i:j for i , j in zip(AD( reg.resid , dist='norm')[2],\n",
    "                                                         AD( reg.resid , dist='norm')[1]\n",
    "                                                         )}]\n",
    "    stats_results['AD_criteria_0.05'] = AD( reg.resid , dist='norm')[1][2:3]\n",
    "    # Breusch-Pagan\n",
    "    name_stats = ['Lagrange multiplier statistic','p-value','f-value','f p-value']\n",
    "    test = sm.stats.het_breuschpagan(reg.resid , reg.model.exog )\n",
    "    stats_results['BP_pvalues'] = lzip(name_stats , test )[1][1]\n",
    "    # Durbin Watson\n",
    "    stats_results['Durbin_Watson'] = sm.stats.durbin_watson(reg.resid)\n",
    "    # VIF \n",
    "    VIF_values = [variance_inflation_factor(Gold_Factor_data[selected_Factor].values , i) for i in range(len(selected_Factor))]\n",
    "\n",
    "    for in_index , i in enumerate(selected_Factor , 0 ):\n",
    "        stats_results[f'VIF_Factor_{in_index+1}'] = VIF_values[in_index]\n",
    "    if out_index == 1:\n",
    "        all_stats_results = stats_results\n",
    "    else:\n",
    "        all_stats_results = pd.concat([all_stats_results, stats_results], axis = 0).reset_index(drop=True)\n",
    "all_stats_results = all_stats_results.sort_values('adj_r2', ascending = False)"
   ]
  },
  {
   "cell_type": "code",
   "execution_count": 350,
   "id": "db338ba8-bcc3-4acc-9ebc-5830e791f7d6",
   "metadata": {
    "execution": {
     "iopub.execute_input": "2024-07-17T09:00:09.713978Z",
     "iopub.status.busy": "2024-07-17T09:00:09.713978Z",
     "iopub.status.idle": "2024-07-17T09:00:09.718250Z",
     "shell.execute_reply": "2024-07-17T09:00:09.717248Z",
     "shell.execute_reply.started": "2024-07-17T09:00:09.713978Z"
    }
   },
   "outputs": [],
   "source": [
    "Pass_Stat_list = all_stats_results"
   ]
  },
  {
   "cell_type": "code",
   "execution_count": 348,
   "id": "d110a5a4-d0e1-408e-aa2d-33be4d3aca8d",
   "metadata": {
    "execution": {
     "iopub.execute_input": "2024-07-17T08:59:09.575415Z",
     "iopub.status.busy": "2024-07-17T08:59:09.575415Z",
     "iopub.status.idle": "2024-07-17T08:59:09.684118Z",
     "shell.execute_reply": "2024-07-17T08:59:09.684118Z",
     "shell.execute_reply.started": "2024-07-17T08:59:09.575415Z"
    }
   },
   "outputs": [],
   "source": [
    "#Adj Stats in factor to interesting\n",
    "Pass_Stat_list = all_stats_results[all_stats_results['r2'] >= 0.5]\n",
    "Pass_Stat_list = all_stats_results[all_stats_results['adj_r2'] >= 0.5]\n",
    "Pass_Stat_list = Pass_Stat_list[Pass_Stat_list['Probability of F-Stats'] <= 0.5]\n",
    "Pass_Stat_list = Pass_Stat_list[Pass_Stat_list['AD'] < Pass_Stat_list['AD_criteria_0.05']]\n",
    "Pass_Stat_list = Pass_Stat_list[Pass_Stat_list['BP_pvalues'] > 0.05]\n",
    "# Pass_Stat_list = Pass_Stat_list[Pass_Stat_list['Durbin_Watson'] >= 1] # ใช้ไมได้\n",
    "Pass_Stat_list = Pass_Stat_list[Pass_Stat_list['VIF_Factor_1'] <= 5]\n",
    "Pass_Stat_list = Pass_Stat_list[Pass_Stat_list['VIF_Factor_2'] <= 5]\n",
    "# Pass_Stat_list = Pass_Stat_list[Pass_Stat_list['VIF_Factor_3'] <= 5]\n",
    "# Pass_Stat_list = Pass_Stat_list[Pass_Stat_list['VIF_Factor_4'] <= 5]\n",
    "# Pass_Stat_list = Pass_Stat_list[(Pass_Stat_list['VIF_Factor_3'] <= 5 | (Pass_Stat_list['VIF_Factor_3'].isna()))]"
   ]
  },
  {
   "cell_type": "code",
   "execution_count": 370,
   "id": "07ea6873-2a07-47ff-97eb-7facd0f1b7c3",
   "metadata": {
    "execution": {
     "iopub.execute_input": "2024-07-17T09:15:38.520568Z",
     "iopub.status.busy": "2024-07-17T09:15:38.520568Z",
     "iopub.status.idle": "2024-07-17T09:15:43.538692Z",
     "shell.execute_reply": "2024-07-17T09:15:43.534711Z",
     "shell.execute_reply.started": "2024-07-17T09:15:38.520568Z"
    },
    "scrolled": true
   },
   "outputs": [
    {
     "data": {
      "text/html": [
       "<div>\n",
       "<style scoped>\n",
       "    .dataframe tbody tr th:only-of-type {\n",
       "        vertical-align: middle;\n",
       "    }\n",
       "\n",
       "    .dataframe tbody tr th {\n",
       "        vertical-align: top;\n",
       "    }\n",
       "\n",
       "    .dataframe thead th {\n",
       "        text-align: right;\n",
       "    }\n",
       "</style>\n",
       "<table border=\"1\" class=\"dataframe\">\n",
       "  <thead>\n",
       "    <tr style=\"text-align: right;\">\n",
       "      <th></th>\n",
       "      <th>FACTOR_1</th>\n",
       "      <th>FACTOR_2</th>\n",
       "      <th>const</th>\n",
       "      <th>x1</th>\n",
       "      <th>x2</th>\n",
       "      <th>r2</th>\n",
       "      <th>adj_r2</th>\n",
       "      <th>AD</th>\n",
       "      <th>AD_criteria_0.05</th>\n",
       "      <th>BP_pvalues</th>\n",
       "      <th>Durbin_Watson</th>\n",
       "      <th>Probability of F-Stats</th>\n",
       "      <th>VIF_Factor_1</th>\n",
       "      <th>VIF_Factor_2</th>\n",
       "    </tr>\n",
       "  </thead>\n",
       "  <tbody>\n",
       "    <tr>\n",
       "      <th>5524</th>\n",
       "      <td>BOT_Policy_rate_(อัตราดอกเบี้ย นโยบาย)</td>\n",
       "      <td>LOG_SCB_ประจำ_6_เดือน(อัตราดอกเบี้ย)</td>\n",
       "      <td>9.360097</td>\n",
       "      <td>0.430980</td>\n",
       "      <td>-7.804097e-01</td>\n",
       "      <td>0.719636</td>\n",
       "      <td>0.715971</td>\n",
       "      <td>0.366873</td>\n",
       "      <td>0.768</td>\n",
       "      <td>0.000010</td>\n",
       "      <td>0.423728</td>\n",
       "      <td>5.630000e-43</td>\n",
       "      <td>1.361817</td>\n",
       "      <td>1.361817</td>\n",
       "    </tr>\n",
       "    <tr>\n",
       "      <th>5587</th>\n",
       "      <td>BOT_Policy_rate_(อัตราดอกเบี้ย นโยบาย)_LAG_1</td>\n",
       "      <td>LOG_SCB_ประจำ_6_เดือน(อัตราดอกเบี้ย)_LAG_1</td>\n",
       "      <td>9.457177</td>\n",
       "      <td>0.373935</td>\n",
       "      <td>-7.063548e-01</td>\n",
       "      <td>0.687096</td>\n",
       "      <td>0.683006</td>\n",
       "      <td>0.801631</td>\n",
       "      <td>0.768</td>\n",
       "      <td>0.144062</td>\n",
       "      <td>0.458204</td>\n",
       "      <td>2.510000e-39</td>\n",
       "      <td>1.361141</td>\n",
       "      <td>1.361141</td>\n",
       "    </tr>\n",
       "    <tr>\n",
       "      <th>5525</th>\n",
       "      <td>BOT_Policy_rate_(อัตราดอกเบี้ย นโยบาย)</td>\n",
       "      <td>LOG_SCB_ประจำ_6_เดือน(อัตราดอกเบี้ย)_LAG_1</td>\n",
       "      <td>9.486343</td>\n",
       "      <td>0.351644</td>\n",
       "      <td>-6.649042e-01</td>\n",
       "      <td>0.668586</td>\n",
       "      <td>0.664254</td>\n",
       "      <td>0.567150</td>\n",
       "      <td>0.768</td>\n",
       "      <td>0.000487</td>\n",
       "      <td>0.320584</td>\n",
       "      <td>2.030000e-37</td>\n",
       "      <td>1.343335</td>\n",
       "      <td>1.343335</td>\n",
       "    </tr>\n",
       "    <tr>\n",
       "      <th>5514</th>\n",
       "      <td>BOT_Policy_rate_(อัตราดอกเบี้ย นโยบาย)</td>\n",
       "      <td>LOG_SCB_ประจำ_3_เดือน(อัตราดอกเบี้ย)</td>\n",
       "      <td>9.115071</td>\n",
       "      <td>0.468568</td>\n",
       "      <td>-8.194530e-01</td>\n",
       "      <td>0.654967</td>\n",
       "      <td>0.650457</td>\n",
       "      <td>0.843023</td>\n",
       "      <td>0.768</td>\n",
       "      <td>0.000111</td>\n",
       "      <td>0.415940</td>\n",
       "      <td>4.430000e-36</td>\n",
       "      <td>1.020085</td>\n",
       "      <td>1.020085</td>\n",
       "    </tr>\n",
       "    <tr>\n",
       "      <th>5515</th>\n",
       "      <td>BOT_Policy_rate_(อัตราดอกเบี้ย นโยบาย)</td>\n",
       "      <td>LOG_SCB_ประจำ_3_เดือน(อัตราดอกเบี้ย)_LAG_1</td>\n",
       "      <td>9.254923</td>\n",
       "      <td>0.395681</td>\n",
       "      <td>-7.156216e-01</td>\n",
       "      <td>0.638253</td>\n",
       "      <td>0.633524</td>\n",
       "      <td>0.823575</td>\n",
       "      <td>0.768</td>\n",
       "      <td>0.000104</td>\n",
       "      <td>0.339948</td>\n",
       "      <td>1.650000e-34</td>\n",
       "      <td>1.018077</td>\n",
       "      <td>1.018077</td>\n",
       "    </tr>\n",
       "    <tr>\n",
       "      <th>...</th>\n",
       "      <td>...</td>\n",
       "      <td>...</td>\n",
       "      <td>...</td>\n",
       "      <td>...</td>\n",
       "      <td>...</td>\n",
       "      <td>...</td>\n",
       "      <td>...</td>\n",
       "      <td>...</td>\n",
       "      <td>...</td>\n",
       "      <td>...</td>\n",
       "      <td>...</td>\n",
       "      <td>...</td>\n",
       "      <td>...</td>\n",
       "      <td>...</td>\n",
       "    </tr>\n",
       "    <tr>\n",
       "      <th>7443</th>\n",
       "      <td>XAU_USD</td>\n",
       "      <td>XAU_USD_LAG_7</td>\n",
       "      <td>10.032051</td>\n",
       "      <td>0.000004</td>\n",
       "      <td>8.475805e-07</td>\n",
       "      <td>0.000073</td>\n",
       "      <td>-0.012998</td>\n",
       "      <td>5.590424</td>\n",
       "      <td>0.768</td>\n",
       "      <td>0.424621</td>\n",
       "      <td>0.045976</td>\n",
       "      <td>9.940000e-01</td>\n",
       "      <td>9.861041</td>\n",
       "      <td>9.861041</td>\n",
       "    </tr>\n",
       "    <tr>\n",
       "      <th>1386</th>\n",
       "      <td>LOG_(Inflation)_LAG_1</td>\n",
       "      <td>XAU_USD</td>\n",
       "      <td>10.031867</td>\n",
       "      <td>-0.000368</td>\n",
       "      <td>5.387986e-06</td>\n",
       "      <td>0.000070</td>\n",
       "      <td>-0.013001</td>\n",
       "      <td>5.608431</td>\n",
       "      <td>0.768</td>\n",
       "      <td>0.405791</td>\n",
       "      <td>0.046185</td>\n",
       "      <td>9.950000e-01</td>\n",
       "      <td>1.001403</td>\n",
       "      <td>1.001403</td>\n",
       "    </tr>\n",
       "    <tr>\n",
       "      <th>1175</th>\n",
       "      <td>LOG_(Inflation)</td>\n",
       "      <td>LOG_(Inflation)_LAG_1</td>\n",
       "      <td>10.040313</td>\n",
       "      <td>-0.000836</td>\n",
       "      <td>1.559676e-03</td>\n",
       "      <td>0.000026</td>\n",
       "      <td>-0.013046</td>\n",
       "      <td>5.624130</td>\n",
       "      <td>0.768</td>\n",
       "      <td>0.444576</td>\n",
       "      <td>0.045691</td>\n",
       "      <td>9.980000e-01</td>\n",
       "      <td>2.838502</td>\n",
       "      <td>2.838502</td>\n",
       "    </tr>\n",
       "    <tr>\n",
       "      <th>1393</th>\n",
       "      <td>LOG_(Inflation)_LAG_1</td>\n",
       "      <td>XAU_USD_LAG_7</td>\n",
       "      <td>10.038937</td>\n",
       "      <td>0.000742</td>\n",
       "      <td>9.455612e-07</td>\n",
       "      <td>0.000024</td>\n",
       "      <td>-0.013047</td>\n",
       "      <td>5.601619</td>\n",
       "      <td>0.768</td>\n",
       "      <td>0.322473</td>\n",
       "      <td>0.045747</td>\n",
       "      <td>9.980000e-01</td>\n",
       "      <td>1.005339</td>\n",
       "      <td>1.005339</td>\n",
       "    </tr>\n",
       "    <tr>\n",
       "      <th>1282</th>\n",
       "      <td>LOG_(Inflation)</td>\n",
       "      <td>XAU_USD_LAG_7</td>\n",
       "      <td>10.038373</td>\n",
       "      <td>0.000235</td>\n",
       "      <td>1.279478e-06</td>\n",
       "      <td>0.000014</td>\n",
       "      <td>-0.013058</td>\n",
       "      <td>5.595307</td>\n",
       "      <td>0.768</td>\n",
       "      <td>0.391768</td>\n",
       "      <td>0.045908</td>\n",
       "      <td>9.990000e-01</td>\n",
       "      <td>1.007938</td>\n",
       "      <td>1.007938</td>\n",
       "    </tr>\n",
       "  </tbody>\n",
       "</table>\n",
       "<p>7503 rows × 14 columns</p>\n",
       "</div>"
      ],
      "text/plain": [
       "                                          FACTOR_1  \\\n",
       "5524        BOT_Policy_rate_(อัตราดอกเบี้ย นโยบาย)   \n",
       "5587  BOT_Policy_rate_(อัตราดอกเบี้ย นโยบาย)_LAG_1   \n",
       "5525        BOT_Policy_rate_(อัตราดอกเบี้ย นโยบาย)   \n",
       "5514        BOT_Policy_rate_(อัตราดอกเบี้ย นโยบาย)   \n",
       "5515        BOT_Policy_rate_(อัตราดอกเบี้ย นโยบาย)   \n",
       "...                                            ...   \n",
       "7443                                       XAU_USD   \n",
       "1386                         LOG_(Inflation)_LAG_1   \n",
       "1175                               LOG_(Inflation)   \n",
       "1393                         LOG_(Inflation)_LAG_1   \n",
       "1282                               LOG_(Inflation)   \n",
       "\n",
       "                                        FACTOR_2      const        x1  \\\n",
       "5524        LOG_SCB_ประจำ_6_เดือน(อัตราดอกเบี้ย)   9.360097  0.430980   \n",
       "5587  LOG_SCB_ประจำ_6_เดือน(อัตราดอกเบี้ย)_LAG_1   9.457177  0.373935   \n",
       "5525  LOG_SCB_ประจำ_6_เดือน(อัตราดอกเบี้ย)_LAG_1   9.486343  0.351644   \n",
       "5514        LOG_SCB_ประจำ_3_เดือน(อัตราดอกเบี้ย)   9.115071  0.468568   \n",
       "5515  LOG_SCB_ประจำ_3_เดือน(อัตราดอกเบี้ย)_LAG_1   9.254923  0.395681   \n",
       "...                                          ...        ...       ...   \n",
       "7443                               XAU_USD_LAG_7  10.032051  0.000004   \n",
       "1386                                     XAU_USD  10.031867 -0.000368   \n",
       "1175                       LOG_(Inflation)_LAG_1  10.040313 -0.000836   \n",
       "1393                               XAU_USD_LAG_7  10.038937  0.000742   \n",
       "1282                               XAU_USD_LAG_7  10.038373  0.000235   \n",
       "\n",
       "                x2        r2    adj_r2        AD  AD_criteria_0.05  \\\n",
       "5524 -7.804097e-01  0.719636  0.715971  0.366873             0.768   \n",
       "5587 -7.063548e-01  0.687096  0.683006  0.801631             0.768   \n",
       "5525 -6.649042e-01  0.668586  0.664254  0.567150             0.768   \n",
       "5514 -8.194530e-01  0.654967  0.650457  0.843023             0.768   \n",
       "5515 -7.156216e-01  0.638253  0.633524  0.823575             0.768   \n",
       "...            ...       ...       ...       ...               ...   \n",
       "7443  8.475805e-07  0.000073 -0.012998  5.590424             0.768   \n",
       "1386  5.387986e-06  0.000070 -0.013001  5.608431             0.768   \n",
       "1175  1.559676e-03  0.000026 -0.013046  5.624130             0.768   \n",
       "1393  9.455612e-07  0.000024 -0.013047  5.601619             0.768   \n",
       "1282  1.279478e-06  0.000014 -0.013058  5.595307             0.768   \n",
       "\n",
       "      BP_pvalues  Durbin_Watson  Probability of F-Stats  VIF_Factor_1  \\\n",
       "5524    0.000010       0.423728            5.630000e-43      1.361817   \n",
       "5587    0.144062       0.458204            2.510000e-39      1.361141   \n",
       "5525    0.000487       0.320584            2.030000e-37      1.343335   \n",
       "5514    0.000111       0.415940            4.430000e-36      1.020085   \n",
       "5515    0.000104       0.339948            1.650000e-34      1.018077   \n",
       "...          ...            ...                     ...           ...   \n",
       "7443    0.424621       0.045976            9.940000e-01      9.861041   \n",
       "1386    0.405791       0.046185            9.950000e-01      1.001403   \n",
       "1175    0.444576       0.045691            9.980000e-01      2.838502   \n",
       "1393    0.322473       0.045747            9.980000e-01      1.005339   \n",
       "1282    0.391768       0.045908            9.990000e-01      1.007938   \n",
       "\n",
       "      VIF_Factor_2  \n",
       "5524      1.361817  \n",
       "5587      1.361141  \n",
       "5525      1.343335  \n",
       "5514      1.020085  \n",
       "5515      1.018077  \n",
       "...            ...  \n",
       "7443      9.861041  \n",
       "1386      1.001403  \n",
       "1175      2.838502  \n",
       "1393      1.005339  \n",
       "1282      1.007938  \n",
       "\n",
       "[7503 rows x 14 columns]"
      ]
     },
     "execution_count": 370,
     "metadata": {},
     "output_type": "execute_result"
    }
   ],
   "source": [
    "# Pass_Stat_list['adj_r2'].max()\n",
    "# Pass_Stat_list[Pass_Stat_list['adj_r2'].values == Pass_Stat_list['adj_r2'].max()]\n",
    "# Pass_Stat_list.describe()\n",
    "# Pass_Stat_list.info()\n",
    "Pass_Stat_list[['FACTOR_1','FACTOR_2','const','x1','x2','r2','adj_r2','AD','AD_criteria_0.05','BP_pvalues','Durbin_Watson','Probability of F-Stats','VIF_Factor_1','VIF_Factor_2']]\n",
    "# Pass_Stat_list[['FACTOR_1','intercept_p_value','const','x1','r2','adj_r2','AD','AD_criteria_0.05','BP_pvalues','Durbin_Watson','Probability of F-Stats']]\n"
   ]
  },
  {
   "cell_type": "code",
   "execution_count": 156,
   "id": "3bafedd8-ffab-4800-a5a5-15b6e806713c",
   "metadata": {
    "execution": {
     "iopub.execute_input": "2024-07-17T04:11:20.347536Z",
     "iopub.status.busy": "2024-07-17T04:11:20.347536Z",
     "iopub.status.idle": "2024-07-17T04:11:20.369901Z",
     "shell.execute_reply": "2024-07-17T04:11:20.369901Z",
     "shell.execute_reply.started": "2024-07-17T04:11:20.347536Z"
    }
   },
   "outputs": [],
   "source": [
    "Pass_Stat_list.to_excel(\"Pass_Stat_list.xlsx\")"
   ]
  },
  {
   "cell_type": "code",
   "execution_count": 163,
   "id": "72c2fa3f-7512-4075-b6a5-97bfc57f8bd7",
   "metadata": {
    "execution": {
     "iopub.execute_input": "2024-07-17T04:13:24.347220Z",
     "iopub.status.busy": "2024-07-17T04:13:24.347220Z",
     "iopub.status.idle": "2024-07-17T04:13:24.354401Z",
     "shell.execute_reply": "2024-07-17T04:13:24.354401Z",
     "shell.execute_reply.started": "2024-07-17T04:13:24.347220Z"
    }
   },
   "outputs": [],
   "source": [
    "# ตัวแปรที่สนใจ \n",
    "Factor_interested = ['(Inflation)_LAG_6','LOG_SCB_ประจำ_6_เดือน(อัตราดอกเบี้ย)_LAG_1']\n",
    "Factor_value = [9.925955,0.117846,-0.259044]"
   ]
  },
  {
   "cell_type": "code",
   "execution_count": 164,
   "id": "b7da01f1-f2b6-4461-a5b7-47cb46f2045c",
   "metadata": {
    "execution": {
     "iopub.execute_input": "2024-07-17T04:13:24.559229Z",
     "iopub.status.busy": "2024-07-17T04:13:24.559229Z",
     "iopub.status.idle": "2024-07-17T04:13:24.566153Z",
     "shell.execute_reply": "2024-07-17T04:13:24.566153Z",
     "shell.execute_reply.started": "2024-07-17T04:13:24.559229Z"
    }
   },
   "outputs": [],
   "source": [
    "Test_Stat =Pass_Stat_list[(Pass_Stat_list['FACTOR_1'] == '(Inflation)_LAG_6') & (Pass_Stat_list['FACTOR_2'] == 'LOG_SCB_ประจำ_6_เดือน(อัตราดอกเบี้ย)_LAG_1')]"
   ]
  },
  {
   "cell_type": "code",
   "execution_count": 165,
   "id": "c99cc755-1c43-4614-afa6-5dba29b90086",
   "metadata": {
    "execution": {
     "iopub.execute_input": "2024-07-17T04:13:24.836457Z",
     "iopub.status.busy": "2024-07-17T04:13:24.835496Z",
     "iopub.status.idle": "2024-07-17T04:13:24.853551Z",
     "shell.execute_reply": "2024-07-17T04:13:24.853551Z",
     "shell.execute_reply.started": "2024-07-17T04:13:24.836457Z"
    },
    "scrolled": true
   },
   "outputs": [
    {
     "data": {
      "text/plain": [
       "array([[20454.4270702 ],\n",
       "       [18415.00993053],\n",
       "       [18415.00993053],\n",
       "       [18109.70134501],\n",
       "       [17565.50097813],\n",
       "       [17565.50097813],\n",
       "       [20100.77722324],\n",
       "       [19999.40939862],\n",
       "       [19841.55004647],\n",
       "       [20897.51618322],\n",
       "       [21983.75860348],\n",
       "       [22165.85696483],\n",
       "       [22244.36014182],\n",
       "       [22936.47336422],\n",
       "       [23255.66161179],\n",
       "       [23173.58942325],\n",
       "       [23200.91458627],\n",
       "       [22580.5112879 ],\n",
       "       [22794.39912316],\n",
       "       [22713.95478863],\n",
       "       [22821.27716353],\n",
       "       [21213.31416394],\n",
       "       [21109.19208985],\n",
       "       [21432.47820757],\n",
       "       [21306.56332627],\n",
       "       [21056.94845112],\n",
       "       [21356.84026522],\n",
       "       [21231.36975355],\n",
       "       [21281.46925878],\n",
       "       [21056.94845112],\n",
       "       [20614.9879707 ],\n",
       "       [20566.45745407],\n",
       "       [19758.7009984 ],\n",
       "       [19642.61948572],\n",
       "       [19094.85094708],\n",
       "       [19347.11738397],\n",
       "       [19416.15794384],\n",
       "       [19474.92178959],\n",
       "       [19459.46575199],\n",
       "       [20576.08526125],\n",
       "       [20918.37337785],\n",
       "       [21066.80587261],\n",
       "       [21392.03280573],\n",
       "       [21850.6521903 ],\n",
       "       [22083.63590535],\n",
       "       [23013.54262602],\n",
       "       [23258.92572081],\n",
       "       [23149.54520155],\n",
       "       [23423.96629579],\n",
       "       [23479.23965477],\n",
       "       [23204.17101112],\n",
       "       [24017.84486769],\n",
       "       [23820.53193725],\n",
       "       [24074.51959752],\n",
       "       [23933.08283747],\n",
       "       [23403.15983168],\n",
       "       [23020.21306252],\n",
       "       [22246.78318855],\n",
       "       [22038.03382552],\n",
       "       [22038.03382552],\n",
       "       [22038.03382552],\n",
       "       [21908.56133118],\n",
       "       [22090.03680996],\n",
       "       [22064.01999693],\n",
       "       [21882.75825313],\n",
       "       [21373.03121748],\n",
       "       [21147.54442553],\n",
       "       [21373.03121748],\n",
       "       [21550.07073252],\n",
       "       [21626.39302493],\n",
       "       [21626.39302493],\n",
       "       [21677.42466364],\n",
       "       [21575.48152172],\n",
       "       [21651.89380965],\n",
       "       [21550.07073252],\n",
       "       [21524.68987118],\n",
       "       [21474.01779118],\n",
       "       [21524.68987118],\n",
       "       [21550.07073252],\n",
       "       [21147.54442553],\n",
       "       [21222.44112028],\n",
       "       [20924.43653308],\n",
       "       [20826.03449334],\n",
       "       [20801.50637461],\n",
       "       [20875.17753198],\n",
       "       [20826.03449334],\n",
       "       [20998.5430631 ],\n",
       "       [21122.63764452],\n",
       "       [21197.44612876],\n",
       "       [21222.44112028],\n",
       "       [21122.63764452],\n",
       "       [21247.46558467],\n",
       "       [21247.46558467],\n",
       "       [21272.51955669],\n",
       "       [21677.42466364],\n",
       "       [21754.19799606],\n",
       "       [21651.89380965],\n",
       "       [21550.07073252],\n",
       "       [21677.42466364],\n",
       "       [21550.07073252],\n",
       "       [21398.23325035],\n",
       "       [21373.03121748],\n",
       "       [21398.23325035],\n",
       "       [21172.4805754 ],\n",
       "       [21122.63764452],\n",
       "       [21197.44612876],\n",
       "       [21023.30351786],\n",
       "       [22243.68718794],\n",
       "       [22060.94943078],\n",
       "       [22269.91585573],\n",
       "       [22824.97644846],\n",
       "       [24590.92993941],\n",
       "       [24678.02181808],\n",
       "       [25932.55781874],\n",
       "       [25871.50901142],\n",
       "       [26209.06506478],\n",
       "       [26085.81082767],\n",
       "       [25689.22354068],\n",
       "       [24506.37601837],\n",
       "       [24333.70900127],\n",
       "       [25628.74757571],\n",
       "       [25358.36271482],\n",
       "       [25906.89837617],\n",
       "       [26521.33531088],\n",
       "       [26490.09948144],\n",
       "       [26521.33531088],\n",
       "       [26583.91750849],\n",
       "       [26056.64100472],\n",
       "       [26210.62730504],\n",
       "       [26867.36991109],\n",
       "       [27475.73380397],\n",
       "       [27573.04257922],\n",
       "       [26365.52361448],\n",
       "       [26148.92388392],\n",
       "       [26521.33531088],\n",
       "       [26583.91750849],\n",
       "       [26835.72653513],\n",
       "       [26835.72653513],\n",
       "       [27573.04257922],\n",
       "       [32062.30368812],\n",
       "       [32826.9599902 ],\n",
       "       [32826.9599902 ],\n",
       "       [31241.68998553],\n",
       "       [32100.06060728],\n",
       "       [31911.04771584],\n",
       "       [30923.38364098],\n",
       "       [30814.25108587],\n",
       "       [30996.35331927],\n",
       "       [30293.99552516],\n",
       "       [30329.71672274],\n",
       "       [28899.12456548],\n",
       "       [25355.67673397],\n",
       "       [24823.49102355],\n",
       "       [24561.60166873],\n",
       "       [23174.58300639],\n",
       "       [22554.88382678]])"
      ]
     },
     "execution_count": 165,
     "metadata": {},
     "output_type": "execute_result"
    }
   ],
   "source": [
    "New_Predict = (Test_Stat['const'].values + (Test_Stat['x1'].values * Gold_Factor_data[Test_Stat['FACTOR_1']].values) +\\\n",
    "                     (Test_Stat['x2'].values * (Gold_Factor_data[Test_Stat['FACTOR_2']].values)))\n",
    "# New_Predict.to_excel('Test.xlsx')\n",
    "np.exp(New_Predict)"
   ]
  },
  {
   "cell_type": "code",
   "execution_count": 167,
   "id": "c499367c-3384-4bd2-aa71-a6a63568be81",
   "metadata": {
    "execution": {
     "iopub.execute_input": "2024-07-17T04:13:34.843036Z",
     "iopub.status.busy": "2024-07-17T04:13:34.843036Z",
     "iopub.status.idle": "2024-07-17T04:13:34.887282Z",
     "shell.execute_reply": "2024-07-17T04:13:34.887282Z",
     "shell.execute_reply.started": "2024-07-17T04:13:34.843036Z"
    },
    "scrolled": true
   },
   "outputs": [],
   "source": [
    "Prediction_df = pd.DataFrame()\n",
    "Prediction_df['Report Date'] =Gold_Factor_data['Report Date']\n",
    "Prediction_df['Predict GoldBar_Sale price (Forward looking)'] = np.exp(New_Predict)\n",
    "Prediction_df['LOG'] = New_Predict\n",
    "Prediction_df.to_excel('Prediction.xlsx')"
   ]
  },
  {
   "cell_type": "markdown",
   "id": "9e833f8b-73cc-41d6-9da4-5cff3116e35b",
   "metadata": {},
   "source": [
    "Actual data vs Predict data (GoldBar_Sale price in Thailnad) 2 Factor"
   ]
  },
  {
   "cell_type": "code",
   "execution_count": 203,
   "id": "cc059cc6-8d95-41d0-89b2-2048951c5997",
   "metadata": {
    "execution": {
     "iopub.execute_input": "2024-07-17T04:23:34.161986Z",
     "iopub.status.busy": "2024-07-17T04:23:34.160964Z",
     "iopub.status.idle": "2024-07-17T04:23:34.424640Z",
     "shell.execute_reply": "2024-07-17T04:23:34.424640Z",
     "shell.execute_reply.started": "2024-07-17T04:23:34.161986Z"
    }
   },
   "outputs": [
    {
     "data": {
      "image/png": "[encoded data removed]",
      "text/plain": [
       "<Figure size 1200x600 with 1 Axes>"
      ]
     },
     "metadata": {},
     "output_type": "display_data"
    }
   ],
   "source": [
    "plt.figure(figsize=(12,6))\n",
    "plt.plot(Gold_Factor_data['Report Date'],np.log(Gold_Factor_data['GoldBar_Sale']),label='Actual Values', color='blue',marker='o')\n",
    "plt.plot(Prediction_df['Report Date'],np.log(Prediction_df['Predict GoldBar_Sale price (Forward looking)']),label='Predicted Values',\n",
    "         color='red',linestyle='--',marker='x')\n",
    "plt.xlabel('Report Date')\n",
    "plt.ylabel('Value')\n",
    "plt.title('Actual vs Predict values')\n",
    "plt.legend()\n",
    "plt.show()"
   ]
  },
  {
   "cell_type": "code",
   "execution_count": 202,
   "id": "0e4c3735-c1cf-4378-90ba-5de7b3344dce",
   "metadata": {
    "execution": {
     "iopub.execute_input": "2024-07-17T04:22:56.800863Z",
     "iopub.status.busy": "2024-07-17T04:22:56.800863Z",
     "iopub.status.idle": "2024-07-17T04:22:56.808438Z",
     "shell.execute_reply": "2024-07-17T04:22:56.808438Z",
     "shell.execute_reply.started": "2024-07-17T04:22:56.800863Z"
    }
   },
   "outputs": [
    {
     "name": "stdout",
     "output_type": "stream",
     "text": [
      "MAE :  0.09521426489602576\n",
      "MSE :  0.014789767007600823\n",
      "RMSE :  0.12161318599395718\n"
     ]
    }
   ],
   "source": [
    "from sklearn.metrics import mean_absolute_error , mean_squared_error\n",
    "# Mean Absolute Error (MAE)\n",
    "MAE = mean_absolute_error(np.log(Gold_Factor_data['GoldBar_Sale']),np.log(Prediction_df['Predict GoldBar_Sale price (Forward looking)']))\n",
    "# Mean Squared Error (MSE)\n",
    "MSE = mean_squared_error(np.log(Gold_Factor_data['GoldBar_Sale']),np.log(Prediction_df['Predict GoldBar_Sale price (Forward looking)']))\n",
    "# Root Mean Squared Error (RMSE)\n",
    "RMSE = np.sqrt(MSE)\n",
    "print('MAE : ',MAE) # ค่ายิ่งต้ำยิ่งดี\n",
    "print('MSE : ',MSE) # ค่ายิ่งต้ำยิ่งดี\n",
    "print('RMSE : ',RMSE) # ค่ายิ่งต้ำยิ้งดี"
   ]
  },
  {
   "cell_type": "markdown",
   "id": "12e44300-e6b0-4c82-b8b2-a8efd7579401",
   "metadata": {},
   "source": [
    "Version 2"
   ]
  },
  {
   "cell_type": "code",
   "execution_count": 244,
   "id": "7945d9fe-d3f2-4c94-9fbb-bade06bed22f",
   "metadata": {
    "execution": {
     "iopub.execute_input": "2024-07-17T04:47:20.334732Z",
     "iopub.status.busy": "2024-07-17T04:47:20.334732Z",
     "iopub.status.idle": "2024-07-17T04:47:20.344907Z",
     "shell.execute_reply": "2024-07-17T04:47:20.344907Z",
     "shell.execute_reply.started": "2024-07-17T04:47:20.334732Z"
    }
   },
   "outputs": [
    {
     "data": {
      "text/html": [
       "<div>\n",
       "<style scoped>\n",
       "    .dataframe tbody tr th:only-of-type {\n",
       "        vertical-align: middle;\n",
       "    }\n",
       "\n",
       "    .dataframe tbody tr th {\n",
       "        vertical-align: top;\n",
       "    }\n",
       "\n",
       "    .dataframe thead th {\n",
       "        text-align: right;\n",
       "    }\n",
       "</style>\n",
       "<table border=\"1\" class=\"dataframe\">\n",
       "  <thead>\n",
       "    <tr style=\"text-align: right;\">\n",
       "      <th></th>\n",
       "      <th>GoldBar_Sale</th>\n",
       "      <th>(Inflation)_LAG_6</th>\n",
       "      <th>LOG_SCB_ประจำ_6_เดือน(อัตราดอกเบี้ย)_LAG_1</th>\n",
       "    </tr>\n",
       "  </thead>\n",
       "  <tbody>\n",
       "    <tr>\n",
       "      <th>GoldBar_Sale</th>\n",
       "      <td>1.000000</td>\n",
       "      <td>0.240230</td>\n",
       "      <td>-0.525835</td>\n",
       "    </tr>\n",
       "    <tr>\n",
       "      <th>(Inflation)_LAG_6</th>\n",
       "      <td>0.240230</td>\n",
       "      <td>1.000000</td>\n",
       "      <td>0.439577</td>\n",
       "    </tr>\n",
       "    <tr>\n",
       "      <th>LOG_SCB_ประจำ_6_เดือน(อัตราดอกเบี้ย)_LAG_1</th>\n",
       "      <td>-0.525835</td>\n",
       "      <td>0.439577</td>\n",
       "      <td>1.000000</td>\n",
       "    </tr>\n",
       "  </tbody>\n",
       "</table>\n",
       "</div>"
      ],
      "text/plain": [
       "                                            GoldBar_Sale  (Inflation)_LAG_6  \\\n",
       "GoldBar_Sale                                    1.000000           0.240230   \n",
       "(Inflation)_LAG_6                               0.240230           1.000000   \n",
       "LOG_SCB_ประจำ_6_เดือน(อัตราดอกเบี้ย)_LAG_1     -0.525835           0.439577   \n",
       "\n",
       "                                            LOG_SCB_ประจำ_6_เดือน(อัตราดอกเบี้ย)_LAG_1  \n",
       "GoldBar_Sale                                                                 -0.525835  \n",
       "(Inflation)_LAG_6                                                             0.439577  \n",
       "LOG_SCB_ประจำ_6_เดือน(อัตราดอกเบี้ย)_LAG_1                                    1.000000  "
      ]
     },
     "execution_count": 244,
     "metadata": {},
     "output_type": "execute_result"
    }
   ],
   "source": [
    "# Gold_Factor_data[['LOGIT']+Factor_interested].corr()\n",
    "Gold_Factor_data[['GoldBar_Sale']+Factor_interested].corr()"
   ]
  },
  {
   "cell_type": "code",
   "execution_count": 245,
   "id": "9dd2a809-ecf2-48e2-b905-4c69a18f5807",
   "metadata": {
    "execution": {
     "iopub.execute_input": "2024-07-17T04:47:20.784472Z",
     "iopub.status.busy": "2024-07-17T04:47:20.784472Z",
     "iopub.status.idle": "2024-07-17T04:47:21.071163Z",
     "shell.execute_reply": "2024-07-17T04:47:21.071163Z",
     "shell.execute_reply.started": "2024-07-17T04:47:20.784472Z"
    }
   },
   "outputs": [
    {
     "data": {
      "text/plain": [
       "Text(0, 0.5, 'Gold Price')"
      ]
     },
     "execution_count": 245,
     "metadata": {},
     "output_type": "execute_result"
    },
    {
     "data": {
      "image/png": "[encoded data removed]",
      "text/plain": [
       "<Figure size 640x480 with 1 Axes>"
      ]
     },
     "metadata": {},
     "output_type": "display_data"
    }
   ],
   "source": [
    "Gold_Factor_data.plot(x='(Inflation)',y='GoldBar_Sale',style='o')\n",
    "plt.ylabel('Gold Price')"
   ]
  },
  {
   "cell_type": "code",
   "execution_count": 246,
   "id": "06dab90d-919b-42b4-a8f6-bc1aaa3b022b",
   "metadata": {
    "execution": {
     "iopub.execute_input": "2024-07-17T04:47:21.538318Z",
     "iopub.status.busy": "2024-07-17T04:47:21.538318Z",
     "iopub.status.idle": "2024-07-17T04:47:21.547961Z",
     "shell.execute_reply": "2024-07-17T04:47:21.547961Z",
     "shell.execute_reply.started": "2024-07-17T04:47:21.538318Z"
    }
   },
   "outputs": [],
   "source": [
    "from sklearn.linear_model import LinearRegression"
   ]
  },
  {
   "cell_type": "code",
   "execution_count": 247,
   "id": "9be34ed7-858b-42d5-ac0c-58a6c4588c26",
   "metadata": {
    "execution": {
     "iopub.execute_input": "2024-07-17T04:47:22.242810Z",
     "iopub.status.busy": "2024-07-17T04:47:22.242810Z",
     "iopub.status.idle": "2024-07-17T04:47:22.250881Z",
     "shell.execute_reply": "2024-07-17T04:47:22.250277Z",
     "shell.execute_reply.started": "2024-07-17T04:47:22.242810Z"
    }
   },
   "outputs": [],
   "source": [
    "X = Gold_Factor_data[['(Inflation)']]\n",
    "y = np.log(Gold_Factor_data[['GoldBar_Sale']])"
   ]
  },
  {
   "cell_type": "code",
   "execution_count": 248,
   "id": "dc7e38e5-c3e9-45cf-9a7c-77fc6d5827b6",
   "metadata": {
    "execution": {
     "iopub.execute_input": "2024-07-17T04:47:22.651299Z",
     "iopub.status.busy": "2024-07-17T04:47:22.651299Z",
     "iopub.status.idle": "2024-07-17T04:47:22.668590Z",
     "shell.execute_reply": "2024-07-17T04:47:22.667589Z",
     "shell.execute_reply.started": "2024-07-17T04:47:22.651299Z"
    }
   },
   "outputs": [
    {
     "data": {
      "text/html": [
       "<style>#sk-container-id-5 {\n",
       "  /* Definition of color scheme common for light and dark mode */\n",
       "  --sklearn-color-text: black;\n",
       "  --sklearn-color-line: gray;\n",
       "  /* Definition of color scheme for unfitted estimators */\n",
       "  --sklearn-color-unfitted-level-0: #fff5e6;\n",
       "  --sklearn-color-unfitted-level-1: #f6e4d2;\n",
       "  --sklearn-color-unfitted-level-2: #ffe0b3;\n",
       "  --sklearn-color-unfitted-level-3: chocolate;\n",
       "  /* Definition of color scheme for fitted estimators */\n",
       "  --sklearn-color-fitted-level-0: #f0f8ff;\n",
       "  --sklearn-color-fitted-level-1: #d4ebff;\n",
       "  --sklearn-color-fitted-level-2: #b3dbfd;\n",
       "  --sklearn-color-fitted-level-3: cornflowerblue;\n",
       "\n",
       "  /* Specific color for light theme */\n",
       "  --sklearn-color-text-on-default-background: var(--sg-text-color, var(--theme-code-foreground, var(--jp-content-font-color1, black)));\n",
       "  --sklearn-color-background: var(--sg-background-color, var(--theme-background, var(--jp-layout-color0, white)));\n",
       "  --sklearn-color-border-box: var(--sg-text-color, var(--theme-code-foreground, var(--jp-content-font-color1, black)));\n",
       "  --sklearn-color-icon: #696969;\n",
       "\n",
       "  @media (prefers-color-scheme: dark) {\n",
       "    /* Redefinition of color scheme for dark theme */\n",
       "    --sklearn-color-text-on-default-background: var(--sg-text-color, var(--theme-code-foreground, var(--jp-content-font-color1, white)));\n",
       "    --sklearn-color-background: var(--sg-background-color, var(--theme-background, var(--jp-layout-color0, #111)));\n",
       "    --sklearn-color-border-box: var(--sg-text-color, var(--theme-code-foreground, var(--jp-content-font-color1, white)));\n",
       "    --sklearn-color-icon: #878787;\n",
       "  }\n",
       "}\n",
       "\n",
       "#sk-container-id-5 {\n",
       "  color: var(--sklearn-color-text);\n",
       "}\n",
       "\n",
       "#sk-container-id-5 pre {\n",
       "  padding: 0;\n",
       "}\n",
       "\n",
       "#sk-container-id-5 input.sk-hidden--visually {\n",
       "  border: 0;\n",
       "  clip: rect(1px 1px 1px 1px);\n",
       "  clip: rect(1px, 1px, 1px, 1px);\n",
       "  height: 1px;\n",
       "  margin: -1px;\n",
       "  overflow: hidden;\n",
       "  padding: 0;\n",
       "  position: absolute;\n",
       "  width: 1px;\n",
       "}\n",
       "\n",
       "#sk-container-id-5 div.sk-dashed-wrapped {\n",
       "  border: 1px dashed var(--sklearn-color-line);\n",
       "  margin: 0 0.4em 0.5em 0.4em;\n",
       "  box-sizing: border-box;\n",
       "  padding-bottom: 0.4em;\n",
       "  background-color: var(--sklearn-color-background);\n",
       "}\n",
       "\n",
       "#sk-container-id-5 div.sk-container {\n",
       "  /* jupyter's `normalize.less` sets `[hidden] { display: none; }`\n",
       "     but bootstrap.min.css set `[hidden] { display: none !important; }`\n",
       "     so we also need the `!important` here to be able to override the\n",
       "     default hidden behavior on the sphinx rendered scikit-learn.org.\n",
       "     See: https://github.com/scikit-learn/scikit-learn/issues/21755 */\n",
       "  display: inline-block !important;\n",
       "  position: relative;\n",
       "}\n",
       "\n",
       "#sk-container-id-5 div.sk-text-repr-fallback {\n",
       "  display: none;\n",
       "}\n",
       "\n",
       "div.sk-parallel-item,\n",
       "div.sk-serial,\n",
       "div.sk-item {\n",
       "  /* draw centered vertical line to link estimators */\n",
       "  background-image: linear-gradient(var(--sklearn-color-text-on-default-background), var(--sklearn-color-text-on-default-background));\n",
       "  background-size: 2px 100%;\n",
       "  background-repeat: no-repeat;\n",
       "  background-position: center center;\n",
       "}\n",
       "\n",
       "/* Parallel-specific style estimator block */\n",
       "\n",
       "#sk-container-id-5 div.sk-parallel-item::after {\n",
       "  content: \"\";\n",
       "  width: 100%;\n",
       "  border-bottom: 2px solid var(--sklearn-color-text-on-default-background);\n",
       "  flex-grow: 1;\n",
       "}\n",
       "\n",
       "#sk-container-id-5 div.sk-parallel {\n",
       "  display: flex;\n",
       "  align-items: stretch;\n",
       "  justify-content: center;\n",
       "  background-color: var(--sklearn-color-background);\n",
       "  position: relative;\n",
       "}\n",
       "\n",
       "#sk-container-id-5 div.sk-parallel-item {\n",
       "  display: flex;\n",
       "  flex-direction: column;\n",
       "}\n",
       "\n",
       "#sk-container-id-5 div.sk-parallel-item:first-child::after {\n",
       "  align-self: flex-end;\n",
       "  width: 50%;\n",
       "}\n",
       "\n",
       "#sk-container-id-5 div.sk-parallel-item:last-child::after {\n",
       "  align-self: flex-start;\n",
       "  width: 50%;\n",
       "}\n",
       "\n",
       "#sk-container-id-5 div.sk-parallel-item:only-child::after {\n",
       "  width: 0;\n",
       "}\n",
       "\n",
       "/* Serial-specific style estimator block */\n",
       "\n",
       "#sk-container-id-5 div.sk-serial {\n",
       "  display: flex;\n",
       "  flex-direction: column;\n",
       "  align-items: center;\n",
       "  background-color: var(--sklearn-color-background);\n",
       "  padding-right: 1em;\n",
       "  padding-left: 1em;\n",
       "}\n",
       "\n",
       "\n",
       "/* Toggleable style: style used for estimator/Pipeline/ColumnTransformer box that is\n",
       "clickable and can be expanded/collapsed.\n",
       "- Pipeline and ColumnTransformer use this feature and define the default style\n",
       "- Estimators will overwrite some part of the style using the `sk-estimator` class\n",
       "*/\n",
       "\n",
       "/* Pipeline and ColumnTransformer style (default) */\n",
       "\n",
       "#sk-container-id-5 div.sk-toggleable {\n",
       "  /* Default theme specific background. It is overwritten whether we have a\n",
       "  specific estimator or a Pipeline/ColumnTransformer */\n",
       "  background-color: var(--sklearn-color-background);\n",
       "}\n",
       "\n",
       "/* Toggleable label */\n",
       "#sk-container-id-5 label.sk-toggleable__label {\n",
       "  cursor: pointer;\n",
       "  display: block;\n",
       "  width: 100%;\n",
       "  margin-bottom: 0;\n",
       "  padding: 0.5em;\n",
       "  box-sizing: border-box;\n",
       "  text-align: center;\n",
       "}\n",
       "\n",
       "#sk-container-id-5 label.sk-toggleable__label-arrow:before {\n",
       "  /* Arrow on the left of the label */\n",
       "  content: \"▸\";\n",
       "  float: left;\n",
       "  margin-right: 0.25em;\n",
       "  color: var(--sklearn-color-icon);\n",
       "}\n",
       "\n",
       "#sk-container-id-5 label.sk-toggleable__label-arrow:hover:before {\n",
       "  color: var(--sklearn-color-text);\n",
       "}\n",
       "\n",
       "/* Toggleable content - dropdown */\n",
       "\n",
       "#sk-container-id-5 div.sk-toggleable__content {\n",
       "  max-height: 0;\n",
       "  max-width: 0;\n",
       "  overflow: hidden;\n",
       "  text-align: left;\n",
       "  /* unfitted */\n",
       "  background-color: var(--sklearn-color-unfitted-level-0);\n",
       "}\n",
       "\n",
       "#sk-container-id-5 div.sk-toggleable__content.fitted {\n",
       "  /* fitted */\n",
       "  background-color: var(--sklearn-color-fitted-level-0);\n",
       "}\n",
       "\n",
       "#sk-container-id-5 div.sk-toggleable__content pre {\n",
       "  margin: 0.2em;\n",
       "  border-radius: 0.25em;\n",
       "  color: var(--sklearn-color-text);\n",
       "  /* unfitted */\n",
       "  background-color: var(--sklearn-color-unfitted-level-0);\n",
       "}\n",
       "\n",
       "#sk-container-id-5 div.sk-toggleable__content.fitted pre {\n",
       "  /* unfitted */\n",
       "  background-color: var(--sklearn-color-fitted-level-0);\n",
       "}\n",
       "\n",
       "#sk-container-id-5 input.sk-toggleable__control:checked~div.sk-toggleable__content {\n",
       "  /* Expand drop-down */\n",
       "  max-height: 200px;\n",
       "  max-width: 100%;\n",
       "  overflow: auto;\n",
       "}\n",
       "\n",
       "#sk-container-id-5 input.sk-toggleable__control:checked~label.sk-toggleable__label-arrow:before {\n",
       "  content: \"▾\";\n",
       "}\n",
       "\n",
       "/* Pipeline/ColumnTransformer-specific style */\n",
       "\n",
       "#sk-container-id-5 div.sk-label input.sk-toggleable__control:checked~label.sk-toggleable__label {\n",
       "  color: var(--sklearn-color-text);\n",
       "  background-color: var(--sklearn-color-unfitted-level-2);\n",
       "}\n",
       "\n",
       "#sk-container-id-5 div.sk-label.fitted input.sk-toggleable__control:checked~label.sk-toggleable__label {\n",
       "  background-color: var(--sklearn-color-fitted-level-2);\n",
       "}\n",
       "\n",
       "/* Estimator-specific style */\n",
       "\n",
       "/* Colorize estimator box */\n",
       "#sk-container-id-5 div.sk-estimator input.sk-toggleable__control:checked~label.sk-toggleable__label {\n",
       "  /* unfitted */\n",
       "  background-color: var(--sklearn-color-unfitted-level-2);\n",
       "}\n",
       "\n",
       "#sk-container-id-5 div.sk-estimator.fitted input.sk-toggleable__control:checked~label.sk-toggleable__label {\n",
       "  /* fitted */\n",
       "  background-color: var(--sklearn-color-fitted-level-2);\n",
       "}\n",
       "\n",
       "#sk-container-id-5 div.sk-label label.sk-toggleable__label,\n",
       "#sk-container-id-5 div.sk-label label {\n",
       "  /* The background is the default theme color */\n",
       "  color: var(--sklearn-color-text-on-default-background);\n",
       "}\n",
       "\n",
       "/* On hover, darken the color of the background */\n",
       "#sk-container-id-5 div.sk-label:hover label.sk-toggleable__label {\n",
       "  color: var(--sklearn-color-text);\n",
       "  background-color: var(--sklearn-color-unfitted-level-2);\n",
       "}\n",
       "\n",
       "/* Label box, darken color on hover, fitted */\n",
       "#sk-container-id-5 div.sk-label.fitted:hover label.sk-toggleable__label.fitted {\n",
       "  color: var(--sklearn-color-text);\n",
       "  background-color: var(--sklearn-color-fitted-level-2);\n",
       "}\n",
       "\n",
       "/* Estimator label */\n",
       "\n",
       "#sk-container-id-5 div.sk-label label {\n",
       "  font-family: monospace;\n",
       "  font-weight: bold;\n",
       "  display: inline-block;\n",
       "  line-height: 1.2em;\n",
       "}\n",
       "\n",
       "#sk-container-id-5 div.sk-label-container {\n",
       "  text-align: center;\n",
       "}\n",
       "\n",
       "/* Estimator-specific */\n",
       "#sk-container-id-5 div.sk-estimator {\n",
       "  font-family: monospace;\n",
       "  border: 1px dotted var(--sklearn-color-border-box);\n",
       "  border-radius: 0.25em;\n",
       "  box-sizing: border-box;\n",
       "  margin-bottom: 0.5em;\n",
       "  /* unfitted */\n",
       "  background-color: var(--sklearn-color-unfitted-level-0);\n",
       "}\n",
       "\n",
       "#sk-container-id-5 div.sk-estimator.fitted {\n",
       "  /* fitted */\n",
       "  background-color: var(--sklearn-color-fitted-level-0);\n",
       "}\n",
       "\n",
       "/* on hover */\n",
       "#sk-container-id-5 div.sk-estimator:hover {\n",
       "  /* unfitted */\n",
       "  background-color: var(--sklearn-color-unfitted-level-2);\n",
       "}\n",
       "\n",
       "#sk-container-id-5 div.sk-estimator.fitted:hover {\n",
       "  /* fitted */\n",
       "  background-color: var(--sklearn-color-fitted-level-2);\n",
       "}\n",
       "\n",
       "/* Specification for estimator info (e.g. \"i\" and \"?\") */\n",
       "\n",
       "/* Common style for \"i\" and \"?\" */\n",
       "\n",
       ".sk-estimator-doc-link,\n",
       "a:link.sk-estimator-doc-link,\n",
       "a:visited.sk-estimator-doc-link {\n",
       "  float: right;\n",
       "  font-size: smaller;\n",
       "  line-height: 1em;\n",
       "  font-family: monospace;\n",
       "  background-color: var(--sklearn-color-background);\n",
       "  border-radius: 1em;\n",
       "  height: 1em;\n",
       "  width: 1em;\n",
       "  text-decoration: none !important;\n",
       "  margin-left: 1ex;\n",
       "  /* unfitted */\n",
       "  border: var(--sklearn-color-unfitted-level-1) 1pt solid;\n",
       "  color: var(--sklearn-color-unfitted-level-1);\n",
       "}\n",
       "\n",
       ".sk-estimator-doc-link.fitted,\n",
       "a:link.sk-estimator-doc-link.fitted,\n",
       "a:visited.sk-estimator-doc-link.fitted {\n",
       "  /* fitted */\n",
       "  border: var(--sklearn-color-fitted-level-1) 1pt solid;\n",
       "  color: var(--sklearn-color-fitted-level-1);\n",
       "}\n",
       "\n",
       "/* On hover */\n",
       "div.sk-estimator:hover .sk-estimator-doc-link:hover,\n",
       ".sk-estimator-doc-link:hover,\n",
       "div.sk-label-container:hover .sk-estimator-doc-link:hover,\n",
       ".sk-estimator-doc-link:hover {\n",
       "  /* unfitted */\n",
       "  background-color: var(--sklearn-color-unfitted-level-3);\n",
       "  color: var(--sklearn-color-background);\n",
       "  text-decoration: none;\n",
       "}\n",
       "\n",
       "div.sk-estimator.fitted:hover .sk-estimator-doc-link.fitted:hover,\n",
       ".sk-estimator-doc-link.fitted:hover,\n",
       "div.sk-label-container:hover .sk-estimator-doc-link.fitted:hover,\n",
       ".sk-estimator-doc-link.fitted:hover {\n",
       "  /* fitted */\n",
       "  background-color: var(--sklearn-color-fitted-level-3);\n",
       "  color: var(--sklearn-color-background);\n",
       "  text-decoration: none;\n",
       "}\n",
       "\n",
       "/* Span, style for the box shown on hovering the info icon */\n",
       ".sk-estimator-doc-link span {\n",
       "  display: none;\n",
       "  z-index: 9999;\n",
       "  position: relative;\n",
       "  font-weight: normal;\n",
       "  right: .2ex;\n",
       "  padding: .5ex;\n",
       "  margin: .5ex;\n",
       "  width: min-content;\n",
       "  min-width: 20ex;\n",
       "  max-width: 50ex;\n",
       "  color: var(--sklearn-color-text);\n",
       "  box-shadow: 2pt 2pt 4pt #999;\n",
       "  /* unfitted */\n",
       "  background: var(--sklearn-color-unfitted-level-0);\n",
       "  border: .5pt solid var(--sklearn-color-unfitted-level-3);\n",
       "}\n",
       "\n",
       ".sk-estimator-doc-link.fitted span {\n",
       "  /* fitted */\n",
       "  background: var(--sklearn-color-fitted-level-0);\n",
       "  border: var(--sklearn-color-fitted-level-3);\n",
       "}\n",
       "\n",
       ".sk-estimator-doc-link:hover span {\n",
       "  display: block;\n",
       "}\n",
       "\n",
       "/* \"?\"-specific style due to the `<a>` HTML tag */\n",
       "\n",
       "#sk-container-id-5 a.estimator_doc_link {\n",
       "  float: right;\n",
       "  font-size: 1rem;\n",
       "  line-height: 1em;\n",
       "  font-family: monospace;\n",
       "  background-color: var(--sklearn-color-background);\n",
       "  border-radius: 1rem;\n",
       "  height: 1rem;\n",
       "  width: 1rem;\n",
       "  text-decoration: none;\n",
       "  /* unfitted */\n",
       "  color: var(--sklearn-color-unfitted-level-1);\n",
       "  border: var(--sklearn-color-unfitted-level-1) 1pt solid;\n",
       "}\n",
       "\n",
       "#sk-container-id-5 a.estimator_doc_link.fitted {\n",
       "  /* fitted */\n",
       "  border: var(--sklearn-color-fitted-level-1) 1pt solid;\n",
       "  color: var(--sklearn-color-fitted-level-1);\n",
       "}\n",
       "\n",
       "/* On hover */\n",
       "#sk-container-id-5 a.estimator_doc_link:hover {\n",
       "  /* unfitted */\n",
       "  background-color: var(--sklearn-color-unfitted-level-3);\n",
       "  color: var(--sklearn-color-background);\n",
       "  text-decoration: none;\n",
       "}\n",
       "\n",
       "#sk-container-id-5 a.estimator_doc_link.fitted:hover {\n",
       "  /* fitted */\n",
       "  background-color: var(--sklearn-color-fitted-level-3);\n",
       "}\n",
       "</style><div id=\"sk-container-id-5\" class=\"sk-top-container\"><div class=\"sk-text-repr-fallback\"><pre>LinearRegression()</pre><b>In a Jupyter environment, please rerun this cell to show the HTML representation or trust the notebook. <br />On GitHub, the HTML representation is unable to render, please try loading this page with nbviewer.org.</b></div><div class=\"sk-container\" hidden><div class=\"sk-item\"><div class=\"sk-estimator fitted sk-toggleable\"><input class=\"sk-toggleable__control sk-hidden--visually\" id=\"sk-estimator-id-5\" type=\"checkbox\" checked><label for=\"sk-estimator-id-5\" class=\"sk-toggleable__label fitted sk-toggleable__label-arrow fitted\">&nbsp;&nbsp;LinearRegression<a class=\"sk-estimator-doc-link fitted\" rel=\"noreferrer\" target=\"_blank\" href=\"https://scikit-learn.org/1.4/modules/generated/sklearn.linear_model.LinearRegression.html\">?<span>Documentation for LinearRegression</span></a><span class=\"sk-estimator-doc-link fitted\">i<span>Fitted</span></span></label><div class=\"sk-toggleable__content fitted\"><pre>LinearRegression()</pre></div> </div></div></div></div>"
      ],
      "text/plain": [
       "LinearRegression()"
      ]
     },
     "execution_count": 248,
     "metadata": {},
     "output_type": "execute_result"
    }
   ],
   "source": [
    "# y = ax + b\n",
    "lrm = LinearRegression()\n",
    "lrm.fit(X,y)"
   ]
  },
  {
   "cell_type": "code",
   "execution_count": 249,
   "id": "4a4023a1-fb31-4ae2-9226-4541cd460506",
   "metadata": {
    "execution": {
     "iopub.execute_input": "2024-07-17T04:47:23.025784Z",
     "iopub.status.busy": "2024-07-17T04:47:23.025784Z",
     "iopub.status.idle": "2024-07-17T04:47:23.040639Z",
     "shell.execute_reply": "2024-07-17T04:47:23.040639Z",
     "shell.execute_reply.started": "2024-07-17T04:47:23.025784Z"
    }
   },
   "outputs": [
    {
     "data": {
      "text/plain": [
       "array([9.98436069])"
      ]
     },
     "execution_count": 249,
     "metadata": {},
     "output_type": "execute_result"
    }
   ],
   "source": [
    "lrm.intercept_ # b"
   ]
  },
  {
   "cell_type": "code",
   "execution_count": 250,
   "id": "2601bb3b-afe1-40fd-b5e4-57afa14339cb",
   "metadata": {
    "execution": {
     "iopub.execute_input": "2024-07-17T04:47:23.394134Z",
     "iopub.status.busy": "2024-07-17T04:47:23.394134Z",
     "iopub.status.idle": "2024-07-17T04:47:23.407510Z",
     "shell.execute_reply": "2024-07-17T04:47:23.407510Z",
     "shell.execute_reply.started": "2024-07-17T04:47:23.394134Z"
    }
   },
   "outputs": [
    {
     "data": {
      "text/plain": [
       "array([[0.04861015]])"
      ]
     },
     "execution_count": 250,
     "metadata": {},
     "output_type": "execute_result"
    }
   ],
   "source": [
    "lrm.coef_ # a"
   ]
  },
  {
   "cell_type": "code",
   "execution_count": 251,
   "id": "bc2d1c32-7bc1-4ba8-8e9c-7d761f8a5a61",
   "metadata": {
    "execution": {
     "iopub.execute_input": "2024-07-17T04:47:23.858220Z",
     "iopub.status.busy": "2024-07-17T04:47:23.858220Z",
     "iopub.status.idle": "2024-07-17T04:47:23.878781Z",
     "shell.execute_reply": "2024-07-17T04:47:23.878781Z",
     "shell.execute_reply.started": "2024-07-17T04:47:23.858220Z"
    },
    "scrolled": true
   },
   "outputs": [
    {
     "data": {
      "text/plain": [
       "array([[10.04852609],\n",
       "       [10.05435931],\n",
       "       [10.06310914],\n",
       "       [10.08449761],\n",
       "       [10.10539997],\n",
       "       [10.10880268],\n",
       "       [10.11026099],\n",
       "       [10.12289962],\n",
       "       [10.12630233],\n",
       "       [10.12484403],\n",
       "       [10.12533013],\n",
       "       [10.1141498 ],\n",
       "       [10.11803861],\n",
       "       [10.1165803 ],\n",
       "       [10.11852471],\n",
       "       [10.08838642],\n",
       "       [10.07915049],\n",
       "       [10.07769218],\n",
       "       [10.07526168],\n",
       "       [10.07040066],\n",
       "       [10.07623388],\n",
       "       [10.07380337],\n",
       "       [10.07477557],\n",
       "       [10.07040066],\n",
       "       [10.06165083],\n",
       "       [10.06067863],\n",
       "       [10.04415118],\n",
       "       [10.04172067],\n",
       "       [10.03005424],\n",
       "       [10.02713763],\n",
       "       [10.02567932],\n",
       "       [10.02081831],\n",
       "       [10.01401289],\n",
       "       [10.0188739 ],\n",
       "       [10.02567932],\n",
       "       [10.02859593],\n",
       "       [10.03491525],\n",
       "       [10.04366508],\n",
       "       [10.04803999],\n",
       "       [10.06505354],\n",
       "       [10.06942846],\n",
       "       [10.06748405],\n",
       "       [10.07234507],\n",
       "       [10.07331727],\n",
       "       [10.06845626],\n",
       "       [10.06553965],\n",
       "       [10.06213694],\n",
       "       [10.06651185],\n",
       "       [10.06408134],\n",
       "       [10.05484541],\n",
       "       [10.04803999],\n",
       "       [10.03394305],\n",
       "       [10.03005424],\n",
       "       [10.03005424],\n",
       "       [10.03005424],\n",
       "       [10.02762373],\n",
       "       [10.03102644],\n",
       "       [10.03054034],\n",
       "       [10.02713763],\n",
       "       [10.0174156 ],\n",
       "       [10.01304068],\n",
       "       [10.0174156 ],\n",
       "       [10.02081831],\n",
       "       [10.02227661],\n",
       "       [10.02227661],\n",
       "       [10.02324882],\n",
       "       [10.02130441],\n",
       "       [10.02276271],\n",
       "       [10.02081831],\n",
       "       [10.02033221],\n",
       "       [10.01936   ],\n",
       "       [10.02033221],\n",
       "       [10.02081831],\n",
       "       [10.01304068],\n",
       "       [10.01449899],\n",
       "       [10.00866577],\n",
       "       [10.00672136],\n",
       "       [10.00623526],\n",
       "       [10.00769357],\n",
       "       [10.00672136],\n",
       "       [10.01012407],\n",
       "       [10.01255458],\n",
       "       [10.01401289],\n",
       "       [10.01449899],\n",
       "       [10.01255458],\n",
       "       [10.01498509],\n",
       "       [10.01498509],\n",
       "       [10.01547119],\n",
       "       [10.02324882],\n",
       "       [10.02470712],\n",
       "       [10.02276271],\n",
       "       [10.02081831],\n",
       "       [10.02324882],\n",
       "       [10.02081831],\n",
       "       [10.0179017 ],\n",
       "       [10.0174156 ],\n",
       "       [10.0179017 ],\n",
       "       [10.01352678],\n",
       "       [10.01255458],\n",
       "       [10.01401289],\n",
       "       [10.01061018],\n",
       "       [10.00769357],\n",
       "       [10.00429086],\n",
       "       [10.00817967],\n",
       "       [10.00574916],\n",
       "       [10.00574916],\n",
       "       [10.00720747],\n",
       "       [10.00817967],\n",
       "       [10.00720747],\n",
       "       [10.01255458],\n",
       "       [10.01061018],\n",
       "       [10.00429086],\n",
       "       [ 9.9848468 ],\n",
       "       [ 9.98193019],\n",
       "       [10.00331865],\n",
       "       [ 9.99894374],\n",
       "       [ 9.99651323],\n",
       "       [ 9.99359662],\n",
       "       [ 9.99311052],\n",
       "       [ 9.99359662],\n",
       "       [ 9.99456883],\n",
       "       [ 9.9863051 ],\n",
       "       [ 9.98873561],\n",
       "       [ 9.99894374],\n",
       "       [10.00817967],\n",
       "       [10.00963797],\n",
       "       [ 9.99116612],\n",
       "       [ 9.9877634 ],\n",
       "       [ 9.99359662],\n",
       "       [ 9.99456883],\n",
       "       [ 9.99845764],\n",
       "       [ 9.99845764],\n",
       "       [10.00963797],\n",
       "       [10.07185897],\n",
       "       [10.081581  ],\n",
       "       [10.081581  ],\n",
       "       [10.09519184],\n",
       "       [10.10637217],\n",
       "       [10.12970505],\n",
       "       [10.13748267],\n",
       "       [10.13602437],\n",
       "       [10.13845487],\n",
       "       [10.14088538],\n",
       "       [10.14137148],\n",
       "       [10.13213555],\n",
       "       [10.07817829],\n",
       "       [10.06942846],\n",
       "       [10.06505354],\n",
       "       [10.05970643],\n",
       "       [10.04852609],\n",
       "       [10.02616542],\n",
       "       [10.02276271],\n",
       "       [10.01498509],\n",
       "       [10.01644339],\n",
       "       [10.01255458],\n",
       "       [10.01255458]])"
      ]
     },
     "execution_count": 251,
     "metadata": {},
     "output_type": "execute_result"
    }
   ],
   "source": [
    "predictions = lrm.predict(X)\n",
    "predictions"
   ]
  },
  {
   "cell_type": "code",
   "execution_count": 252,
   "id": "ee46b00c-0fbe-4b0a-a8da-ebbd1fa12687",
   "metadata": {
    "execution": {
     "iopub.execute_input": "2024-07-17T04:47:24.418549Z",
     "iopub.status.busy": "2024-07-17T04:47:24.418549Z",
     "iopub.status.idle": "2024-07-17T04:47:24.590180Z",
     "shell.execute_reply": "2024-07-17T04:47:24.590180Z",
     "shell.execute_reply.started": "2024-07-17T04:47:24.418549Z"
    }
   },
   "outputs": [
    {
     "data": {
      "text/plain": [
       "[<matplotlib.lines.Line2D at 0x2a033e84b00>]"
      ]
     },
     "execution_count": 252,
     "metadata": {},
     "output_type": "execute_result"
    },
    {
     "data": {
      "image/png": "[encoded data removed]",
      "text/plain": [
       "<Figure size 640x480 with 1 Axes>"
      ]
     },
     "metadata": {},
     "output_type": "display_data"
    }
   ],
   "source": [
    "plt.scatter(X,y,color='black')\n",
    "plt.plot(X,predictions)"
   ]
  },
  {
   "cell_type": "code",
   "execution_count": 253,
   "id": "185bc13e-e0bf-4c7f-9254-be954ed4f1a6",
   "metadata": {
    "execution": {
     "iopub.execute_input": "2024-07-17T04:47:25.057399Z",
     "iopub.status.busy": "2024-07-17T04:47:25.057399Z",
     "iopub.status.idle": "2024-07-17T04:47:25.074641Z",
     "shell.execute_reply": "2024-07-17T04:47:25.073639Z",
     "shell.execute_reply.started": "2024-07-17T04:47:25.057399Z"
    }
   },
   "outputs": [
    {
     "data": {
      "text/plain": [
       "0.14801448868618877"
      ]
     },
     "execution_count": 253,
     "metadata": {},
     "output_type": "execute_result"
    }
   ],
   "source": [
    "from sklearn import metrics\n",
    "metrics.mean_absolute_error(y,predictions)"
   ]
  },
  {
   "cell_type": "code",
   "execution_count": 254,
   "id": "ce359a69-5be6-452e-a7ff-c5feb0335ccf",
   "metadata": {
    "execution": {
     "iopub.execute_input": "2024-07-17T04:47:25.751309Z",
     "iopub.status.busy": "2024-07-17T04:47:25.750314Z",
     "iopub.status.idle": "2024-07-17T04:47:25.762861Z",
     "shell.execute_reply": "2024-07-17T04:47:25.761860Z",
     "shell.execute_reply.started": "2024-07-17T04:47:25.751309Z"
    }
   },
   "outputs": [
    {
     "data": {
      "text/html": [
       "<div>\n",
       "<style scoped>\n",
       "    .dataframe tbody tr th:only-of-type {\n",
       "        vertical-align: middle;\n",
       "    }\n",
       "\n",
       "    .dataframe tbody tr th {\n",
       "        vertical-align: top;\n",
       "    }\n",
       "\n",
       "    .dataframe thead th {\n",
       "        text-align: right;\n",
       "    }\n",
       "</style>\n",
       "<table border=\"1\" class=\"dataframe\">\n",
       "  <thead>\n",
       "    <tr style=\"text-align: right;\">\n",
       "      <th></th>\n",
       "      <th>GoldBar_Sale</th>\n",
       "      <th>(Inflation)_LAG_6</th>\n",
       "      <th>LOG_SCB_ประจำ_6_เดือน(อัตราดอกเบี้ย)_LAG_1</th>\n",
       "    </tr>\n",
       "  </thead>\n",
       "  <tbody>\n",
       "    <tr>\n",
       "      <th>GoldBar_Sale</th>\n",
       "      <td>1.000000</td>\n",
       "      <td>0.240230</td>\n",
       "      <td>-0.525835</td>\n",
       "    </tr>\n",
       "    <tr>\n",
       "      <th>(Inflation)_LAG_6</th>\n",
       "      <td>0.240230</td>\n",
       "      <td>1.000000</td>\n",
       "      <td>0.439577</td>\n",
       "    </tr>\n",
       "    <tr>\n",
       "      <th>LOG_SCB_ประจำ_6_เดือน(อัตราดอกเบี้ย)_LAG_1</th>\n",
       "      <td>-0.525835</td>\n",
       "      <td>0.439577</td>\n",
       "      <td>1.000000</td>\n",
       "    </tr>\n",
       "  </tbody>\n",
       "</table>\n",
       "</div>"
      ],
      "text/plain": [
       "                                            GoldBar_Sale  (Inflation)_LAG_6  \\\n",
       "GoldBar_Sale                                    1.000000           0.240230   \n",
       "(Inflation)_LAG_6                               0.240230           1.000000   \n",
       "LOG_SCB_ประจำ_6_เดือน(อัตราดอกเบี้ย)_LAG_1     -0.525835           0.439577   \n",
       "\n",
       "                                            LOG_SCB_ประจำ_6_เดือน(อัตราดอกเบี้ย)_LAG_1  \n",
       "GoldBar_Sale                                                                 -0.525835  \n",
       "(Inflation)_LAG_6                                                             0.439577  \n",
       "LOG_SCB_ประจำ_6_เดือน(อัตราดอกเบี้ย)_LAG_1                                    1.000000  "
      ]
     },
     "execution_count": 254,
     "metadata": {},
     "output_type": "execute_result"
    }
   ],
   "source": [
    "Gold_Factor_data[['GoldBar_Sale']+Factor_interested].corr()"
   ]
  },
  {
   "cell_type": "code",
   "execution_count": 268,
   "id": "6e29bbb2-4051-437e-864d-693a8aaa4600",
   "metadata": {
    "execution": {
     "iopub.execute_input": "2024-07-17T04:56:00.210648Z",
     "iopub.status.busy": "2024-07-17T04:56:00.210648Z",
     "iopub.status.idle": "2024-07-17T04:56:00.219811Z",
     "shell.execute_reply": "2024-07-17T04:56:00.218810Z",
     "shell.execute_reply.started": "2024-07-17T04:56:00.210648Z"
    }
   },
   "outputs": [],
   "source": [
    "from sklearn.linear_model import LinearRegression\n",
    "X = Gold_Factor_data[Factor_interested]\n",
    "y = np.log(Gold_Factor_data[['GoldBar_Sale']])"
   ]
  },
  {
   "cell_type": "code",
   "execution_count": 269,
   "id": "f58d9934-8d91-4384-bc7f-5afa3266f587",
   "metadata": {
    "execution": {
     "iopub.execute_input": "2024-07-17T04:56:00.803549Z",
     "iopub.status.busy": "2024-07-17T04:56:00.803549Z",
     "iopub.status.idle": "2024-07-17T04:56:00.823911Z",
     "shell.execute_reply": "2024-07-17T04:56:00.822908Z",
     "shell.execute_reply.started": "2024-07-17T04:56:00.803549Z"
    }
   },
   "outputs": [
    {
     "data": {
      "text/html": [
       "<style>#sk-container-id-9 {\n",
       "  /* Definition of color scheme common for light and dark mode */\n",
       "  --sklearn-color-text: black;\n",
       "  --sklearn-color-line: gray;\n",
       "  /* Definition of color scheme for unfitted estimators */\n",
       "  --sklearn-color-unfitted-level-0: #fff5e6;\n",
       "  --sklearn-color-unfitted-level-1: #f6e4d2;\n",
       "  --sklearn-color-unfitted-level-2: #ffe0b3;\n",
       "  --sklearn-color-unfitted-level-3: chocolate;\n",
       "  /* Definition of color scheme for fitted estimators */\n",
       "  --sklearn-color-fitted-level-0: #f0f8ff;\n",
       "  --sklearn-color-fitted-level-1: #d4ebff;\n",
       "  --sklearn-color-fitted-level-2: #b3dbfd;\n",
       "  --sklearn-color-fitted-level-3: cornflowerblue;\n",
       "\n",
       "  /* Specific color for light theme */\n",
       "  --sklearn-color-text-on-default-background: var(--sg-text-color, var(--theme-code-foreground, var(--jp-content-font-color1, black)));\n",
       "  --sklearn-color-background: var(--sg-background-color, var(--theme-background, var(--jp-layout-color0, white)));\n",
       "  --sklearn-color-border-box: var(--sg-text-color, var(--theme-code-foreground, var(--jp-content-font-color1, black)));\n",
       "  --sklearn-color-icon: #696969;\n",
       "\n",
       "  @media (prefers-color-scheme: dark) {\n",
       "    /* Redefinition of color scheme for dark theme */\n",
       "    --sklearn-color-text-on-default-background: var(--sg-text-color, var(--theme-code-foreground, var(--jp-content-font-color1, white)));\n",
       "    --sklearn-color-background: var(--sg-background-color, var(--theme-background, var(--jp-layout-color0, #111)));\n",
       "    --sklearn-color-border-box: var(--sg-text-color, var(--theme-code-foreground, var(--jp-content-font-color1, white)));\n",
       "    --sklearn-color-icon: #878787;\n",
       "  }\n",
       "}\n",
       "\n",
       "#sk-container-id-9 {\n",
       "  color: var(--sklearn-color-text);\n",
       "}\n",
       "\n",
       "#sk-container-id-9 pre {\n",
       "  padding: 0;\n",
       "}\n",
       "\n",
       "#sk-container-id-9 input.sk-hidden--visually {\n",
       "  border: 0;\n",
       "  clip: rect(1px 1px 1px 1px);\n",
       "  clip: rect(1px, 1px, 1px, 1px);\n",
       "  height: 1px;\n",
       "  margin: -1px;\n",
       "  overflow: hidden;\n",
       "  padding: 0;\n",
       "  position: absolute;\n",
       "  width: 1px;\n",
       "}\n",
       "\n",
       "#sk-container-id-9 div.sk-dashed-wrapped {\n",
       "  border: 1px dashed var(--sklearn-color-line);\n",
       "  margin: 0 0.4em 0.5em 0.4em;\n",
       "  box-sizing: border-box;\n",
       "  padding-bottom: 0.4em;\n",
       "  background-color: var(--sklearn-color-background);\n",
       "}\n",
       "\n",
       "#sk-container-id-9 div.sk-container {\n",
       "  /* jupyter's `normalize.less` sets `[hidden] { display: none; }`\n",
       "     but bootstrap.min.css set `[hidden] { display: none !important; }`\n",
       "     so we also need the `!important` here to be able to override the\n",
       "     default hidden behavior on the sphinx rendered scikit-learn.org.\n",
       "     See: https://github.com/scikit-learn/scikit-learn/issues/21755 */\n",
       "  display: inline-block !important;\n",
       "  position: relative;\n",
       "}\n",
       "\n",
       "#sk-container-id-9 div.sk-text-repr-fallback {\n",
       "  display: none;\n",
       "}\n",
       "\n",
       "div.sk-parallel-item,\n",
       "div.sk-serial,\n",
       "div.sk-item {\n",
       "  /* draw centered vertical line to link estimators */\n",
       "  background-image: linear-gradient(var(--sklearn-color-text-on-default-background), var(--sklearn-color-text-on-default-background));\n",
       "  background-size: 2px 100%;\n",
       "  background-repeat: no-repeat;\n",
       "  background-position: center center;\n",
       "}\n",
       "\n",
       "/* Parallel-specific style estimator block */\n",
       "\n",
       "#sk-container-id-9 div.sk-parallel-item::after {\n",
       "  content: \"\";\n",
       "  width: 100%;\n",
       "  border-bottom: 2px solid var(--sklearn-color-text-on-default-background);\n",
       "  flex-grow: 1;\n",
       "}\n",
       "\n",
       "#sk-container-id-9 div.sk-parallel {\n",
       "  display: flex;\n",
       "  align-items: stretch;\n",
       "  justify-content: center;\n",
       "  background-color: var(--sklearn-color-background);\n",
       "  position: relative;\n",
       "}\n",
       "\n",
       "#sk-container-id-9 div.sk-parallel-item {\n",
       "  display: flex;\n",
       "  flex-direction: column;\n",
       "}\n",
       "\n",
       "#sk-container-id-9 div.sk-parallel-item:first-child::after {\n",
       "  align-self: flex-end;\n",
       "  width: 50%;\n",
       "}\n",
       "\n",
       "#sk-container-id-9 div.sk-parallel-item:last-child::after {\n",
       "  align-self: flex-start;\n",
       "  width: 50%;\n",
       "}\n",
       "\n",
       "#sk-container-id-9 div.sk-parallel-item:only-child::after {\n",
       "  width: 0;\n",
       "}\n",
       "\n",
       "/* Serial-specific style estimator block */\n",
       "\n",
       "#sk-container-id-9 div.sk-serial {\n",
       "  display: flex;\n",
       "  flex-direction: column;\n",
       "  align-items: center;\n",
       "  background-color: var(--sklearn-color-background);\n",
       "  padding-right: 1em;\n",
       "  padding-left: 1em;\n",
       "}\n",
       "\n",
       "\n",
       "/* Toggleable style: style used for estimator/Pipeline/ColumnTransformer box that is\n",
       "clickable and can be expanded/collapsed.\n",
       "- Pipeline and ColumnTransformer use this feature and define the default style\n",
       "- Estimators will overwrite some part of the style using the `sk-estimator` class\n",
       "*/\n",
       "\n",
       "/* Pipeline and ColumnTransformer style (default) */\n",
       "\n",
       "#sk-container-id-9 div.sk-toggleable {\n",
       "  /* Default theme specific background. It is overwritten whether we have a\n",
       "  specific estimator or a Pipeline/ColumnTransformer */\n",
       "  background-color: var(--sklearn-color-background);\n",
       "}\n",
       "\n",
       "/* Toggleable label */\n",
       "#sk-container-id-9 label.sk-toggleable__label {\n",
       "  cursor: pointer;\n",
       "  display: block;\n",
       "  width: 100%;\n",
       "  margin-bottom: 0;\n",
       "  padding: 0.5em;\n",
       "  box-sizing: border-box;\n",
       "  text-align: center;\n",
       "}\n",
       "\n",
       "#sk-container-id-9 label.sk-toggleable__label-arrow:before {\n",
       "  /* Arrow on the left of the label */\n",
       "  content: \"▸\";\n",
       "  float: left;\n",
       "  margin-right: 0.25em;\n",
       "  color: var(--sklearn-color-icon);\n",
       "}\n",
       "\n",
       "#sk-container-id-9 label.sk-toggleable__label-arrow:hover:before {\n",
       "  color: var(--sklearn-color-text);\n",
       "}\n",
       "\n",
       "/* Toggleable content - dropdown */\n",
       "\n",
       "#sk-container-id-9 div.sk-toggleable__content {\n",
       "  max-height: 0;\n",
       "  max-width: 0;\n",
       "  overflow: hidden;\n",
       "  text-align: left;\n",
       "  /* unfitted */\n",
       "  background-color: var(--sklearn-color-unfitted-level-0);\n",
       "}\n",
       "\n",
       "#sk-container-id-9 div.sk-toggleable__content.fitted {\n",
       "  /* fitted */\n",
       "  background-color: var(--sklearn-color-fitted-level-0);\n",
       "}\n",
       "\n",
       "#sk-container-id-9 div.sk-toggleable__content pre {\n",
       "  margin: 0.2em;\n",
       "  border-radius: 0.25em;\n",
       "  color: var(--sklearn-color-text);\n",
       "  /* unfitted */\n",
       "  background-color: var(--sklearn-color-unfitted-level-0);\n",
       "}\n",
       "\n",
       "#sk-container-id-9 div.sk-toggleable__content.fitted pre {\n",
       "  /* unfitted */\n",
       "  background-color: var(--sklearn-color-fitted-level-0);\n",
       "}\n",
       "\n",
       "#sk-container-id-9 input.sk-toggleable__control:checked~div.sk-toggleable__content {\n",
       "  /* Expand drop-down */\n",
       "  max-height: 200px;\n",
       "  max-width: 100%;\n",
       "  overflow: auto;\n",
       "}\n",
       "\n",
       "#sk-container-id-9 input.sk-toggleable__control:checked~label.sk-toggleable__label-arrow:before {\n",
       "  content: \"▾\";\n",
       "}\n",
       "\n",
       "/* Pipeline/ColumnTransformer-specific style */\n",
       "\n",
       "#sk-container-id-9 div.sk-label input.sk-toggleable__control:checked~label.sk-toggleable__label {\n",
       "  color: var(--sklearn-color-text);\n",
       "  background-color: var(--sklearn-color-unfitted-level-2);\n",
       "}\n",
       "\n",
       "#sk-container-id-9 div.sk-label.fitted input.sk-toggleable__control:checked~label.sk-toggleable__label {\n",
       "  background-color: var(--sklearn-color-fitted-level-2);\n",
       "}\n",
       "\n",
       "/* Estimator-specific style */\n",
       "\n",
       "/* Colorize estimator box */\n",
       "#sk-container-id-9 div.sk-estimator input.sk-toggleable__control:checked~label.sk-toggleable__label {\n",
       "  /* unfitted */\n",
       "  background-color: var(--sklearn-color-unfitted-level-2);\n",
       "}\n",
       "\n",
       "#sk-container-id-9 div.sk-estimator.fitted input.sk-toggleable__control:checked~label.sk-toggleable__label {\n",
       "  /* fitted */\n",
       "  background-color: var(--sklearn-color-fitted-level-2);\n",
       "}\n",
       "\n",
       "#sk-container-id-9 div.sk-label label.sk-toggleable__label,\n",
       "#sk-container-id-9 div.sk-label label {\n",
       "  /* The background is the default theme color */\n",
       "  color: var(--sklearn-color-text-on-default-background);\n",
       "}\n",
       "\n",
       "/* On hover, darken the color of the background */\n",
       "#sk-container-id-9 div.sk-label:hover label.sk-toggleable__label {\n",
       "  color: var(--sklearn-color-text);\n",
       "  background-color: var(--sklearn-color-unfitted-level-2);\n",
       "}\n",
       "\n",
       "/* Label box, darken color on hover, fitted */\n",
       "#sk-container-id-9 div.sk-label.fitted:hover label.sk-toggleable__label.fitted {\n",
       "  color: var(--sklearn-color-text);\n",
       "  background-color: var(--sklearn-color-fitted-level-2);\n",
       "}\n",
       "\n",
       "/* Estimator label */\n",
       "\n",
       "#sk-container-id-9 div.sk-label label {\n",
       "  font-family: monospace;\n",
       "  font-weight: bold;\n",
       "  display: inline-block;\n",
       "  line-height: 1.2em;\n",
       "}\n",
       "\n",
       "#sk-container-id-9 div.sk-label-container {\n",
       "  text-align: center;\n",
       "}\n",
       "\n",
       "/* Estimator-specific */\n",
       "#sk-container-id-9 div.sk-estimator {\n",
       "  font-family: monospace;\n",
       "  border: 1px dotted var(--sklearn-color-border-box);\n",
       "  border-radius: 0.25em;\n",
       "  box-sizing: border-box;\n",
       "  margin-bottom: 0.5em;\n",
       "  /* unfitted */\n",
       "  background-color: var(--sklearn-color-unfitted-level-0);\n",
       "}\n",
       "\n",
       "#sk-container-id-9 div.sk-estimator.fitted {\n",
       "  /* fitted */\n",
       "  background-color: var(--sklearn-color-fitted-level-0);\n",
       "}\n",
       "\n",
       "/* on hover */\n",
       "#sk-container-id-9 div.sk-estimator:hover {\n",
       "  /* unfitted */\n",
       "  background-color: var(--sklearn-color-unfitted-level-2);\n",
       "}\n",
       "\n",
       "#sk-container-id-9 div.sk-estimator.fitted:hover {\n",
       "  /* fitted */\n",
       "  background-color: var(--sklearn-color-fitted-level-2);\n",
       "}\n",
       "\n",
       "/* Specification for estimator info (e.g. \"i\" and \"?\") */\n",
       "\n",
       "/* Common style for \"i\" and \"?\" */\n",
       "\n",
       ".sk-estimator-doc-link,\n",
       "a:link.sk-estimator-doc-link,\n",
       "a:visited.sk-estimator-doc-link {\n",
       "  float: right;\n",
       "  font-size: smaller;\n",
       "  line-height: 1em;\n",
       "  font-family: monospace;\n",
       "  background-color: var(--sklearn-color-background);\n",
       "  border-radius: 1em;\n",
       "  height: 1em;\n",
       "  width: 1em;\n",
       "  text-decoration: none !important;\n",
       "  margin-left: 1ex;\n",
       "  /* unfitted */\n",
       "  border: var(--sklearn-color-unfitted-level-1) 1pt solid;\n",
       "  color: var(--sklearn-color-unfitted-level-1);\n",
       "}\n",
       "\n",
       ".sk-estimator-doc-link.fitted,\n",
       "a:link.sk-estimator-doc-link.fitted,\n",
       "a:visited.sk-estimator-doc-link.fitted {\n",
       "  /* fitted */\n",
       "  border: var(--sklearn-color-fitted-level-1) 1pt solid;\n",
       "  color: var(--sklearn-color-fitted-level-1);\n",
       "}\n",
       "\n",
       "/* On hover */\n",
       "div.sk-estimator:hover .sk-estimator-doc-link:hover,\n",
       ".sk-estimator-doc-link:hover,\n",
       "div.sk-label-container:hover .sk-estimator-doc-link:hover,\n",
       ".sk-estimator-doc-link:hover {\n",
       "  /* unfitted */\n",
       "  background-color: var(--sklearn-color-unfitted-level-3);\n",
       "  color: var(--sklearn-color-background);\n",
       "  text-decoration: none;\n",
       "}\n",
       "\n",
       "div.sk-estimator.fitted:hover .sk-estimator-doc-link.fitted:hover,\n",
       ".sk-estimator-doc-link.fitted:hover,\n",
       "div.sk-label-container:hover .sk-estimator-doc-link.fitted:hover,\n",
       ".sk-estimator-doc-link.fitted:hover {\n",
       "  /* fitted */\n",
       "  background-color: var(--sklearn-color-fitted-level-3);\n",
       "  color: var(--sklearn-color-background);\n",
       "  text-decoration: none;\n",
       "}\n",
       "\n",
       "/* Span, style for the box shown on hovering the info icon */\n",
       ".sk-estimator-doc-link span {\n",
       "  display: none;\n",
       "  z-index: 9999;\n",
       "  position: relative;\n",
       "  font-weight: normal;\n",
       "  right: .2ex;\n",
       "  padding: .5ex;\n",
       "  margin: .5ex;\n",
       "  width: min-content;\n",
       "  min-width: 20ex;\n",
       "  max-width: 50ex;\n",
       "  color: var(--sklearn-color-text);\n",
       "  box-shadow: 2pt 2pt 4pt #999;\n",
       "  /* unfitted */\n",
       "  background: var(--sklearn-color-unfitted-level-0);\n",
       "  border: .5pt solid var(--sklearn-color-unfitted-level-3);\n",
       "}\n",
       "\n",
       ".sk-estimator-doc-link.fitted span {\n",
       "  /* fitted */\n",
       "  background: var(--sklearn-color-fitted-level-0);\n",
       "  border: var(--sklearn-color-fitted-level-3);\n",
       "}\n",
       "\n",
       ".sk-estimator-doc-link:hover span {\n",
       "  display: block;\n",
       "}\n",
       "\n",
       "/* \"?\"-specific style due to the `<a>` HTML tag */\n",
       "\n",
       "#sk-container-id-9 a.estimator_doc_link {\n",
       "  float: right;\n",
       "  font-size: 1rem;\n",
       "  line-height: 1em;\n",
       "  font-family: monospace;\n",
       "  background-color: var(--sklearn-color-background);\n",
       "  border-radius: 1rem;\n",
       "  height: 1rem;\n",
       "  width: 1rem;\n",
       "  text-decoration: none;\n",
       "  /* unfitted */\n",
       "  color: var(--sklearn-color-unfitted-level-1);\n",
       "  border: var(--sklearn-color-unfitted-level-1) 1pt solid;\n",
       "}\n",
       "\n",
       "#sk-container-id-9 a.estimator_doc_link.fitted {\n",
       "  /* fitted */\n",
       "  border: var(--sklearn-color-fitted-level-1) 1pt solid;\n",
       "  color: var(--sklearn-color-fitted-level-1);\n",
       "}\n",
       "\n",
       "/* On hover */\n",
       "#sk-container-id-9 a.estimator_doc_link:hover {\n",
       "  /* unfitted */\n",
       "  background-color: var(--sklearn-color-unfitted-level-3);\n",
       "  color: var(--sklearn-color-background);\n",
       "  text-decoration: none;\n",
       "}\n",
       "\n",
       "#sk-container-id-9 a.estimator_doc_link.fitted:hover {\n",
       "  /* fitted */\n",
       "  background-color: var(--sklearn-color-fitted-level-3);\n",
       "}\n",
       "</style><div id=\"sk-container-id-9\" class=\"sk-top-container\"><div class=\"sk-text-repr-fallback\"><pre>LinearRegression()</pre><b>In a Jupyter environment, please rerun this cell to show the HTML representation or trust the notebook. <br />On GitHub, the HTML representation is unable to render, please try loading this page with nbviewer.org.</b></div><div class=\"sk-container\" hidden><div class=\"sk-item\"><div class=\"sk-estimator fitted sk-toggleable\"><input class=\"sk-toggleable__control sk-hidden--visually\" id=\"sk-estimator-id-9\" type=\"checkbox\" checked><label for=\"sk-estimator-id-9\" class=\"sk-toggleable__label fitted sk-toggleable__label-arrow fitted\">&nbsp;&nbsp;LinearRegression<a class=\"sk-estimator-doc-link fitted\" rel=\"noreferrer\" target=\"_blank\" href=\"https://scikit-learn.org/1.4/modules/generated/sklearn.linear_model.LinearRegression.html\">?<span>Documentation for LinearRegression</span></a><span class=\"sk-estimator-doc-link fitted\">i<span>Fitted</span></span></label><div class=\"sk-toggleable__content fitted\"><pre>LinearRegression()</pre></div> </div></div></div></div>"
      ],
      "text/plain": [
       "LinearRegression()"
      ]
     },
     "execution_count": 269,
     "metadata": {},
     "output_type": "execute_result"
    }
   ],
   "source": [
    "lrm = LinearRegression()\n",
    "lrm.fit(X,y)"
   ]
  },
  {
   "cell_type": "code",
   "execution_count": 270,
   "id": "32a69a7f-b482-4321-8a07-0017a0caefb2",
   "metadata": {
    "execution": {
     "iopub.execute_input": "2024-07-17T04:56:02.230055Z",
     "iopub.status.busy": "2024-07-17T04:56:02.229058Z",
     "iopub.status.idle": "2024-07-17T04:56:02.238894Z",
     "shell.execute_reply": "2024-07-17T04:56:02.238894Z",
     "shell.execute_reply.started": "2024-07-17T04:56:02.230055Z"
    },
    "scrolled": true
   },
   "outputs": [
    {
     "data": {
      "text/plain": [
       "array([[20454.4270702 ],\n",
       "       [18415.00993053],\n",
       "       [18415.00993053],\n",
       "       [18109.70134501],\n",
       "       [17565.50097813],\n",
       "       [17565.50097813],\n",
       "       [20100.77722324],\n",
       "       [19999.40939862],\n",
       "       [19841.55004647],\n",
       "       [20897.51618322],\n",
       "       [21983.75860348],\n",
       "       [22165.85696483],\n",
       "       [22244.36014182],\n",
       "       [22936.47336422],\n",
       "       [23255.66161179],\n",
       "       [23173.58942325],\n",
       "       [23200.91458627],\n",
       "       [22580.5112879 ],\n",
       "       [22794.39912316],\n",
       "       [22713.95478863],\n",
       "       [22821.27716353],\n",
       "       [21213.31416394],\n",
       "       [21109.19208985],\n",
       "       [21432.47820757],\n",
       "       [21306.56332627],\n",
       "       [21056.94845112],\n",
       "       [21356.84026522],\n",
       "       [21231.36975355],\n",
       "       [21281.46925878],\n",
       "       [21056.94845112],\n",
       "       [20614.9879707 ],\n",
       "       [20566.45745407],\n",
       "       [19758.7009984 ],\n",
       "       [19642.61948572],\n",
       "       [19094.85094708],\n",
       "       [19347.11738397],\n",
       "       [19416.15794384],\n",
       "       [19474.92178959],\n",
       "       [19459.46575199],\n",
       "       [20576.08526125],\n",
       "       [20918.37337785],\n",
       "       [21066.8058726 ],\n",
       "       [21392.03280573],\n",
       "       [21850.6521903 ],\n",
       "       [22083.63590535],\n",
       "       [23013.54262602],\n",
       "       [23258.92572081],\n",
       "       [23149.54520155],\n",
       "       [23423.96629579],\n",
       "       [23479.23965477],\n",
       "       [23204.17101112],\n",
       "       [24017.84486769],\n",
       "       [23820.53193725],\n",
       "       [24074.51959752],\n",
       "       [23933.08283747],\n",
       "       [23403.15983168],\n",
       "       [23020.21306252],\n",
       "       [22246.78318855],\n",
       "       [22038.03382552],\n",
       "       [22038.03382552],\n",
       "       [22038.03382552],\n",
       "       [21908.56133118],\n",
       "       [22090.03680996],\n",
       "       [22064.01999693],\n",
       "       [21882.75825313],\n",
       "       [21373.03121748],\n",
       "       [21147.54442553],\n",
       "       [21373.03121748],\n",
       "       [21550.07073252],\n",
       "       [21626.39302493],\n",
       "       [21626.39302493],\n",
       "       [21677.42466364],\n",
       "       [21575.48152172],\n",
       "       [21651.89380965],\n",
       "       [21550.07073252],\n",
       "       [21524.68987118],\n",
       "       [21474.01779118],\n",
       "       [21524.68987118],\n",
       "       [21550.07073252],\n",
       "       [21147.54442553],\n",
       "       [21222.44112028],\n",
       "       [20924.43653308],\n",
       "       [20826.03449334],\n",
       "       [20801.50637461],\n",
       "       [20875.17753198],\n",
       "       [20826.03449334],\n",
       "       [20998.5430631 ],\n",
       "       [21122.63764452],\n",
       "       [21197.44612876],\n",
       "       [21222.44112028],\n",
       "       [21122.63764452],\n",
       "       [21247.46558467],\n",
       "       [21247.46558467],\n",
       "       [21272.51955669],\n",
       "       [21677.42466364],\n",
       "       [21754.19799606],\n",
       "       [21651.89380965],\n",
       "       [21550.07073252],\n",
       "       [21677.42466364],\n",
       "       [21550.07073252],\n",
       "       [21398.23325035],\n",
       "       [21373.03121748],\n",
       "       [21398.23325035],\n",
       "       [21172.4805754 ],\n",
       "       [21122.63764452],\n",
       "       [21197.44612876],\n",
       "       [21023.30351786],\n",
       "       [22243.68718794],\n",
       "       [22060.94943078],\n",
       "       [22269.91585573],\n",
       "       [22824.97644846],\n",
       "       [24590.92993941],\n",
       "       [24678.02181808],\n",
       "       [25932.55781874],\n",
       "       [25871.50901142],\n",
       "       [26209.06506478],\n",
       "       [26085.81082767],\n",
       "       [25689.22354068],\n",
       "       [24506.37601837],\n",
       "       [24333.70900127],\n",
       "       [25628.74757571],\n",
       "       [25358.36271482],\n",
       "       [25906.89837617],\n",
       "       [26521.33531088],\n",
       "       [26490.09948144],\n",
       "       [26521.33531088],\n",
       "       [26583.91750849],\n",
       "       [26056.64100472],\n",
       "       [26210.62730504],\n",
       "       [26867.36991109],\n",
       "       [27475.73380397],\n",
       "       [27573.04257922],\n",
       "       [26365.52361448],\n",
       "       [26148.92388392],\n",
       "       [26521.33531088],\n",
       "       [26583.91750849],\n",
       "       [26835.72653513],\n",
       "       [26835.72653513],\n",
       "       [27573.04257922],\n",
       "       [32062.30368812],\n",
       "       [32826.9599902 ],\n",
       "       [32826.9599902 ],\n",
       "       [31241.68998553],\n",
       "       [32100.06060728],\n",
       "       [31911.04771584],\n",
       "       [30923.38364098],\n",
       "       [30814.25108587],\n",
       "       [30996.35331927],\n",
       "       [30293.99552516],\n",
       "       [30329.71672274],\n",
       "       [28899.12456548],\n",
       "       [25355.67673397],\n",
       "       [24823.49102355],\n",
       "       [24561.60166873],\n",
       "       [23174.58300639],\n",
       "       [22554.88382678]])"
      ]
     },
     "execution_count": 270,
     "metadata": {},
     "output_type": "execute_result"
    }
   ],
   "source": [
    "predictions = lrm.predict(X)\n",
    "np.exp(predictions)"
   ]
  },
  {
   "cell_type": "code",
   "execution_count": 271,
   "id": "9c008a8a-a953-4cfe-8c15-ce6888ae72c8",
   "metadata": {
    "execution": {
     "iopub.execute_input": "2024-07-17T04:56:04.806978Z",
     "iopub.status.busy": "2024-07-17T04:56:04.806978Z",
     "iopub.status.idle": "2024-07-17T04:56:04.814448Z",
     "shell.execute_reply": "2024-07-17T04:56:04.814448Z",
     "shell.execute_reply.started": "2024-07-17T04:56:04.806978Z"
    }
   },
   "outputs": [
    {
     "data": {
      "text/plain": [
       "0.09521426489602582"
      ]
     },
     "execution_count": 271,
     "metadata": {},
     "output_type": "execute_result"
    }
   ],
   "source": [
    "from sklearn import metrics\n",
    "metrics.mean_absolute_error(y,predictions) # MAE"
   ]
  },
  {
   "cell_type": "code",
   "execution_count": 272,
   "id": "4c9f999e-fc93-4ac2-8695-508905acbde5",
   "metadata": {
    "execution": {
     "iopub.execute_input": "2024-07-17T04:56:05.505993Z",
     "iopub.status.busy": "2024-07-17T04:56:05.505993Z",
     "iopub.status.idle": "2024-07-17T04:56:05.516062Z",
     "shell.execute_reply": "2024-07-17T04:56:05.516062Z",
     "shell.execute_reply.started": "2024-07-17T04:56:05.505993Z"
    }
   },
   "outputs": [
    {
     "data": {
      "text/plain": [
       "GoldBar_Sale    10.040206\n",
       "dtype: float64"
      ]
     },
     "execution_count": 272,
     "metadata": {},
     "output_type": "execute_result"
    }
   ],
   "source": [
    "y.mean()"
   ]
  },
  {
   "cell_type": "code",
   "execution_count": 273,
   "id": "468386fd-1bf9-400e-afb0-2582fc488e8b",
   "metadata": {
    "execution": {
     "iopub.execute_input": "2024-07-17T04:56:06.070239Z",
     "iopub.status.busy": "2024-07-17T04:56:06.070239Z",
     "iopub.status.idle": "2024-07-17T04:56:06.078770Z",
     "shell.execute_reply": "2024-07-17T04:56:06.078770Z",
     "shell.execute_reply.started": "2024-07-17T04:56:06.070239Z"
    }
   },
   "outputs": [
    {
     "data": {
      "text/plain": [
       "0.014789767007600822"
      ]
     },
     "execution_count": 273,
     "metadata": {},
     "output_type": "execute_result"
    }
   ],
   "source": [
    "metrics.mean_squared_error(y,predictions) # MSE"
   ]
  },
  {
   "cell_type": "code",
   "execution_count": 274,
   "id": "a8884673-c0dd-4d24-b122-0f0e3bd64f98",
   "metadata": {
    "execution": {
     "iopub.execute_input": "2024-07-17T04:56:06.803732Z",
     "iopub.status.busy": "2024-07-17T04:56:06.803732Z",
     "iopub.status.idle": "2024-07-17T04:56:06.816127Z",
     "shell.execute_reply": "2024-07-17T04:56:06.816127Z",
     "shell.execute_reply.started": "2024-07-17T04:56:06.803732Z"
    }
   },
   "outputs": [
    {
     "data": {
      "text/plain": [
       "0.12161318599395718"
      ]
     },
     "execution_count": 274,
     "metadata": {},
     "output_type": "execute_result"
    }
   ],
   "source": [
    "np.sqrt(metrics.mean_squared_error(y,predictions)) #RMSE"
   ]
  },
  {
   "cell_type": "code",
   "execution_count": 275,
   "id": "3df43e7e-be1f-40fe-a8b6-077a55329c15",
   "metadata": {
    "execution": {
     "iopub.execute_input": "2024-07-17T04:56:07.336433Z",
     "iopub.status.busy": "2024-07-17T04:56:07.335435Z",
     "iopub.status.idle": "2024-07-17T04:56:07.345413Z",
     "shell.execute_reply": "2024-07-17T04:56:07.345413Z",
     "shell.execute_reply.started": "2024-07-17T04:56:07.336433Z"
    }
   },
   "outputs": [
    {
     "data": {
      "text/plain": [
       "0.532340099507458"
      ]
     },
     "execution_count": 275,
     "metadata": {},
     "output_type": "execute_result"
    }
   ],
   "source": [
    "lrm.score(X,y) # R-Square"
   ]
  },
  {
   "cell_type": "code",
   "execution_count": null,
   "id": "b9f12183-41fa-4114-a2e7-6881a984f1ea",
   "metadata": {},
   "outputs": [],
   "source": [
    "# MEAN : 10.040206\n",
    "# MAE : 0.09521426489602582 ค่าต่ำ แสดงถึง โมเดลคาดการณ์ได้ดี\n",
    "# MSE : 0.014789767007600822 ค่าต่ำแสดงถึง โมเดลคาดการณ์ได้ดี\n",
    "# RMSE : 0.12161318599395718 # ค่าต่ำแสดงถึง ค่าความคลาดเคลื่อนจากค่าจริง\n",
    "# R-Squared : 0.532340099507458 # โมเดลสามารถอธิบายความแปรผันของตัวแปรตามได้ประมาณ 53.23% \n",
    "# ซึ่งแสดงให้เห็นว่ามีความสัมพันธ์ระหว่างตัวแปรต้นและตัวแปรตาม แต่ยังไม่สูงมากนัก อาจมีปัจจัยอื่นที่ยังไม่ได้ถูกพิจารณา."
   ]
  },
  {
   "cell_type": "markdown",
   "id": "da88b36b-40c2-4899-93e9-7f35420aa94e",
   "metadata": {},
   "source": [
    "OLS Regression Model"
   ]
  },
  {
   "cell_type": "code",
   "execution_count": 212,
   "id": "ec3e632c-e631-452a-b314-f750ba58f598",
   "metadata": {
    "execution": {
     "iopub.execute_input": "2024-07-17T04:26:33.647534Z",
     "iopub.status.busy": "2024-07-17T04:26:33.646537Z",
     "iopub.status.idle": "2024-07-17T04:26:33.651616Z",
     "shell.execute_reply": "2024-07-17T04:26:33.651616Z",
     "shell.execute_reply.started": "2024-07-17T04:26:33.647534Z"
    }
   },
   "outputs": [],
   "source": [
    "import statsmodels.api as sm\n",
    "import statsmodels.formula.api as smf"
   ]
  },
  {
   "cell_type": "code",
   "execution_count": 213,
   "id": "a9876dc1-7721-49f6-a15e-4247fcdbf1b3",
   "metadata": {
    "execution": {
     "iopub.execute_input": "2024-07-17T04:26:33.919705Z",
     "iopub.status.busy": "2024-07-17T04:26:33.919705Z",
     "iopub.status.idle": "2024-07-17T04:26:33.925610Z",
     "shell.execute_reply": "2024-07-17T04:26:33.925610Z",
     "shell.execute_reply.started": "2024-07-17T04:26:33.919705Z"
    }
   },
   "outputs": [],
   "source": [
    "X = Gold_Factor_data[Factor_interested]\n",
    "y = (Gold_Factor_data[['GoldBar_Sale']])"
   ]
  },
  {
   "cell_type": "code",
   "execution_count": 214,
   "id": "51ce95a6-558b-4870-827a-183991f6f954",
   "metadata": {
    "execution": {
     "iopub.execute_input": "2024-07-17T04:26:34.395876Z",
     "iopub.status.busy": "2024-07-17T04:26:34.395876Z",
     "iopub.status.idle": "2024-07-17T04:26:34.403457Z",
     "shell.execute_reply": "2024-07-17T04:26:34.403457Z",
     "shell.execute_reply.started": "2024-07-17T04:26:34.395876Z"
    }
   },
   "outputs": [],
   "source": [
    "model = sm.OLS(y,X)"
   ]
  },
  {
   "cell_type": "code",
   "execution_count": 215,
   "id": "5a66d188-95a7-4dd9-b8e6-1b2c0c910e30",
   "metadata": {
    "execution": {
     "iopub.execute_input": "2024-07-17T04:26:34.764060Z",
     "iopub.status.busy": "2024-07-17T04:26:34.764060Z",
     "iopub.status.idle": "2024-07-17T04:26:34.774009Z",
     "shell.execute_reply": "2024-07-17T04:26:34.774009Z",
     "shell.execute_reply.started": "2024-07-17T04:26:34.764060Z"
    }
   },
   "outputs": [
    {
     "data": {
      "text/plain": [
       "(Inflation)_LAG_6                             15451.463327\n",
       "LOG_SCB_ประจำ_6_เดือน(อัตราดอกเบี้ย)_LAG_1   -13601.743877\n",
       "dtype: float64"
      ]
     },
     "execution_count": 215,
     "metadata": {},
     "output_type": "execute_result"
    }
   ],
   "source": [
    "# model.params # ceof\n",
    "result = model.fit()\n",
    "result.params "
   ]
  },
  {
   "cell_type": "code",
   "execution_count": 216,
   "id": "1830c551-e421-4e13-8bcf-47b0ba0a4789",
   "metadata": {
    "execution": {
     "iopub.execute_input": "2024-07-17T04:26:35.695557Z",
     "iopub.status.busy": "2024-07-17T04:26:35.695557Z",
     "iopub.status.idle": "2024-07-17T04:26:35.721078Z",
     "shell.execute_reply": "2024-07-17T04:26:35.721078Z",
     "shell.execute_reply.started": "2024-07-17T04:26:35.695557Z"
    }
   },
   "outputs": [
    {
     "data": {
      "text/html": [
       "<table class=\"simpletable\">\n",
       "<caption>OLS Regression Results</caption>\n",
       "<tr>\n",
       "  <th>Dep. Variable:</th>      <td>GoldBar_Sale</td>   <th>  R-squared (uncentered):</th>      <td>   0.734</td>\n",
       "</tr>\n",
       "<tr>\n",
       "  <th>Model:</th>                   <td>OLS</td>       <th>  Adj. R-squared (uncentered):</th> <td>   0.730</td>\n",
       "</tr>\n",
       "<tr>\n",
       "  <th>Method:</th>             <td>Least Squares</td>  <th>  F-statistic:       </th>          <td>   212.3</td>\n",
       "</tr>\n",
       "<tr>\n",
       "  <th>Date:</th>             <td>Wed, 17 Jul 2024</td> <th>  Prob (F-statistic):</th>          <td>5.49e-45</td>\n",
       "</tr>\n",
       "<tr>\n",
       "  <th>Time:</th>                 <td>11:26:35</td>     <th>  Log-Likelihood:    </th>          <td> -1689.6</td>\n",
       "</tr>\n",
       "<tr>\n",
       "  <th>No. Observations:</th>      <td>   156</td>      <th>  AIC:               </th>          <td>   3383.</td>\n",
       "</tr>\n",
       "<tr>\n",
       "  <th>Df Residuals:</th>          <td>   154</td>      <th>  BIC:               </th>          <td>   3389.</td>\n",
       "</tr>\n",
       "<tr>\n",
       "  <th>Df Model:</th>              <td>     2</td>      <th>                     </th>              <td> </td>   \n",
       "</tr>\n",
       "<tr>\n",
       "  <th>Covariance Type:</th>      <td>nonrobust</td>    <th>                     </th>              <td> </td>   \n",
       "</tr>\n",
       "</table>\n",
       "<table class=\"simpletable\">\n",
       "<tr>\n",
       "                       <td></td>                         <th>coef</th>     <th>std err</th>      <th>t</th>      <th>P>|t|</th>  <th>[0.025</th>    <th>0.975]</th>  \n",
       "</tr>\n",
       "<tr>\n",
       "  <th>(Inflation)_LAG_6</th>                          <td> 1.545e+04</td> <td>  750.456</td> <td>   20.589</td> <td> 0.000</td> <td>  1.4e+04</td> <td> 1.69e+04</td>\n",
       "</tr>\n",
       "<tr>\n",
       "  <th>LOG_SCB_ประจำ_6_เดือน(อัตราดอกเบี้ย)_LAG_1</th> <td> -1.36e+04</td> <td> 1985.548</td> <td>   -6.850</td> <td> 0.000</td> <td>-1.75e+04</td> <td>-9679.317</td>\n",
       "</tr>\n",
       "</table>\n",
       "<table class=\"simpletable\">\n",
       "<tr>\n",
       "  <th>Omnibus:</th>       <td>19.344</td> <th>  Durbin-Watson:     </th> <td>   0.081</td>\n",
       "</tr>\n",
       "<tr>\n",
       "  <th>Prob(Omnibus):</th> <td> 0.000</td> <th>  Jarque-Bera (JB):  </th> <td>  22.388</td>\n",
       "</tr>\n",
       "<tr>\n",
       "  <th>Skew:</th>          <td>-0.868</td> <th>  Prob(JB):          </th> <td>1.38e-05</td>\n",
       "</tr>\n",
       "<tr>\n",
       "  <th>Kurtosis:</th>      <td> 3.658</td> <th>  Cond. No.          </th> <td>    2.91</td>\n",
       "</tr>\n",
       "</table><br/><br/>Notes:<br/>[1] R² is computed without centering (uncentered) since the model does not contain a constant.<br/>[2] Standard Errors assume that the covariance matrix of the errors is correctly specified."
      ],
      "text/latex": [
       "\\begin{center}\n",
       "\\begin{tabular}{lclc}\n",
       "\\toprule\n",
       "\\textbf{Dep. Variable:}                                   &  GoldBar\\_Sale   & \\textbf{  R-squared (uncentered):}      &     0.734   \\\\\n",
       "\\textbf{Model:}                                           &       OLS        & \\textbf{  Adj. R-squared (uncentered):} &     0.730   \\\\\n",
       "\\textbf{Method:}                                          &  Least Squares   & \\textbf{  F-statistic:       }          &     212.3   \\\\\n",
       "\\textbf{Date:}                                            & Wed, 17 Jul 2024 & \\textbf{  Prob (F-statistic):}          &  5.49e-45   \\\\\n",
       "\\textbf{Time:}                                            &     11:26:35     & \\textbf{  Log-Likelihood:    }          &   -1689.6   \\\\\n",
       "\\textbf{No. Observations:}                                &         156      & \\textbf{  AIC:               }          &     3383.   \\\\\n",
       "\\textbf{Df Residuals:}                                    &         154      & \\textbf{  BIC:               }          &     3389.   \\\\\n",
       "\\textbf{Df Model:}                                        &           2      & \\textbf{                     }          &             \\\\\n",
       "\\textbf{Covariance Type:}                                 &    nonrobust     & \\textbf{                     }          &             \\\\\n",
       "\\bottomrule\n",
       "\\end{tabular}\n",
       "\\begin{tabular}{lcccccc}\n",
       "                                                          & \\textbf{coef} & \\textbf{std err} & \\textbf{t} & \\textbf{P$> |$t$|$} & \\textbf{[0.025} & \\textbf{0.975]}  \\\\\n",
       "\\midrule\n",
       "\\textbf{(Inflation)\\_LAG\\_6}                              &    1.545e+04  &      750.456     &    20.589  &         0.000        &      1.4e+04    &     1.69e+04     \\\\\n",
       "\\textbf{LOG\\_SCB\\_ประจำ\\_6\\_เดือน(อัตราดอกเบี้ย)\\_LAG\\_1} &    -1.36e+04  &     1985.548     &    -6.850  &         0.000        &    -1.75e+04    &    -9679.317     \\\\\n",
       "\\bottomrule\n",
       "\\end{tabular}\n",
       "\\begin{tabular}{lclc}\n",
       "\\textbf{Omnibus:}       & 19.344 & \\textbf{  Durbin-Watson:     } &    0.081  \\\\\n",
       "\\textbf{Prob(Omnibus):} &  0.000 & \\textbf{  Jarque-Bera (JB):  } &   22.388  \\\\\n",
       "\\textbf{Skew:}          & -0.868 & \\textbf{  Prob(JB):          } & 1.38e-05  \\\\\n",
       "\\textbf{Kurtosis:}      &  3.658 & \\textbf{  Cond. No.          } &     2.91  \\\\\n",
       "\\bottomrule\n",
       "\\end{tabular}\n",
       "%\\caption{OLS Regression Results}\n",
       "\\end{center}\n",
       "\n",
       "Notes: \\newline\n",
       " [1] R² is computed without centering (uncentered) since the model does not contain a constant. \\newline\n",
       " [2] Standard Errors assume that the covariance matrix of the errors is correctly specified."
      ],
      "text/plain": [
       "<class 'statsmodels.iolib.summary.Summary'>\n",
       "\"\"\"\n",
       "                                 OLS Regression Results                                \n",
       "=======================================================================================\n",
       "Dep. Variable:           GoldBar_Sale   R-squared (uncentered):                   0.734\n",
       "Model:                            OLS   Adj. R-squared (uncentered):              0.730\n",
       "Method:                 Least Squares   F-statistic:                              212.3\n",
       "Date:                Wed, 17 Jul 2024   Prob (F-statistic):                    5.49e-45\n",
       "Time:                        11:26:35   Log-Likelihood:                         -1689.6\n",
       "No. Observations:                 156   AIC:                                      3383.\n",
       "Df Residuals:                     154   BIC:                                      3389.\n",
       "Df Model:                           2                                                  \n",
       "Covariance Type:            nonrobust                                                  \n",
       "==============================================================================================================\n",
       "                                                 coef    std err          t      P>|t|      [0.025      0.975]\n",
       "--------------------------------------------------------------------------------------------------------------\n",
       "(Inflation)_LAG_6                           1.545e+04    750.456     20.589      0.000     1.4e+04    1.69e+04\n",
       "LOG_SCB_ประจำ_6_เดือน(อัตราดอกเบี้ย)_LAG_1  -1.36e+04   1985.548     -6.850      0.000   -1.75e+04   -9679.317\n",
       "==============================================================================\n",
       "Omnibus:                       19.344   Durbin-Watson:                   0.081\n",
       "Prob(Omnibus):                  0.000   Jarque-Bera (JB):               22.388\n",
       "Skew:                          -0.868   Prob(JB):                     1.38e-05\n",
       "Kurtosis:                       3.658   Cond. No.                         2.91\n",
       "==============================================================================\n",
       "\n",
       "Notes:\n",
       "[1] R² is computed without centering (uncentered) since the model does not contain a constant.\n",
       "[2] Standard Errors assume that the covariance matrix of the errors is correctly specified.\n",
       "\"\"\""
      ]
     },
     "execution_count": 216,
     "metadata": {},
     "output_type": "execute_result"
    }
   ],
   "source": [
    "result.summary()"
   ]
  },
  {
   "cell_type": "markdown",
   "id": "49b4be65-8d39-4689-9bb1-db771a82fe3f",
   "metadata": {},
   "source": [
    "Plot Graph\n",
    "\n",
    "       ! Gold_data -> File\n"
   ]
  },
  {
   "cell_type": "code",
   "execution_count": 218,
   "id": "d8e2a4c0-c64c-4007-a209-70fd229b0c78",
   "metadata": {
    "execution": {
     "iopub.execute_input": "2024-07-17T04:27:06.930695Z",
     "iopub.status.busy": "2024-07-17T04:27:06.929698Z",
     "iopub.status.idle": "2024-07-17T04:27:07.172827Z",
     "shell.execute_reply": "2024-07-17T04:27:07.172827Z",
     "shell.execute_reply.started": "2024-07-17T04:27:06.930695Z"
    }
   },
   "outputs": [
    {
     "data": {
      "text/plain": [
       "<Axes: >"
      ]
     },
     "execution_count": 218,
     "metadata": {},
     "output_type": "execute_result"
    },
    {
     "data": {
      "image/png": "[encoded data removed]",
      "text/plain": [
       "<Figure size 2000x500 with 1 Axes>"
      ]
     },
     "metadata": {},
     "output_type": "display_data"
    }
   ],
   "source": [
    "np.log(Gold_data['GoldBar_Sale']).plot(figsize = (20,5) , legend = True)"
   ]
  },
  {
   "cell_type": "code",
   "execution_count": 219,
   "id": "454d3ba4-669d-4eb0-8524-49a8f737f29c",
   "metadata": {
    "execution": {
     "iopub.execute_input": "2024-07-17T04:27:25.005571Z",
     "iopub.status.busy": "2024-07-17T04:27:25.005571Z",
     "iopub.status.idle": "2024-07-17T04:27:25.407817Z",
     "shell.execute_reply": "2024-07-17T04:27:25.407817Z",
     "shell.execute_reply.started": "2024-07-17T04:27:25.005571Z"
    },
    "scrolled": true
   },
   "outputs": [
    {
     "data": {
      "image/png": "[encoded data removed]",
      "text/plain": [
       "<Figure size 1920x600 with 1 Axes>"
      ]
     },
     "metadata": {},
     "output_type": "display_data"
    }
   ],
   "source": [
    "#Plot Two Side View\n",
    "fig , ax = plt.subplots(1,1,figsize=(16,5) , dpi=120)\n",
    "x = Gold_data['Report Date'].values\n",
    "\n",
    "y1 = np.log(Gold_data['GoldBar_Sale'].values)\n",
    "\n",
    "plt.fill_between( x , y1 = y1 , y2 = -y1 , alpha=0.9 , linewidth=2, color='skyblue')\n",
    "\n",
    "plt.ylim(-700 , 700 )\n",
    "plt.title('GoldBar_Sale (Two Side View) ' , fontsize = 20)\n",
    "\n",
    "plt.hlines( y=0 , xmin = np.min(Gold_data['Report Date']) , xmax = np.max(Gold_data['Report Date']) , linewidth=0.5)\n",
    "\n",
    "plt.show()"
   ]
  },
  {
   "cell_type": "code",
   "execution_count": 223,
   "id": "b4271f94-1bb0-4ecb-b4cd-57843aa69f2b",
   "metadata": {
    "execution": {
     "iopub.execute_input": "2024-07-17T04:28:23.468754Z",
     "iopub.status.busy": "2024-07-17T04:28:23.468754Z",
     "iopub.status.idle": "2024-07-17T04:28:23.733259Z",
     "shell.execute_reply": "2024-07-17T04:28:23.732256Z",
     "shell.execute_reply.started": "2024-07-17T04:28:23.468754Z"
    },
    "scrolled": true
   },
   "outputs": [
    {
     "data": {
      "image/png": "[encoded data removed]",
      "text/plain": [
       "<Figure size 1920x600 with 1 Axes>"
      ]
     },
     "metadata": {},
     "output_type": "display_data"
    }
   ],
   "source": [
    "#ทดสอบ Stationary\n",
    "rolling_mean = Gold_data['GoldBar_Sale'].rolling(window = 12).mean()\n",
    "rolling_std = Gold_data['GoldBar_Sale'].rolling(window = 12).std()\n",
    "fig , ax = plt.subplots(1,1,figsize=(16,5),dpi = 120)\n",
    "plt.plot(Gold_data['GoldBar_Sale'],color = 'blue',label = 'Original')\n",
    "plt.plot(rolling_mean , color = 'red' , label = 'Rolling Mean')\n",
    "plt.plot(rolling_std , color = 'black' , label = 'Rolling Std')\n",
    "plt.legend(loc = 'best')\n",
    "plt.title('Rolling Mean & Rolling Standard Deviation')\n",
    "plt.show()"
   ]
  },
  {
   "cell_type": "code",
   "execution_count": 224,
   "id": "a653fe06-a8b6-4dd2-8021-34ad7c60794b",
   "metadata": {
    "execution": {
     "iopub.execute_input": "2024-07-17T04:28:31.761602Z",
     "iopub.status.busy": "2024-07-17T04:28:31.757861Z",
     "iopub.status.idle": "2024-07-17T04:28:31.774620Z",
     "shell.execute_reply": "2024-07-17T04:28:31.774620Z",
     "shell.execute_reply.started": "2024-07-17T04:28:31.761602Z"
    }
   },
   "outputs": [
    {
     "name": "stdout",
     "output_type": "stream",
     "text": [
      "ADF Statistic : -0.25132470546380203\n",
      "p-value : 0.9321208869747761\n",
      "Critical Values:\n",
      "\t1%: -3.4732590518613002\n",
      "\t5%: -2.880374082105334\n",
      "\t10%: -2.5768120811654525\n"
     ]
    }
   ],
   "source": [
    "result = adfuller(Gold_data['GoldBar_Sale'])\n",
    "print('ADF Statistic : {}'.format(result[0]))\n",
    "print('p-value : {}'.format(result[1]))\n",
    "print('Critical Values:')\n",
    "for key , value in result[4].items():\n",
    "    print('\\t{}: {}'.format(key,value))"
   ]
  },
  {
   "cell_type": "code",
   "execution_count": 225,
   "id": "45602b45-84d0-48ed-b660-f52370d59185",
   "metadata": {
    "execution": {
     "iopub.execute_input": "2024-07-17T04:28:45.068927Z",
     "iopub.status.busy": "2024-07-17T04:28:45.068927Z",
     "iopub.status.idle": "2024-07-17T04:28:45.079305Z",
     "shell.execute_reply": "2024-07-17T04:28:45.077868Z",
     "shell.execute_reply.started": "2024-07-17T04:28:45.068927Z"
    }
   },
   "outputs": [],
   "source": [
    "# function\n",
    "def get_stationarity(timeseries):\n",
    "    rolling_mean = timeseries.rolling(window = 12).mean()\n",
    "    rolling_std = timeseries.rolling(window = 12).std()\n",
    "    original = plt.plot(timeseries, color = 'blue' , label ='Original')\n",
    "    mean = plt.plot(rolling_mean , color = 'red' , label = 'Rolling Mean')\n",
    "    std = plt.plot(rolling_std , color = 'black' , label = 'Rolling Std')\n",
    "    plt.legend(loc = 'best')\n",
    "    plt.title('Rolling Mean & Standard Deviation')\n",
    "    plt.show(block =False)\n",
    "    # Dickey-Fuller Test\n",
    "    result = adfuller(timeseries)\n",
    "    print('ADF Statiestic: {} '.format(result[0]))\n",
    "    print('p-value: {}'.format(result[1]))\n",
    "    print('Critical Values:')\n",
    "    for key , value in result[4].items():\n",
    "        print('\\t{} : {}'.format(key,value))"
   ]
  },
  {
   "cell_type": "code",
   "execution_count": 226,
   "id": "01aa571f-df04-46b7-a5d0-60cb6fd1233e",
   "metadata": {
    "execution": {
     "iopub.execute_input": "2024-07-17T04:28:45.901334Z",
     "iopub.status.busy": "2024-07-17T04:28:45.901334Z",
     "iopub.status.idle": "2024-07-17T04:28:46.109951Z",
     "shell.execute_reply": "2024-07-17T04:28:46.109951Z",
     "shell.execute_reply.started": "2024-07-17T04:28:45.901334Z"
    }
   },
   "outputs": [
    {
     "data": {
      "image/png": "[encoded data removed]",
      "text/plain": [
       "<Figure size 640x480 with 1 Axes>"
      ]
     },
     "metadata": {},
     "output_type": "display_data"
    },
    {
     "name": "stdout",
     "output_type": "stream",
     "text": [
      "ADF Statiestic: -3.3308983120231344 \n",
      "p-value: 0.013552562125553171\n",
      "Critical Values:\n",
      "\t1% : -3.476597917537401\n",
      "\t5% : -2.8818291230495543\n",
      "\t10% : -2.5775887982253085\n"
     ]
    }
   ],
   "source": [
    "# วิธีแรกในการปรับข้อมูลให้เรียบคือ การลบด้วยค่าเฉลี่ยเคลื่อนที่ 12 เดือนย้อนหลังออกไป เพื่อกำจัด ฤดูกาลกับแนวโน้ม\n",
    "rolling_mean = Gold_data['GoldBar_Sale'].rolling(window=12).mean()\n",
    "df_log_minus_mean = Gold_data['GoldBar_Sale'] - rolling_mean\n",
    "df_log_minus_mean.dropna(inplace=True)\n",
    "get_stationarity(df_log_minus_mean)"
   ]
  },
  {
   "cell_type": "code",
   "execution_count": 227,
   "id": "285049dc-2bf6-4fe2-b155-8c81c6c8d1f9",
   "metadata": {
    "execution": {
     "iopub.execute_input": "2024-07-17T04:29:08.176964Z",
     "iopub.status.busy": "2024-07-17T04:29:08.175965Z",
     "iopub.status.idle": "2024-07-17T04:29:08.400130Z",
     "shell.execute_reply": "2024-07-17T04:29:08.399130Z",
     "shell.execute_reply.started": "2024-07-17T04:29:08.176964Z"
    }
   },
   "outputs": [
    {
     "data": {
      "image/png": "[encoded data removed]",
      "text/plain": [
       "<Figure size 640x480 with 1 Axes>"
      ]
     },
     "metadata": {},
     "output_type": "display_data"
    },
    {
     "name": "stdout",
     "output_type": "stream",
     "text": [
      "ADF Statiestic: -2.206766739159659 \n",
      "p-value: 0.20379869426954533\n",
      "Critical Values:\n",
      "\t1% : -3.4732590518613002\n",
      "\t5% : -2.880374082105334\n",
      "\t10% : -2.5768120811654525\n"
     ]
    }
   ],
   "source": [
    "# p value ต่ำแล้ว ลองวิธี take log\n",
    "rolling_mean_exp_decay = Gold_data['GoldBar_Sale'].ewm(halflife=12,min_periods=0,adjust=True).mean()\n",
    "\n",
    "df_log_exp_decay = Gold_data['GoldBar_Sale'] - rolling_mean_exp_decay\n",
    "df_log_exp_decay.dropna(inplace = True)\n",
    "get_stationarity(df_log_exp_decay)"
   ]
  },
  {
   "cell_type": "code",
   "execution_count": 228,
   "id": "b3da1d7a-78f9-443a-9d22-8ec50a258b8f",
   "metadata": {
    "execution": {
     "iopub.execute_input": "2024-07-17T04:29:15.743188Z",
     "iopub.status.busy": "2024-07-17T04:29:15.743188Z",
     "iopub.status.idle": "2024-07-17T04:29:15.972406Z",
     "shell.execute_reply": "2024-07-17T04:29:15.971671Z",
     "shell.execute_reply.started": "2024-07-17T04:29:15.743188Z"
    }
   },
   "outputs": [
    {
     "data": {
      "image/png": "[encoded data removed]",
      "text/plain": [
       "<Figure size 640x480 with 1 Axes>"
      ]
     },
     "metadata": {},
     "output_type": "display_data"
    },
    {
     "name": "stdout",
     "output_type": "stream",
     "text": [
      "ADF Statiestic: -13.656836430155131 \n",
      "p-value: 1.5480057912548305e-25\n",
      "Critical Values:\n",
      "\t1% : -3.473542528196209\n",
      "\t5% : -2.880497674144038\n",
      "\t10% : -2.576878053634677\n"
     ]
    }
   ],
   "source": [
    "# วิธีลบด้วยค่าก่อนหน้า\n",
    "df_log_shift = Gold_data['GoldBar_Sale'] - Gold_data['GoldBar_Sale'].shift()\n",
    "df_log_shift.dropna(inplace = True)\n",
    "get_stationarity(df_log_shift)"
   ]
  },
  {
   "cell_type": "markdown",
   "id": "878bfecc-e213-4b56-963d-2314ef3320ea",
   "metadata": {},
   "source": [
    "สร้าง ARIMA Model"
   ]
  },
  {
   "cell_type": "code",
   "execution_count": 229,
   "id": "ee509ba6-fc6f-455d-a803-25d2d70de3ff",
   "metadata": {
    "execution": {
     "iopub.execute_input": "2024-07-17T04:29:24.829988Z",
     "iopub.status.busy": "2024-07-17T04:29:24.829988Z",
     "iopub.status.idle": "2024-07-17T04:29:26.409073Z",
     "shell.execute_reply": "2024-07-17T04:29:26.408045Z",
     "shell.execute_reply.started": "2024-07-17T04:29:24.829988Z"
    }
   },
   "outputs": [],
   "source": [
    "# import libaries\n",
    "from dateutil.parser import parse\n",
    "import matplotlib as mpl\n",
    "import matplotlib.pyplot as plt\n",
    "import seaborn as sns\n",
    "import numpy as np\n",
    "import pandas as pd\n",
    "import statsmodels.formula.api as smf\n",
    "import statsmodels.api as sm\n",
    "import pmdarima as pm\n",
    "from pmdarima import model_selection\n",
    "from pmdarima import auto_arima\n",
    "from sklearn.metrics import mean_squared_error\n",
    "from statsmodels.tsa.arima_model import ARIMA\n",
    "import joblib\n",
    "import os"
   ]
  },
  {
   "cell_type": "code",
   "execution_count": 230,
   "id": "1ce5fc1e-4a83-457c-b23f-8d6b85d481ee",
   "metadata": {
    "execution": {
     "iopub.execute_input": "2024-07-17T04:29:26.830179Z",
     "iopub.status.busy": "2024-07-17T04:29:26.830179Z",
     "iopub.status.idle": "2024-07-17T04:29:28.131736Z",
     "shell.execute_reply": "2024-07-17T04:29:28.131736Z",
     "shell.execute_reply.started": "2024-07-17T04:29:26.830179Z"
    }
   },
   "outputs": [
    {
     "name": "stderr",
     "output_type": "stream",
     "text": [
      "C:\\Users\\temp5\\AppData\\Roaming\\Python\\Python312\\site-packages\\statsmodels\\tsa\\statespace\\representation.py:374: FutureWarning: Unknown keyword arguments: dict_keys(['seasonal']).Passing unknown keyword arguments will raise a TypeError beginning in version 0.15.\n",
      "  warnings.warn(msg, FutureWarning)\n",
      "C:\\Users\\temp5\\AppData\\Roaming\\Python\\Python312\\site-packages\\statsmodels\\tsa\\statespace\\sarimax.py:966: UserWarning: Non-stationary starting autoregressive parameters found. Using zeros as starting parameters.\n",
      "  warn('Non-stationary starting autoregressive parameters'\n",
      "C:\\Users\\temp5\\AppData\\Roaming\\Python\\Python312\\site-packages\\statsmodels\\tsa\\statespace\\sarimax.py:978: UserWarning: Non-invertible starting MA parameters found. Using zeros as starting parameters.\n",
      "  warn('Non-invertible starting MA parameters found.'\n"
     ]
    },
    {
     "name": "stdout",
     "output_type": "stream",
     "text": [
      "                               SARIMAX Results                                \n",
      "==============================================================================\n",
      "Dep. Variable:                      y   No. Observations:                  156\n",
      "Model:               SARIMAX(1, 1, 2)   Log Likelihood               -1269.331\n",
      "Date:                Wed, 17 Jul 2024   AIC                           2548.662\n",
      "Time:                        11:29:28   BIC                           2563.879\n",
      "Sample:                             0   HQIC                          2554.843\n",
      "                                - 156                                         \n",
      "Covariance Type:                  opg                                         \n",
      "==============================================================================\n",
      "                 coef    std err          z      P>|z|      [0.025      0.975]\n",
      "------------------------------------------------------------------------------\n",
      "intercept     72.3140    263.937      0.274      0.784    -444.993     589.621\n",
      "ar.L1          0.2731      2.607      0.105      0.917      -4.837       5.383\n",
      "ma.L1         -0.3123      2.600     -0.120      0.904      -5.407       4.783\n",
      "ma.L2          0.0304      0.099      0.306      0.759      -0.164       0.225\n",
      "sigma2      7.591e+05    7.2e+04     10.545      0.000    6.18e+05       9e+05\n",
      "===================================================================================\n",
      "Ljung-Box (L1) (Q):                   0.63   Jarque-Bera (JB):                16.85\n",
      "Prob(Q):                              0.43   Prob(JB):                         0.00\n",
      "Heteroskedasticity (H):               0.74   Skew:                             0.51\n",
      "Prob(H) (two-sided):                  0.28   Kurtosis:                         4.25\n",
      "===================================================================================\n",
      "\n",
      "Warnings:\n",
      "[1] Covariance matrix calculated using the outer product of gradients (complex-step).\n"
     ]
    }
   ],
   "source": [
    "# 1,1,2 ARIMA Model\n",
    "model = pm.ARIMA(order=(1,1,2),seasonal=False)\n",
    "model_fit = model.fit(Gold_data['GoldBar_Sale'],disp=0)\n",
    "print(model_fit.summary())"
   ]
  },
  {
   "cell_type": "code",
   "execution_count": 231,
   "id": "a108a42a-934f-4e44-8264-6b3ac2863111",
   "metadata": {
    "execution": {
     "iopub.execute_input": "2024-07-17T04:29:28.134438Z",
     "iopub.status.busy": "2024-07-17T04:29:28.134438Z",
     "iopub.status.idle": "2024-07-17T04:29:28.259029Z",
     "shell.execute_reply": "2024-07-17T04:29:28.259029Z",
     "shell.execute_reply.started": "2024-07-17T04:29:28.134438Z"
    }
   },
   "outputs": [
    {
     "name": "stdout",
     "output_type": "stream",
     "text": [
      "                               SARIMAX Results                                \n",
      "==============================================================================\n",
      "Dep. Variable:                      y   No. Observations:                  156\n",
      "Model:               SARIMAX(1, 1, 1)   Log Likelihood               -1269.381\n",
      "Date:                Wed, 17 Jul 2024   AIC                           2546.762\n",
      "Time:                        11:29:28   BIC                           2558.936\n",
      "Sample:                             0   HQIC                          2551.707\n",
      "                                - 156                                         \n",
      "Covariance Type:                  opg                                         \n",
      "==============================================================================\n",
      "                 coef    std err          z      P>|z|      [0.025      0.975]\n",
      "------------------------------------------------------------------------------\n",
      "intercept     87.9640    196.459      0.448      0.654    -297.089     473.017\n",
      "ar.L1          0.0038      1.992      0.002      0.998      -3.901       3.909\n",
      "ma.L1         -0.0408      1.986     -0.021      0.984      -3.932       3.851\n",
      "sigma2      7.613e+05   7.07e+04     10.765      0.000    6.23e+05       9e+05\n",
      "===================================================================================\n",
      "Ljung-Box (L1) (Q):                   0.64   Jarque-Bera (JB):                16.69\n",
      "Prob(Q):                              0.43   Prob(JB):                         0.00\n",
      "Heteroskedasticity (H):               0.74   Skew:                             0.50\n",
      "Prob(H) (two-sided):                  0.28   Kurtosis:                         4.26\n",
      "===================================================================================\n",
      "\n",
      "Warnings:\n",
      "[1] Covariance matrix calculated using the outer product of gradients (complex-step).\n"
     ]
    },
    {
     "name": "stderr",
     "output_type": "stream",
     "text": [
      "C:\\Users\\temp5\\AppData\\Roaming\\Python\\Python312\\site-packages\\statsmodels\\tsa\\statespace\\representation.py:374: FutureWarning: Unknown keyword arguments: dict_keys(['seasonal']).Passing unknown keyword arguments will raise a TypeError beginning in version 0.15.\n",
      "  warnings.warn(msg, FutureWarning)\n"
     ]
    }
   ],
   "source": [
    "# 1,1,1 ARIMA Model\n",
    "model = pm.ARIMA(order=(1,1,1),seasonal=False)\n",
    "model_fit = model.fit(Gold_data['GoldBar_Sale'],disp=0)\n",
    "print(model_fit.summary())"
   ]
  },
  {
   "cell_type": "code",
   "execution_count": 232,
   "id": "c417c159-b851-4287-a590-f7fd7b04ae5b",
   "metadata": {
    "execution": {
     "iopub.execute_input": "2024-07-17T04:29:29.423192Z",
     "iopub.status.busy": "2024-07-17T04:29:29.423192Z",
     "iopub.status.idle": "2024-07-17T04:29:29.886406Z",
     "shell.execute_reply": "2024-07-17T04:29:29.886406Z",
     "shell.execute_reply.started": "2024-07-17T04:29:29.423192Z"
    }
   },
   "outputs": [
    {
     "name": "stderr",
     "output_type": "stream",
     "text": [
      "C:\\Users\\temp5\\AppData\\Roaming\\Python\\Python312\\site-packages\\statsmodels\\tsa\\statespace\\representation.py:374: FutureWarning: Unknown keyword arguments: dict_keys(['seasonal']).Passing unknown keyword arguments will raise a TypeError beginning in version 0.15.\n",
      "  warnings.warn(msg, FutureWarning)\n"
     ]
    },
    {
     "data": {
      "image/png": "[encoded data removed]",
      "text/plain": [
       "<Figure size 640x480 with 2 Axes>"
      ]
     },
     "metadata": {},
     "output_type": "display_data"
    }
   ],
   "source": [
    "# เลือกอันที่ P > |Z| ดีๆ คือค่าน้อยๆ\n",
    "preds, conf_int = model_fit.predict(n_periods=12, return_conf_int=True)\n",
    "residuals = pd.DataFrame(preds)\n",
    "fig,ax = plt.subplots(1,2)\n",
    "residuals.plot(title=\"Residuals\",ax=ax[0])\n",
    "residuals.plot(kind='kde',title='Density',ax=ax[1])\n",
    "plt.show()"
   ]
  },
  {
   "cell_type": "markdown",
   "id": "030d8264-d673-43c7-8707-3b5b929a2e24",
   "metadata": {},
   "source": [
    "ARIMA MODEL pmdarima "
   ]
  },
  {
   "cell_type": "code",
   "execution_count": 233,
   "id": "8a78fcb4-13dd-4fc0-8d33-1281d29613dc",
   "metadata": {
    "execution": {
     "iopub.execute_input": "2024-07-17T04:29:32.385618Z",
     "iopub.status.busy": "2024-07-17T04:29:32.384591Z",
     "iopub.status.idle": "2024-07-17T04:29:41.370019Z",
     "shell.execute_reply": "2024-07-17T04:29:41.369019Z",
     "shell.execute_reply.started": "2024-07-17T04:29:32.385618Z"
    },
    "scrolled": true
   },
   "outputs": [
    {
     "data": {
      "text/html": [
       "<table class=\"simpletable\">\n",
       "<caption>SARIMAX Results</caption>\n",
       "<tr>\n",
       "  <th>Dep. Variable:</th>                   <td>y</td>                <th>  No. Observations:  </th>    <td>156</td>   \n",
       "</tr>\n",
       "<tr>\n",
       "  <th>Model:</th>           <td>SARIMAX(0, 1, 0)x(1, 0, [1], 12)</td> <th>  Log Likelihood     </th> <td>-1267.587</td>\n",
       "</tr>\n",
       "<tr>\n",
       "  <th>Date:</th>                    <td>Wed, 17 Jul 2024</td>         <th>  AIC                </th> <td>2541.174</td> \n",
       "</tr>\n",
       "<tr>\n",
       "  <th>Time:</th>                        <td>11:29:41</td>             <th>  BIC                </th> <td>2550.304</td> \n",
       "</tr>\n",
       "<tr>\n",
       "  <th>Sample:</th>                          <td>0</td>                <th>  HQIC               </th> <td>2544.882</td> \n",
       "</tr>\n",
       "<tr>\n",
       "  <th></th>                              <td> - 156</td>              <th>                     </th>     <td> </td>    \n",
       "</tr>\n",
       "<tr>\n",
       "  <th>Covariance Type:</th>                <td>opg</td>               <th>                     </th>     <td> </td>    \n",
       "</tr>\n",
       "</table>\n",
       "<table class=\"simpletable\">\n",
       "<tr>\n",
       "      <td></td>        <th>coef</th>     <th>std err</th>      <th>z</th>      <th>P>|z|</th>  <th>[0.025</th>    <th>0.975]</th>  \n",
       "</tr>\n",
       "<tr>\n",
       "  <th>ar.S.L12</th> <td>    0.8231</td> <td>    0.219</td> <td>    3.752</td> <td> 0.000</td> <td>    0.393</td> <td>    1.253</td>\n",
       "</tr>\n",
       "<tr>\n",
       "  <th>ma.S.L12</th> <td>   -0.7369</td> <td>    0.252</td> <td>   -2.928</td> <td> 0.003</td> <td>   -1.230</td> <td>   -0.244</td>\n",
       "</tr>\n",
       "<tr>\n",
       "  <th>sigma2</th>   <td> 7.427e+05</td> <td> 6.71e+04</td> <td>   11.062</td> <td> 0.000</td> <td> 6.11e+05</td> <td> 8.74e+05</td>\n",
       "</tr>\n",
       "</table>\n",
       "<table class=\"simpletable\">\n",
       "<tr>\n",
       "  <th>Ljung-Box (L1) (Q):</th>     <td>1.32</td> <th>  Jarque-Bera (JB):  </th> <td>15.53</td>\n",
       "</tr>\n",
       "<tr>\n",
       "  <th>Prob(Q):</th>                <td>0.25</td> <th>  Prob(JB):          </th> <td>0.00</td> \n",
       "</tr>\n",
       "<tr>\n",
       "  <th>Heteroskedasticity (H):</th> <td>0.81</td> <th>  Skew:              </th> <td>0.45</td> \n",
       "</tr>\n",
       "<tr>\n",
       "  <th>Prob(H) (two-sided):</th>    <td>0.44</td> <th>  Kurtosis:          </th> <td>4.26</td> \n",
       "</tr>\n",
       "</table><br/><br/>Warnings:<br/>[1] Covariance matrix calculated using the outer product of gradients (complex-step)."
      ],
      "text/latex": [
       "\\begin{center}\n",
       "\\begin{tabular}{lclc}\n",
       "\\toprule\n",
       "\\textbf{Dep. Variable:}          &                y                 & \\textbf{  No. Observations:  } &    156      \\\\\n",
       "\\textbf{Model:}                  & SARIMAX(0, 1, 0)x(1, 0, [1], 12) & \\textbf{  Log Likelihood     } & -1267.587   \\\\\n",
       "\\textbf{Date:}                   &         Wed, 17 Jul 2024         & \\textbf{  AIC                } &  2541.174   \\\\\n",
       "\\textbf{Time:}                   &             11:29:41             & \\textbf{  BIC                } &  2550.304   \\\\\n",
       "\\textbf{Sample:}                 &                0                 & \\textbf{  HQIC               } &  2544.882   \\\\\n",
       "\\textbf{}                        &               - 156              & \\textbf{                     } &             \\\\\n",
       "\\textbf{Covariance Type:}        &               opg                & \\textbf{                     } &             \\\\\n",
       "\\bottomrule\n",
       "\\end{tabular}\n",
       "\\begin{tabular}{lcccccc}\n",
       "                  & \\textbf{coef} & \\textbf{std err} & \\textbf{z} & \\textbf{P$> |$z$|$} & \\textbf{[0.025} & \\textbf{0.975]}  \\\\\n",
       "\\midrule\n",
       "\\textbf{ar.S.L12} &       0.8231  &        0.219     &     3.752  &         0.000        &        0.393    &        1.253     \\\\\n",
       "\\textbf{ma.S.L12} &      -0.7369  &        0.252     &    -2.928  &         0.003        &       -1.230    &       -0.244     \\\\\n",
       "\\textbf{sigma2}   &    7.427e+05  &     6.71e+04     &    11.062  &         0.000        &     6.11e+05    &     8.74e+05     \\\\\n",
       "\\bottomrule\n",
       "\\end{tabular}\n",
       "\\begin{tabular}{lclc}\n",
       "\\textbf{Ljung-Box (L1) (Q):}     & 1.32 & \\textbf{  Jarque-Bera (JB):  } & 15.53  \\\\\n",
       "\\textbf{Prob(Q):}                & 0.25 & \\textbf{  Prob(JB):          } &  0.00  \\\\\n",
       "\\textbf{Heteroskedasticity (H):} & 0.81 & \\textbf{  Skew:              } &  0.45  \\\\\n",
       "\\textbf{Prob(H) (two-sided):}    & 0.44 & \\textbf{  Kurtosis:          } &  4.26  \\\\\n",
       "\\bottomrule\n",
       "\\end{tabular}\n",
       "%\\caption{SARIMAX Results}\n",
       "\\end{center}\n",
       "\n",
       "Warnings: \\newline\n",
       " [1] Covariance matrix calculated using the outer product of gradients (complex-step)."
      ],
      "text/plain": [
       "<class 'statsmodels.iolib.summary.Summary'>\n",
       "\"\"\"\n",
       "                                      SARIMAX Results                                       \n",
       "============================================================================================\n",
       "Dep. Variable:                                    y   No. Observations:                  156\n",
       "Model:             SARIMAX(0, 1, 0)x(1, 0, [1], 12)   Log Likelihood               -1267.587\n",
       "Date:                              Wed, 17 Jul 2024   AIC                           2541.174\n",
       "Time:                                      11:29:41   BIC                           2550.304\n",
       "Sample:                                           0   HQIC                          2544.882\n",
       "                                              - 156                                         \n",
       "Covariance Type:                                opg                                         \n",
       "==============================================================================\n",
       "                 coef    std err          z      P>|z|      [0.025      0.975]\n",
       "------------------------------------------------------------------------------\n",
       "ar.S.L12       0.8231      0.219      3.752      0.000       0.393       1.253\n",
       "ma.S.L12      -0.7369      0.252     -2.928      0.003      -1.230      -0.244\n",
       "sigma2      7.427e+05   6.71e+04     11.062      0.000    6.11e+05    8.74e+05\n",
       "===================================================================================\n",
       "Ljung-Box (L1) (Q):                   1.32   Jarque-Bera (JB):                15.53\n",
       "Prob(Q):                              0.25   Prob(JB):                         0.00\n",
       "Heteroskedasticity (H):               0.81   Skew:                             0.45\n",
       "Prob(H) (two-sided):                  0.44   Kurtosis:                         4.26\n",
       "===================================================================================\n",
       "\n",
       "Warnings:\n",
       "[1] Covariance matrix calculated using the outer product of gradients (complex-step).\n",
       "\"\"\""
      ]
     },
     "execution_count": 233,
     "metadata": {},
     "output_type": "execute_result"
    }
   ],
   "source": [
    "arima = pm.auto_arima(Gold_data['GoldBar_Sale'], start_p=1, start_q=1, max_p=12, max_q=5, max_order = 12,\n",
    "                     trace=False, suppress_warnings=True, stepwise = True,\n",
    "                     error_action='ignore', m=12)\n",
    "period_predict = 10\n",
    "preds, conf_int = arima.predict(n_periods=12*period_predict, return_conf_int=True)\n",
    "arima.summary()"
   ]
  },
  {
   "cell_type": "code",
   "execution_count": 234,
   "id": "85b2caaa-1fd8-40c2-bac4-dff2e11007cc",
   "metadata": {
    "execution": {
     "iopub.execute_input": "2024-07-17T04:29:41.372014Z",
     "iopub.status.busy": "2024-07-17T04:29:41.371031Z",
     "iopub.status.idle": "2024-07-17T04:29:41.378839Z",
     "shell.execute_reply": "2024-07-17T04:29:41.377837Z",
     "shell.execute_reply.started": "2024-07-17T04:29:41.371031Z"
    },
    "scrolled": true
   },
   "outputs": [
    {
     "data": {
      "text/plain": [
       "156    33732.939932\n",
       "157    33826.960198\n",
       "158    34053.291215\n",
       "159    34175.054362\n",
       "160    34188.187541\n",
       "           ...     \n",
       "271    37247.969985\n",
       "272    37240.618350\n",
       "273    37269.772131\n",
       "274    37244.269049\n",
       "275    37254.133521\n",
       "Length: 120, dtype: float64"
      ]
     },
     "execution_count": 234,
     "metadata": {},
     "output_type": "execute_result"
    }
   ],
   "source": [
    "preds"
   ]
  },
  {
   "cell_type": "code",
   "execution_count": 235,
   "id": "5998ae88-65bc-4fe3-8db2-bebd092004f7",
   "metadata": {
    "execution": {
     "iopub.execute_input": "2024-07-17T04:29:43.791800Z",
     "iopub.status.busy": "2024-07-17T04:29:43.791800Z",
     "iopub.status.idle": "2024-07-17T04:29:43.799937Z",
     "shell.execute_reply": "2024-07-17T04:29:43.798937Z",
     "shell.execute_reply.started": "2024-07-17T04:29:43.791800Z"
    }
   },
   "outputs": [],
   "source": [
    "def eomonth(d, months=0):\n",
    "    months = int(months)\n",
    "    if isinstance(d, list):\n",
    "        return [eomonth(d0, months) for d0 in d]\n",
    "    elif isinstance(d, pd.Series):\n",
    "        return d.map(lambda d0: eomonth(d0, months))\n",
    "    else:\n",
    "        y, m = divmod(d.month + months + 1, 12)\n",
    "        # y, m = int(y), int(m)\n",
    "        if m==0:\n",
    "            y -= 1\n",
    "            m = 12\n",
    "        return pytz.UTC.localize(datetime.datetime(d.year + y, m, 1) - datetime.timedelta(days=1))"
   ]
  },
  {
   "cell_type": "code",
   "execution_count": 236,
   "id": "ba0430b9-187f-4fd4-bfa9-67c73440a67c",
   "metadata": {
    "execution": {
     "iopub.execute_input": "2024-07-17T04:29:44.413910Z",
     "iopub.status.busy": "2024-07-17T04:29:44.413910Z",
     "iopub.status.idle": "2024-07-17T04:29:44.465004Z",
     "shell.execute_reply": "2024-07-17T04:29:44.462968Z",
     "shell.execute_reply.started": "2024-07-17T04:29:44.413910Z"
    }
   },
   "outputs": [],
   "source": [
    "Date = Gold_data['Report Date']\n",
    "last_date = Date.iloc[-1]\n",
    "arr = []\n",
    "period = period_predict*12\n",
    "for i in range(period):\n",
    "    next_month = eomonth(last_date,i+1)\n",
    "    arr = np.append(arr,next_month)\n",
    "\n",
    "Date_forecast_period = pd.DataFrame(arr)\n",
    "Date_forecast_period.columns = ['Report Date']\n",
    "Date_forecast_period['Report Date'] = Date_forecast_period['Report Date'].dt.tz_localize(None)"
   ]
  },
  {
   "cell_type": "code",
   "execution_count": 237,
   "id": "699a97d3-d7c8-44d1-bd2d-b69e775868ef",
   "metadata": {
    "execution": {
     "iopub.execute_input": "2024-07-17T04:29:45.149144Z",
     "iopub.status.busy": "2024-07-17T04:29:45.149144Z",
     "iopub.status.idle": "2024-07-17T04:29:45.421104Z",
     "shell.execute_reply": "2024-07-17T04:29:45.421104Z",
     "shell.execute_reply.started": "2024-07-17T04:29:45.149144Z"
    }
   },
   "outputs": [
    {
     "data": {
      "image/png": "[encoded data removed]",
      "text/plain": [
       "<Figure size 1200x600 with 1 Axes>"
      ]
     },
     "metadata": {},
     "output_type": "display_data"
    }
   ],
   "source": [
    "plt.figure(figsize=(12,6))\n",
    "plt.plot(Gold_data['Report Date'] , Gold_data['GoldBar_Sale'] , label = 'Actual Data')\n",
    "plt.plot(Date_forecast_period,preds , label='Forecast' , color = 'red')\n",
    "# plt.fill_between(Date_forecast_period , conf_int[:,0],conf_int[:,1] , color='pink' , alpha=0.3)\n",
    "plt.xlabel('Date')\n",
    "plt.ylabel('Value')\n",
    "plt.title('Actual Data vs Forecast')\n",
    "plt.legend()\n",
    "plt.grid(True)\n",
    "plt.show()"
   ]
  },
  {
   "cell_type": "markdown",
   "id": "2cdddd60-abdf-49e9-b55d-b2ac2584b521",
   "metadata": {},
   "source": [
    "Forecast GoldBar_Sale price in Thailand with Feature_Seletion by LinearRegression and ARIMA model"
   ]
  },
  {
   "cell_type": "code",
   "execution_count": null,
   "id": "08bf6dfc-1c88-4f18-ad7d-86de6e8d3135",
   "metadata": {},
   "outputs": [],
   "source": []
  },
  {
   "cell_type": "code",
   "execution_count": null,
   "id": "e3c84efb-8924-4950-b5b3-830cb48f2153",
   "metadata": {},
   "outputs": [],
   "source": []
  }
 ],
 "metadata": {
  "kernelspec": {
   "display_name": "Python 3 (ipykernel)",
   "language": "python",
   "name": "python3"
  },
  "language_info": {
   "codemirror_mode": {
    "name": "ipython",
    "version": 3
   },
   "file_extension": ".py",
   "mimetype": "text/x-python",
   "name": "python",
   "nbconvert_exporter": "python",
   "pygments_lexer": "ipython3",
   "version": "3.12.3"
  }
 },
 "nbformat": 4,
 "nbformat_minor": 5
}
