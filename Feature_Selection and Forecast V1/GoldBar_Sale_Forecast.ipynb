{
 "cells": [
  {
   "cell_type": "markdown",
   "id": "2c9150a6-4067-4034-adf1-dc0dae2840ad",
   "metadata": {},
   "source": [
    "Import Libraries"
   ]
  },
  {
   "cell_type": "code",
   "execution_count": 2,
   "id": "b4e5470f-9bc6-49c9-b398-bc725527dfd1",
   "metadata": {
    "execution": {
     "iopub.execute_input": "2024-07-16T07:11:51.270499Z",
     "iopub.status.busy": "2024-07-16T07:11:51.269505Z",
     "iopub.status.idle": "2024-07-16T07:12:10.153669Z",
     "shell.execute_reply": "2024-07-16T07:12:10.153669Z",
     "shell.execute_reply.started": "2024-07-16T07:11:51.270499Z"
    }
   },
   "outputs": [],
   "source": [
    "import os\n",
    "import msoffcrypto\n",
    "import pandas as pd\n",
    "import numpy as np\n",
    "from datetime import datetime as dt\n",
    "from matplotlib import pyplot as plt\n",
    "from scipy.interpolate import CubicSpline\n",
    "from sklearn.linear_model import LinearRegression\n",
    "import pmdarima as pm\n",
    "from pmdarima import model_selection\n",
    "import math\n",
    "import pytz\n",
    "import datetime"
   ]
  },
  {
   "cell_type": "code",
   "execution_count": 218,
   "id": "3dc78b3a-e711-43c6-b327-e0612f073682",
   "metadata": {
    "execution": {
     "iopub.execute_input": "2024-07-16T07:52:59.805819Z",
     "iopub.status.busy": "2024-07-16T07:52:59.805819Z",
     "iopub.status.idle": "2024-07-16T07:52:59.915330Z",
     "shell.execute_reply": "2024-07-16T07:52:59.915330Z",
     "shell.execute_reply.started": "2024-07-16T07:52:59.805819Z"
    }
   },
   "outputs": [],
   "source": [
    "xls = pd.ExcelFile(\"RawData11.xlsx\")\n",
    "Factor_data = pd.read_excel(xls,'Factor')\n",
    "Gold_data = pd.read_excel(xls,'GoldBar_Sale')"
   ]
  },
  {
   "cell_type": "code",
   "execution_count": 219,
   "id": "df219fd8-903c-47bd-a9eb-7a2c8716751c",
   "metadata": {
    "execution": {
     "iopub.execute_input": "2024-07-16T07:52:59.993388Z",
     "iopub.status.busy": "2024-07-16T07:52:59.993388Z",
     "iopub.status.idle": "2024-07-16T07:53:00.004185Z",
     "shell.execute_reply": "2024-07-16T07:53:00.002620Z",
     "shell.execute_reply.started": "2024-07-16T07:52:59.993388Z"
    }
   },
   "outputs": [],
   "source": [
    "factor_col = Factor_data.columns[1:]"
   ]
  },
  {
   "cell_type": "code",
   "execution_count": 220,
   "id": "b7155a9d-3b73-4a5f-a148-1f75be5cd4aa",
   "metadata": {
    "execution": {
     "iopub.execute_input": "2024-07-16T07:53:00.223839Z",
     "iopub.status.busy": "2024-07-16T07:53:00.222841Z",
     "iopub.status.idle": "2024-07-16T07:53:00.232801Z",
     "shell.execute_reply": "2024-07-16T07:53:00.231798Z",
     "shell.execute_reply.started": "2024-07-16T07:53:00.223839Z"
    }
   },
   "outputs": [
    {
     "data": {
      "text/plain": [
       "Index(['(Inflation)', 'PTT_แก๊สโซฮอล์_95', 'PTT_แก๊สโซฮอล์_91',\n",
       "       'PTT_แก๊สโซฮอล์_E20', 'PTT_แก๊สโซฮอล์_E85', 'PTT_ดีเซล',\n",
       "       'อัตราแลกเปลี่ยน_USD_THB', 'BOT_Policy_rate_(อัตราดอกเบี้ย นโยบาย)',\n",
       "       'SCB_ออมทรัพย์(อัตราดอกเบี้ย)', 'SCB_ประจำ_3_เดือน(อัตราดอกเบี้ย)',\n",
       "       'SCB_ประจำ_6_เดือน(อัตราดอกเบี้ย)', 'SCB_ประจำ_12_เดือน(อัตราดอกเบี้ย)',\n",
       "       'SET Index', 'XAU_USD'],\n",
       "      dtype='object')"
      ]
     },
     "execution_count": 220,
     "metadata": {},
     "output_type": "execute_result"
    }
   ],
   "source": [
    "factor_col"
   ]
  },
  {
   "cell_type": "code",
   "execution_count": 221,
   "id": "d53625de-93c1-4f32-9e84-e65938a9143b",
   "metadata": {
    "execution": {
     "iopub.execute_input": "2024-07-16T07:53:00.491771Z",
     "iopub.status.busy": "2024-07-16T07:53:00.491771Z",
     "iopub.status.idle": "2024-07-16T07:53:00.557002Z",
     "shell.execute_reply": "2024-07-16T07:53:00.557002Z",
     "shell.execute_reply.started": "2024-07-16T07:53:00.491771Z"
    },
    "scrolled": true
   },
   "outputs": [
    {
     "name": "stderr",
     "output_type": "stream",
     "text": [
      "C:\\Users\\temp5\\AppData\\Local\\Temp\\ipykernel_8716\\2553388304.py:2: PerformanceWarning: DataFrame is highly fragmented.  This is usually the result of calling `frame.insert` many times, which has poor performance.  Consider joining all columns at once using pd.concat(axis=1) instead. To get a de-fragmented frame, use `newframe = frame.copy()`\n",
      "  Factor_data[[i+f'_LAG_{month}' for i in factor_col]] = Factor_data[factor_col].shift(month)\n",
      "C:\\Users\\temp5\\AppData\\Local\\Temp\\ipykernel_8716\\2553388304.py:2: PerformanceWarning: DataFrame is highly fragmented.  This is usually the result of calling `frame.insert` many times, which has poor performance.  Consider joining all columns at once using pd.concat(axis=1) instead. To get a de-fragmented frame, use `newframe = frame.copy()`\n",
      "  Factor_data[[i+f'_LAG_{month}' for i in factor_col]] = Factor_data[factor_col].shift(month)\n",
      "C:\\Users\\temp5\\AppData\\Local\\Temp\\ipykernel_8716\\2553388304.py:2: PerformanceWarning: DataFrame is highly fragmented.  This is usually the result of calling `frame.insert` many times, which has poor performance.  Consider joining all columns at once using pd.concat(axis=1) instead. To get a de-fragmented frame, use `newframe = frame.copy()`\n",
      "  Factor_data[[i+f'_LAG_{month}' for i in factor_col]] = Factor_data[factor_col].shift(month)\n",
      "C:\\Users\\temp5\\AppData\\Local\\Temp\\ipykernel_8716\\2553388304.py:2: PerformanceWarning: DataFrame is highly fragmented.  This is usually the result of calling `frame.insert` many times, which has poor performance.  Consider joining all columns at once using pd.concat(axis=1) instead. To get a de-fragmented frame, use `newframe = frame.copy()`\n",
      "  Factor_data[[i+f'_LAG_{month}' for i in factor_col]] = Factor_data[factor_col].shift(month)\n",
      "C:\\Users\\temp5\\AppData\\Local\\Temp\\ipykernel_8716\\2553388304.py:2: PerformanceWarning: DataFrame is highly fragmented.  This is usually the result of calling `frame.insert` many times, which has poor performance.  Consider joining all columns at once using pd.concat(axis=1) instead. To get a de-fragmented frame, use `newframe = frame.copy()`\n",
      "  Factor_data[[i+f'_LAG_{month}' for i in factor_col]] = Factor_data[factor_col].shift(month)\n",
      "C:\\Users\\temp5\\AppData\\Local\\Temp\\ipykernel_8716\\2553388304.py:2: PerformanceWarning: DataFrame is highly fragmented.  This is usually the result of calling `frame.insert` many times, which has poor performance.  Consider joining all columns at once using pd.concat(axis=1) instead. To get a de-fragmented frame, use `newframe = frame.copy()`\n",
      "  Factor_data[[i+f'_LAG_{month}' for i in factor_col]] = Factor_data[factor_col].shift(month)\n",
      "C:\\Users\\temp5\\AppData\\Local\\Temp\\ipykernel_8716\\2553388304.py:2: PerformanceWarning: DataFrame is highly fragmented.  This is usually the result of calling `frame.insert` many times, which has poor performance.  Consider joining all columns at once using pd.concat(axis=1) instead. To get a de-fragmented frame, use `newframe = frame.copy()`\n",
      "  Factor_data[[i+f'_LAG_{month}' for i in factor_col]] = Factor_data[factor_col].shift(month)\n",
      "C:\\Users\\temp5\\AppData\\Local\\Temp\\ipykernel_8716\\2553388304.py:2: PerformanceWarning: DataFrame is highly fragmented.  This is usually the result of calling `frame.insert` many times, which has poor performance.  Consider joining all columns at once using pd.concat(axis=1) instead. To get a de-fragmented frame, use `newframe = frame.copy()`\n",
      "  Factor_data[[i+f'_LAG_{month}' for i in factor_col]] = Factor_data[factor_col].shift(month)\n",
      "C:\\Users\\temp5\\AppData\\Local\\Temp\\ipykernel_8716\\2553388304.py:2: PerformanceWarning: DataFrame is highly fragmented.  This is usually the result of calling `frame.insert` many times, which has poor performance.  Consider joining all columns at once using pd.concat(axis=1) instead. To get a de-fragmented frame, use `newframe = frame.copy()`\n",
      "  Factor_data[[i+f'_LAG_{month}' for i in factor_col]] = Factor_data[factor_col].shift(month)\n",
      "C:\\Users\\temp5\\AppData\\Local\\Temp\\ipykernel_8716\\2553388304.py:2: PerformanceWarning: DataFrame is highly fragmented.  This is usually the result of calling `frame.insert` many times, which has poor performance.  Consider joining all columns at once using pd.concat(axis=1) instead. To get a de-fragmented frame, use `newframe = frame.copy()`\n",
      "  Factor_data[[i+f'_LAG_{month}' for i in factor_col]] = Factor_data[factor_col].shift(month)\n",
      "C:\\Users\\temp5\\AppData\\Local\\Temp\\ipykernel_8716\\2553388304.py:2: PerformanceWarning: DataFrame is highly fragmented.  This is usually the result of calling `frame.insert` many times, which has poor performance.  Consider joining all columns at once using pd.concat(axis=1) instead. To get a de-fragmented frame, use `newframe = frame.copy()`\n",
      "  Factor_data[[i+f'_LAG_{month}' for i in factor_col]] = Factor_data[factor_col].shift(month)\n",
      "C:\\Users\\temp5\\AppData\\Local\\Temp\\ipykernel_8716\\2553388304.py:2: PerformanceWarning: DataFrame is highly fragmented.  This is usually the result of calling `frame.insert` many times, which has poor performance.  Consider joining all columns at once using pd.concat(axis=1) instead. To get a de-fragmented frame, use `newframe = frame.copy()`\n",
      "  Factor_data[[i+f'_LAG_{month}' for i in factor_col]] = Factor_data[factor_col].shift(month)\n",
      "C:\\Users\\temp5\\AppData\\Local\\Temp\\ipykernel_8716\\2553388304.py:2: PerformanceWarning: DataFrame is highly fragmented.  This is usually the result of calling `frame.insert` many times, which has poor performance.  Consider joining all columns at once using pd.concat(axis=1) instead. To get a de-fragmented frame, use `newframe = frame.copy()`\n",
      "  Factor_data[[i+f'_LAG_{month}' for i in factor_col]] = Factor_data[factor_col].shift(month)\n",
      "C:\\Users\\temp5\\AppData\\Local\\Temp\\ipykernel_8716\\2553388304.py:2: PerformanceWarning: DataFrame is highly fragmented.  This is usually the result of calling `frame.insert` many times, which has poor performance.  Consider joining all columns at once using pd.concat(axis=1) instead. To get a de-fragmented frame, use `newframe = frame.copy()`\n",
      "  Factor_data[[i+f'_LAG_{month}' for i in factor_col]] = Factor_data[factor_col].shift(month)\n",
      "C:\\Users\\temp5\\AppData\\Local\\Temp\\ipykernel_8716\\2553388304.py:2: PerformanceWarning: DataFrame is highly fragmented.  This is usually the result of calling `frame.insert` many times, which has poor performance.  Consider joining all columns at once using pd.concat(axis=1) instead. To get a de-fragmented frame, use `newframe = frame.copy()`\n",
      "  Factor_data[[i+f'_LAG_{month}' for i in factor_col]] = Factor_data[factor_col].shift(month)\n",
      "C:\\Users\\temp5\\AppData\\Local\\Temp\\ipykernel_8716\\2553388304.py:2: PerformanceWarning: DataFrame is highly fragmented.  This is usually the result of calling `frame.insert` many times, which has poor performance.  Consider joining all columns at once using pd.concat(axis=1) instead. To get a de-fragmented frame, use `newframe = frame.copy()`\n",
      "  Factor_data[[i+f'_LAG_{month}' for i in factor_col]] = Factor_data[factor_col].shift(month)\n",
      "C:\\Users\\temp5\\AppData\\Local\\Temp\\ipykernel_8716\\2553388304.py:2: PerformanceWarning: DataFrame is highly fragmented.  This is usually the result of calling `frame.insert` many times, which has poor performance.  Consider joining all columns at once using pd.concat(axis=1) instead. To get a de-fragmented frame, use `newframe = frame.copy()`\n",
      "  Factor_data[[i+f'_LAG_{month}' for i in factor_col]] = Factor_data[factor_col].shift(month)\n",
      "C:\\Users\\temp5\\AppData\\Local\\Temp\\ipykernel_8716\\2553388304.py:2: PerformanceWarning: DataFrame is highly fragmented.  This is usually the result of calling `frame.insert` many times, which has poor performance.  Consider joining all columns at once using pd.concat(axis=1) instead. To get a de-fragmented frame, use `newframe = frame.copy()`\n",
      "  Factor_data[[i+f'_LAG_{month}' for i in factor_col]] = Factor_data[factor_col].shift(month)\n",
      "C:\\Users\\temp5\\AppData\\Local\\Temp\\ipykernel_8716\\2553388304.py:2: PerformanceWarning: DataFrame is highly fragmented.  This is usually the result of calling `frame.insert` many times, which has poor performance.  Consider joining all columns at once using pd.concat(axis=1) instead. To get a de-fragmented frame, use `newframe = frame.copy()`\n",
      "  Factor_data[[i+f'_LAG_{month}' for i in factor_col]] = Factor_data[factor_col].shift(month)\n",
      "C:\\Users\\temp5\\AppData\\Local\\Temp\\ipykernel_8716\\2553388304.py:2: PerformanceWarning: DataFrame is highly fragmented.  This is usually the result of calling `frame.insert` many times, which has poor performance.  Consider joining all columns at once using pd.concat(axis=1) instead. To get a de-fragmented frame, use `newframe = frame.copy()`\n",
      "  Factor_data[[i+f'_LAG_{month}' for i in factor_col]] = Factor_data[factor_col].shift(month)\n",
      "C:\\Users\\temp5\\AppData\\Local\\Temp\\ipykernel_8716\\2553388304.py:2: PerformanceWarning: DataFrame is highly fragmented.  This is usually the result of calling `frame.insert` many times, which has poor performance.  Consider joining all columns at once using pd.concat(axis=1) instead. To get a de-fragmented frame, use `newframe = frame.copy()`\n",
      "  Factor_data[[i+f'_LAG_{month}' for i in factor_col]] = Factor_data[factor_col].shift(month)\n",
      "C:\\Users\\temp5\\AppData\\Local\\Temp\\ipykernel_8716\\2553388304.py:2: PerformanceWarning: DataFrame is highly fragmented.  This is usually the result of calling `frame.insert` many times, which has poor performance.  Consider joining all columns at once using pd.concat(axis=1) instead. To get a de-fragmented frame, use `newframe = frame.copy()`\n",
      "  Factor_data[[i+f'_LAG_{month}' for i in factor_col]] = Factor_data[factor_col].shift(month)\n",
      "C:\\Users\\temp5\\AppData\\Local\\Temp\\ipykernel_8716\\2553388304.py:2: PerformanceWarning: DataFrame is highly fragmented.  This is usually the result of calling `frame.insert` many times, which has poor performance.  Consider joining all columns at once using pd.concat(axis=1) instead. To get a de-fragmented frame, use `newframe = frame.copy()`\n",
      "  Factor_data[[i+f'_LAG_{month}' for i in factor_col]] = Factor_data[factor_col].shift(month)\n",
      "C:\\Users\\temp5\\AppData\\Local\\Temp\\ipykernel_8716\\2553388304.py:2: PerformanceWarning: DataFrame is highly fragmented.  This is usually the result of calling `frame.insert` many times, which has poor performance.  Consider joining all columns at once using pd.concat(axis=1) instead. To get a de-fragmented frame, use `newframe = frame.copy()`\n",
      "  Factor_data[[i+f'_LAG_{month}' for i in factor_col]] = Factor_data[factor_col].shift(month)\n",
      "C:\\Users\\temp5\\AppData\\Local\\Temp\\ipykernel_8716\\2553388304.py:2: PerformanceWarning: DataFrame is highly fragmented.  This is usually the result of calling `frame.insert` many times, which has poor performance.  Consider joining all columns at once using pd.concat(axis=1) instead. To get a de-fragmented frame, use `newframe = frame.copy()`\n",
      "  Factor_data[[i+f'_LAG_{month}' for i in factor_col]] = Factor_data[factor_col].shift(month)\n",
      "C:\\Users\\temp5\\AppData\\Local\\Temp\\ipykernel_8716\\2553388304.py:2: PerformanceWarning: DataFrame is highly fragmented.  This is usually the result of calling `frame.insert` many times, which has poor performance.  Consider joining all columns at once using pd.concat(axis=1) instead. To get a de-fragmented frame, use `newframe = frame.copy()`\n",
      "  Factor_data[[i+f'_LAG_{month}' for i in factor_col]] = Factor_data[factor_col].shift(month)\n",
      "C:\\Users\\temp5\\AppData\\Local\\Temp\\ipykernel_8716\\2553388304.py:2: PerformanceWarning: DataFrame is highly fragmented.  This is usually the result of calling `frame.insert` many times, which has poor performance.  Consider joining all columns at once using pd.concat(axis=1) instead. To get a de-fragmented frame, use `newframe = frame.copy()`\n",
      "  Factor_data[[i+f'_LAG_{month}' for i in factor_col]] = Factor_data[factor_col].shift(month)\n",
      "C:\\Users\\temp5\\AppData\\Local\\Temp\\ipykernel_8716\\2553388304.py:2: PerformanceWarning: DataFrame is highly fragmented.  This is usually the result of calling `frame.insert` many times, which has poor performance.  Consider joining all columns at once using pd.concat(axis=1) instead. To get a de-fragmented frame, use `newframe = frame.copy()`\n",
      "  Factor_data[[i+f'_LAG_{month}' for i in factor_col]] = Factor_data[factor_col].shift(month)\n",
      "C:\\Users\\temp5\\AppData\\Local\\Temp\\ipykernel_8716\\2553388304.py:2: PerformanceWarning: DataFrame is highly fragmented.  This is usually the result of calling `frame.insert` many times, which has poor performance.  Consider joining all columns at once using pd.concat(axis=1) instead. To get a de-fragmented frame, use `newframe = frame.copy()`\n",
      "  Factor_data[[i+f'_LAG_{month}' for i in factor_col]] = Factor_data[factor_col].shift(month)\n",
      "C:\\Users\\temp5\\AppData\\Local\\Temp\\ipykernel_8716\\2553388304.py:2: PerformanceWarning: DataFrame is highly fragmented.  This is usually the result of calling `frame.insert` many times, which has poor performance.  Consider joining all columns at once using pd.concat(axis=1) instead. To get a de-fragmented frame, use `newframe = frame.copy()`\n",
      "  Factor_data[[i+f'_LAG_{month}' for i in factor_col]] = Factor_data[factor_col].shift(month)\n",
      "C:\\Users\\temp5\\AppData\\Local\\Temp\\ipykernel_8716\\2553388304.py:2: PerformanceWarning: DataFrame is highly fragmented.  This is usually the result of calling `frame.insert` many times, which has poor performance.  Consider joining all columns at once using pd.concat(axis=1) instead. To get a de-fragmented frame, use `newframe = frame.copy()`\n",
      "  Factor_data[[i+f'_LAG_{month}' for i in factor_col]] = Factor_data[factor_col].shift(month)\n",
      "C:\\Users\\temp5\\AppData\\Local\\Temp\\ipykernel_8716\\2553388304.py:2: PerformanceWarning: DataFrame is highly fragmented.  This is usually the result of calling `frame.insert` many times, which has poor performance.  Consider joining all columns at once using pd.concat(axis=1) instead. To get a de-fragmented frame, use `newframe = frame.copy()`\n",
      "  Factor_data[[i+f'_LAG_{month}' for i in factor_col]] = Factor_data[factor_col].shift(month)\n",
      "C:\\Users\\temp5\\AppData\\Local\\Temp\\ipykernel_8716\\2553388304.py:2: PerformanceWarning: DataFrame is highly fragmented.  This is usually the result of calling `frame.insert` many times, which has poor performance.  Consider joining all columns at once using pd.concat(axis=1) instead. To get a de-fragmented frame, use `newframe = frame.copy()`\n",
      "  Factor_data[[i+f'_LAG_{month}' for i in factor_col]] = Factor_data[factor_col].shift(month)\n",
      "C:\\Users\\temp5\\AppData\\Local\\Temp\\ipykernel_8716\\2553388304.py:2: PerformanceWarning: DataFrame is highly fragmented.  This is usually the result of calling `frame.insert` many times, which has poor performance.  Consider joining all columns at once using pd.concat(axis=1) instead. To get a de-fragmented frame, use `newframe = frame.copy()`\n",
      "  Factor_data[[i+f'_LAG_{month}' for i in factor_col]] = Factor_data[factor_col].shift(month)\n",
      "C:\\Users\\temp5\\AppData\\Local\\Temp\\ipykernel_8716\\2553388304.py:2: PerformanceWarning: DataFrame is highly fragmented.  This is usually the result of calling `frame.insert` many times, which has poor performance.  Consider joining all columns at once using pd.concat(axis=1) instead. To get a de-fragmented frame, use `newframe = frame.copy()`\n",
      "  Factor_data[[i+f'_LAG_{month}' for i in factor_col]] = Factor_data[factor_col].shift(month)\n",
      "C:\\Users\\temp5\\AppData\\Local\\Temp\\ipykernel_8716\\2553388304.py:2: PerformanceWarning: DataFrame is highly fragmented.  This is usually the result of calling `frame.insert` many times, which has poor performance.  Consider joining all columns at once using pd.concat(axis=1) instead. To get a de-fragmented frame, use `newframe = frame.copy()`\n",
      "  Factor_data[[i+f'_LAG_{month}' for i in factor_col]] = Factor_data[factor_col].shift(month)\n",
      "C:\\Users\\temp5\\AppData\\Local\\Temp\\ipykernel_8716\\2553388304.py:2: PerformanceWarning: DataFrame is highly fragmented.  This is usually the result of calling `frame.insert` many times, which has poor performance.  Consider joining all columns at once using pd.concat(axis=1) instead. To get a de-fragmented frame, use `newframe = frame.copy()`\n",
      "  Factor_data[[i+f'_LAG_{month}' for i in factor_col]] = Factor_data[factor_col].shift(month)\n",
      "C:\\Users\\temp5\\AppData\\Local\\Temp\\ipykernel_8716\\2553388304.py:2: PerformanceWarning: DataFrame is highly fragmented.  This is usually the result of calling `frame.insert` many times, which has poor performance.  Consider joining all columns at once using pd.concat(axis=1) instead. To get a de-fragmented frame, use `newframe = frame.copy()`\n",
      "  Factor_data[[i+f'_LAG_{month}' for i in factor_col]] = Factor_data[factor_col].shift(month)\n",
      "C:\\Users\\temp5\\AppData\\Local\\Temp\\ipykernel_8716\\2553388304.py:2: PerformanceWarning: DataFrame is highly fragmented.  This is usually the result of calling `frame.insert` many times, which has poor performance.  Consider joining all columns at once using pd.concat(axis=1) instead. To get a de-fragmented frame, use `newframe = frame.copy()`\n",
      "  Factor_data[[i+f'_LAG_{month}' for i in factor_col]] = Factor_data[factor_col].shift(month)\n",
      "C:\\Users\\temp5\\AppData\\Local\\Temp\\ipykernel_8716\\2553388304.py:2: PerformanceWarning: DataFrame is highly fragmented.  This is usually the result of calling `frame.insert` many times, which has poor performance.  Consider joining all columns at once using pd.concat(axis=1) instead. To get a de-fragmented frame, use `newframe = frame.copy()`\n",
      "  Factor_data[[i+f'_LAG_{month}' for i in factor_col]] = Factor_data[factor_col].shift(month)\n",
      "C:\\Users\\temp5\\AppData\\Local\\Temp\\ipykernel_8716\\2553388304.py:2: PerformanceWarning: DataFrame is highly fragmented.  This is usually the result of calling `frame.insert` many times, which has poor performance.  Consider joining all columns at once using pd.concat(axis=1) instead. To get a de-fragmented frame, use `newframe = frame.copy()`\n",
      "  Factor_data[[i+f'_LAG_{month}' for i in factor_col]] = Factor_data[factor_col].shift(month)\n",
      "C:\\Users\\temp5\\AppData\\Local\\Temp\\ipykernel_8716\\2553388304.py:2: PerformanceWarning: DataFrame is highly fragmented.  This is usually the result of calling `frame.insert` many times, which has poor performance.  Consider joining all columns at once using pd.concat(axis=1) instead. To get a de-fragmented frame, use `newframe = frame.copy()`\n",
      "  Factor_data[[i+f'_LAG_{month}' for i in factor_col]] = Factor_data[factor_col].shift(month)\n",
      "C:\\Users\\temp5\\AppData\\Local\\Temp\\ipykernel_8716\\2553388304.py:2: PerformanceWarning: DataFrame is highly fragmented.  This is usually the result of calling `frame.insert` many times, which has poor performance.  Consider joining all columns at once using pd.concat(axis=1) instead. To get a de-fragmented frame, use `newframe = frame.copy()`\n",
      "  Factor_data[[i+f'_LAG_{month}' for i in factor_col]] = Factor_data[factor_col].shift(month)\n",
      "C:\\Users\\temp5\\AppData\\Local\\Temp\\ipykernel_8716\\2553388304.py:2: PerformanceWarning: DataFrame is highly fragmented.  This is usually the result of calling `frame.insert` many times, which has poor performance.  Consider joining all columns at once using pd.concat(axis=1) instead. To get a de-fragmented frame, use `newframe = frame.copy()`\n",
      "  Factor_data[[i+f'_LAG_{month}' for i in factor_col]] = Factor_data[factor_col].shift(month)\n",
      "C:\\Users\\temp5\\AppData\\Local\\Temp\\ipykernel_8716\\2553388304.py:2: PerformanceWarning: DataFrame is highly fragmented.  This is usually the result of calling `frame.insert` many times, which has poor performance.  Consider joining all columns at once using pd.concat(axis=1) instead. To get a de-fragmented frame, use `newframe = frame.copy()`\n",
      "  Factor_data[[i+f'_LAG_{month}' for i in factor_col]] = Factor_data[factor_col].shift(month)\n",
      "C:\\Users\\temp5\\AppData\\Local\\Temp\\ipykernel_8716\\2553388304.py:2: PerformanceWarning: DataFrame is highly fragmented.  This is usually the result of calling `frame.insert` many times, which has poor performance.  Consider joining all columns at once using pd.concat(axis=1) instead. To get a de-fragmented frame, use `newframe = frame.copy()`\n",
      "  Factor_data[[i+f'_LAG_{month}' for i in factor_col]] = Factor_data[factor_col].shift(month)\n",
      "C:\\Users\\temp5\\AppData\\Local\\Temp\\ipykernel_8716\\2553388304.py:2: PerformanceWarning: DataFrame is highly fragmented.  This is usually the result of calling `frame.insert` many times, which has poor performance.  Consider joining all columns at once using pd.concat(axis=1) instead. To get a de-fragmented frame, use `newframe = frame.copy()`\n",
      "  Factor_data[[i+f'_LAG_{month}' for i in factor_col]] = Factor_data[factor_col].shift(month)\n",
      "C:\\Users\\temp5\\AppData\\Local\\Temp\\ipykernel_8716\\2553388304.py:2: PerformanceWarning: DataFrame is highly fragmented.  This is usually the result of calling `frame.insert` many times, which has poor performance.  Consider joining all columns at once using pd.concat(axis=1) instead. To get a de-fragmented frame, use `newframe = frame.copy()`\n",
      "  Factor_data[[i+f'_LAG_{month}' for i in factor_col]] = Factor_data[factor_col].shift(month)\n",
      "C:\\Users\\temp5\\AppData\\Local\\Temp\\ipykernel_8716\\2553388304.py:2: PerformanceWarning: DataFrame is highly fragmented.  This is usually the result of calling `frame.insert` many times, which has poor performance.  Consider joining all columns at once using pd.concat(axis=1) instead. To get a de-fragmented frame, use `newframe = frame.copy()`\n",
      "  Factor_data[[i+f'_LAG_{month}' for i in factor_col]] = Factor_data[factor_col].shift(month)\n",
      "C:\\Users\\temp5\\AppData\\Local\\Temp\\ipykernel_8716\\2553388304.py:2: PerformanceWarning: DataFrame is highly fragmented.  This is usually the result of calling `frame.insert` many times, which has poor performance.  Consider joining all columns at once using pd.concat(axis=1) instead. To get a de-fragmented frame, use `newframe = frame.copy()`\n",
      "  Factor_data[[i+f'_LAG_{month}' for i in factor_col]] = Factor_data[factor_col].shift(month)\n",
      "C:\\Users\\temp5\\AppData\\Local\\Temp\\ipykernel_8716\\2553388304.py:2: PerformanceWarning: DataFrame is highly fragmented.  This is usually the result of calling `frame.insert` many times, which has poor performance.  Consider joining all columns at once using pd.concat(axis=1) instead. To get a de-fragmented frame, use `newframe = frame.copy()`\n",
      "  Factor_data[[i+f'_LAG_{month}' for i in factor_col]] = Factor_data[factor_col].shift(month)\n",
      "C:\\Users\\temp5\\AppData\\Local\\Temp\\ipykernel_8716\\2553388304.py:2: PerformanceWarning: DataFrame is highly fragmented.  This is usually the result of calling `frame.insert` many times, which has poor performance.  Consider joining all columns at once using pd.concat(axis=1) instead. To get a de-fragmented frame, use `newframe = frame.copy()`\n",
      "  Factor_data[[i+f'_LAG_{month}' for i in factor_col]] = Factor_data[factor_col].shift(month)\n",
      "C:\\Users\\temp5\\AppData\\Local\\Temp\\ipykernel_8716\\2553388304.py:2: PerformanceWarning: DataFrame is highly fragmented.  This is usually the result of calling `frame.insert` many times, which has poor performance.  Consider joining all columns at once using pd.concat(axis=1) instead. To get a de-fragmented frame, use `newframe = frame.copy()`\n",
      "  Factor_data[[i+f'_LAG_{month}' for i in factor_col]] = Factor_data[factor_col].shift(month)\n",
      "C:\\Users\\temp5\\AppData\\Local\\Temp\\ipykernel_8716\\2553388304.py:2: PerformanceWarning: DataFrame is highly fragmented.  This is usually the result of calling `frame.insert` many times, which has poor performance.  Consider joining all columns at once using pd.concat(axis=1) instead. To get a de-fragmented frame, use `newframe = frame.copy()`\n",
      "  Factor_data[[i+f'_LAG_{month}' for i in factor_col]] = Factor_data[factor_col].shift(month)\n",
      "C:\\Users\\temp5\\AppData\\Local\\Temp\\ipykernel_8716\\2553388304.py:2: PerformanceWarning: DataFrame is highly fragmented.  This is usually the result of calling `frame.insert` many times, which has poor performance.  Consider joining all columns at once using pd.concat(axis=1) instead. To get a de-fragmented frame, use `newframe = frame.copy()`\n",
      "  Factor_data[[i+f'_LAG_{month}' for i in factor_col]] = Factor_data[factor_col].shift(month)\n",
      "C:\\Users\\temp5\\AppData\\Local\\Temp\\ipykernel_8716\\2553388304.py:2: PerformanceWarning: DataFrame is highly fragmented.  This is usually the result of calling `frame.insert` many times, which has poor performance.  Consider joining all columns at once using pd.concat(axis=1) instead. To get a de-fragmented frame, use `newframe = frame.copy()`\n",
      "  Factor_data[[i+f'_LAG_{month}' for i in factor_col]] = Factor_data[factor_col].shift(month)\n",
      "C:\\Users\\temp5\\AppData\\Local\\Temp\\ipykernel_8716\\2553388304.py:2: PerformanceWarning: DataFrame is highly fragmented.  This is usually the result of calling `frame.insert` many times, which has poor performance.  Consider joining all columns at once using pd.concat(axis=1) instead. To get a de-fragmented frame, use `newframe = frame.copy()`\n",
      "  Factor_data[[i+f'_LAG_{month}' for i in factor_col]] = Factor_data[factor_col].shift(month)\n",
      "C:\\Users\\temp5\\AppData\\Local\\Temp\\ipykernel_8716\\2553388304.py:2: PerformanceWarning: DataFrame is highly fragmented.  This is usually the result of calling `frame.insert` many times, which has poor performance.  Consider joining all columns at once using pd.concat(axis=1) instead. To get a de-fragmented frame, use `newframe = frame.copy()`\n",
      "  Factor_data[[i+f'_LAG_{month}' for i in factor_col]] = Factor_data[factor_col].shift(month)\n",
      "C:\\Users\\temp5\\AppData\\Local\\Temp\\ipykernel_8716\\2553388304.py:2: PerformanceWarning: DataFrame is highly fragmented.  This is usually the result of calling `frame.insert` many times, which has poor performance.  Consider joining all columns at once using pd.concat(axis=1) instead. To get a de-fragmented frame, use `newframe = frame.copy()`\n",
      "  Factor_data[[i+f'_LAG_{month}' for i in factor_col]] = Factor_data[factor_col].shift(month)\n",
      "C:\\Users\\temp5\\AppData\\Local\\Temp\\ipykernel_8716\\2553388304.py:2: PerformanceWarning: DataFrame is highly fragmented.  This is usually the result of calling `frame.insert` many times, which has poor performance.  Consider joining all columns at once using pd.concat(axis=1) instead. To get a de-fragmented frame, use `newframe = frame.copy()`\n",
      "  Factor_data[[i+f'_LAG_{month}' for i in factor_col]] = Factor_data[factor_col].shift(month)\n",
      "C:\\Users\\temp5\\AppData\\Local\\Temp\\ipykernel_8716\\2553388304.py:2: PerformanceWarning: DataFrame is highly fragmented.  This is usually the result of calling `frame.insert` many times, which has poor performance.  Consider joining all columns at once using pd.concat(axis=1) instead. To get a de-fragmented frame, use `newframe = frame.copy()`\n",
      "  Factor_data[[i+f'_LAG_{month}' for i in factor_col]] = Factor_data[factor_col].shift(month)\n",
      "C:\\Users\\temp5\\AppData\\Local\\Temp\\ipykernel_8716\\2553388304.py:2: PerformanceWarning: DataFrame is highly fragmented.  This is usually the result of calling `frame.insert` many times, which has poor performance.  Consider joining all columns at once using pd.concat(axis=1) instead. To get a de-fragmented frame, use `newframe = frame.copy()`\n",
      "  Factor_data[[i+f'_LAG_{month}' for i in factor_col]] = Factor_data[factor_col].shift(month)\n",
      "C:\\Users\\temp5\\AppData\\Local\\Temp\\ipykernel_8716\\2553388304.py:2: PerformanceWarning: DataFrame is highly fragmented.  This is usually the result of calling `frame.insert` many times, which has poor performance.  Consider joining all columns at once using pd.concat(axis=1) instead. To get a de-fragmented frame, use `newframe = frame.copy()`\n",
      "  Factor_data[[i+f'_LAG_{month}' for i in factor_col]] = Factor_data[factor_col].shift(month)\n",
      "C:\\Users\\temp5\\AppData\\Local\\Temp\\ipykernel_8716\\2553388304.py:2: PerformanceWarning: DataFrame is highly fragmented.  This is usually the result of calling `frame.insert` many times, which has poor performance.  Consider joining all columns at once using pd.concat(axis=1) instead. To get a de-fragmented frame, use `newframe = frame.copy()`\n",
      "  Factor_data[[i+f'_LAG_{month}' for i in factor_col]] = Factor_data[factor_col].shift(month)\n",
      "C:\\Users\\temp5\\AppData\\Local\\Temp\\ipykernel_8716\\2553388304.py:2: PerformanceWarning: DataFrame is highly fragmented.  This is usually the result of calling `frame.insert` many times, which has poor performance.  Consider joining all columns at once using pd.concat(axis=1) instead. To get a de-fragmented frame, use `newframe = frame.copy()`\n",
      "  Factor_data[[i+f'_LAG_{month}' for i in factor_col]] = Factor_data[factor_col].shift(month)\n",
      "C:\\Users\\temp5\\AppData\\Local\\Temp\\ipykernel_8716\\2553388304.py:2: PerformanceWarning: DataFrame is highly fragmented.  This is usually the result of calling `frame.insert` many times, which has poor performance.  Consider joining all columns at once using pd.concat(axis=1) instead. To get a de-fragmented frame, use `newframe = frame.copy()`\n",
      "  Factor_data[[i+f'_LAG_{month}' for i in factor_col]] = Factor_data[factor_col].shift(month)\n",
      "C:\\Users\\temp5\\AppData\\Local\\Temp\\ipykernel_8716\\2553388304.py:2: PerformanceWarning: DataFrame is highly fragmented.  This is usually the result of calling `frame.insert` many times, which has poor performance.  Consider joining all columns at once using pd.concat(axis=1) instead. To get a de-fragmented frame, use `newframe = frame.copy()`\n",
      "  Factor_data[[i+f'_LAG_{month}' for i in factor_col]] = Factor_data[factor_col].shift(month)\n",
      "C:\\Users\\temp5\\AppData\\Local\\Temp\\ipykernel_8716\\2553388304.py:2: PerformanceWarning: DataFrame is highly fragmented.  This is usually the result of calling `frame.insert` many times, which has poor performance.  Consider joining all columns at once using pd.concat(axis=1) instead. To get a de-fragmented frame, use `newframe = frame.copy()`\n",
      "  Factor_data[[i+f'_LAG_{month}' for i in factor_col]] = Factor_data[factor_col].shift(month)\n",
      "C:\\Users\\temp5\\AppData\\Local\\Temp\\ipykernel_8716\\2553388304.py:2: PerformanceWarning: DataFrame is highly fragmented.  This is usually the result of calling `frame.insert` many times, which has poor performance.  Consider joining all columns at once using pd.concat(axis=1) instead. To get a de-fragmented frame, use `newframe = frame.copy()`\n",
      "  Factor_data[[i+f'_LAG_{month}' for i in factor_col]] = Factor_data[factor_col].shift(month)\n",
      "C:\\Users\\temp5\\AppData\\Local\\Temp\\ipykernel_8716\\2553388304.py:2: PerformanceWarning: DataFrame is highly fragmented.  This is usually the result of calling `frame.insert` many times, which has poor performance.  Consider joining all columns at once using pd.concat(axis=1) instead. To get a de-fragmented frame, use `newframe = frame.copy()`\n",
      "  Factor_data[[i+f'_LAG_{month}' for i in factor_col]] = Factor_data[factor_col].shift(month)\n"
     ]
    }
   ],
   "source": [
    "for month in range(1,13):\n",
    "    Factor_data[[i+f'_LAG_{month}' for i in factor_col]] = Factor_data[factor_col].shift(month)"
   ]
  },
  {
   "cell_type": "code",
   "execution_count": 222,
   "id": "ba165f3d-a076-4847-bc7e-1801f16b933d",
   "metadata": {
    "execution": {
     "iopub.execute_input": "2024-07-16T07:53:00.876323Z",
     "iopub.status.busy": "2024-07-16T07:53:00.876323Z",
     "iopub.status.idle": "2024-07-16T07:53:00.882096Z",
     "shell.execute_reply": "2024-07-16T07:53:00.882096Z",
     "shell.execute_reply.started": "2024-07-16T07:53:00.876323Z"
    }
   },
   "outputs": [
    {
     "data": {
      "text/plain": [
       "Index(['Report Date', '(Inflation)', 'PTT_แก๊สโซฮอล์_95', 'PTT_แก๊สโซฮอล์_91',\n",
       "       'PTT_แก๊สโซฮอล์_E20', 'PTT_แก๊สโซฮอล์_E85', 'PTT_ดีเซล',\n",
       "       'อัตราแลกเปลี่ยน_USD_THB', 'BOT_Policy_rate_(อัตราดอกเบี้ย นโยบาย)',\n",
       "       'SCB_ออมทรัพย์(อัตราดอกเบี้ย)',\n",
       "       ...\n",
       "       'PTT_แก๊สโซฮอล์_E85_LAG_12', 'PTT_ดีเซล_LAG_12',\n",
       "       'อัตราแลกเปลี่ยน_USD_THB_LAG_12',\n",
       "       'BOT_Policy_rate_(อัตราดอกเบี้ย นโยบาย)_LAG_12',\n",
       "       'SCB_ออมทรัพย์(อัตราดอกเบี้ย)_LAG_12',\n",
       "       'SCB_ประจำ_3_เดือน(อัตราดอกเบี้ย)_LAG_12',\n",
       "       'SCB_ประจำ_6_เดือน(อัตราดอกเบี้ย)_LAG_12',\n",
       "       'SCB_ประจำ_12_เดือน(อัตราดอกเบี้ย)_LAG_12', 'SET Index_LAG_12',\n",
       "       'XAU_USD_LAG_12'],\n",
       "      dtype='object', length=183)"
      ]
     },
     "execution_count": 222,
     "metadata": {},
     "output_type": "execute_result"
    }
   ],
   "source": [
    "Factor_data.columns"
   ]
  },
  {
   "cell_type": "code",
   "execution_count": 223,
   "id": "186012c8-fe52-47ba-bb6e-8319a0d81772",
   "metadata": {
    "execution": {
     "iopub.execute_input": "2024-07-16T07:53:01.325380Z",
     "iopub.status.busy": "2024-07-16T07:53:01.324389Z",
     "iopub.status.idle": "2024-07-16T07:53:01.331675Z",
     "shell.execute_reply": "2024-07-16T07:53:01.330670Z",
     "shell.execute_reply.started": "2024-07-16T07:53:01.325380Z"
    },
    "scrolled": true
   },
   "outputs": [],
   "source": [
    "# for month in range(1,4):\n",
    "#     Factor_data[['DIFF_'+i+f'_LAG_{month}' for i in factor_col]] = \\\n",
    "#     Factor_data[factor_col].values - Factor_data[[i+f'_LAG_{month}' for i in factor_col]].values"
   ]
  },
  {
   "cell_type": "code",
   "execution_count": 225,
   "id": "ef177f68-432f-4d36-96c0-dcfd657ca8b8",
   "metadata": {
    "execution": {
     "iopub.execute_input": "2024-07-16T07:53:01.882449Z",
     "iopub.status.busy": "2024-07-16T07:53:01.882449Z",
     "iopub.status.idle": "2024-07-16T07:53:01.890796Z",
     "shell.execute_reply": "2024-07-16T07:53:01.890796Z",
     "shell.execute_reply.started": "2024-07-16T07:53:01.882449Z"
    },
    "scrolled": true
   },
   "outputs": [],
   "source": [
    "# diff MoM LAG 1-12 Months\n",
    "# for month in range(1,13):\n",
    "#     Factor_data[['DIFF_'+i+f'_MoM_LAG_{month}' for i in factor_col]] = Factor_data[['DIFF_'+i+f'_LAG_1' for i in factor_col]].shift(month)"
   ]
  },
  {
   "cell_type": "code",
   "execution_count": 227,
   "id": "b1e6ec13-13d4-4e3c-b33d-2c27dc40310c",
   "metadata": {
    "execution": {
     "iopub.execute_input": "2024-07-16T07:53:02.204964Z",
     "iopub.status.busy": "2024-07-16T07:53:02.204964Z",
     "iopub.status.idle": "2024-07-16T07:53:02.226319Z",
     "shell.execute_reply": "2024-07-16T07:53:02.226319Z",
     "shell.execute_reply.started": "2024-07-16T07:53:02.204964Z"
    },
    "scrolled": true
   },
   "outputs": [
    {
     "name": "stderr",
     "output_type": "stream",
     "text": [
      "C:\\Users\\temp5\\AppData\\Local\\Temp\\ipykernel_8716\\563302744.py:4: PerformanceWarning: DataFrame is highly fragmented.  This is usually the result of calling `frame.insert` many times, which has poor performance.  Consider joining all columns at once using pd.concat(axis=1) instead. To get a de-fragmented frame, use `newframe = frame.copy()`\n",
      "  Factor_data[['LOG_'+i+f'_LAG_{month}' if month!=0 else 'LOG_'+i for i in factor_col]] = \\\n",
      "C:\\Users\\temp5\\AppData\\Local\\Temp\\ipykernel_8716\\563302744.py:4: PerformanceWarning: DataFrame is highly fragmented.  This is usually the result of calling `frame.insert` many times, which has poor performance.  Consider joining all columns at once using pd.concat(axis=1) instead. To get a de-fragmented frame, use `newframe = frame.copy()`\n",
      "  Factor_data[['LOG_'+i+f'_LAG_{month}' if month!=0 else 'LOG_'+i for i in factor_col]] = \\\n",
      "C:\\Users\\temp5\\AppData\\Local\\Temp\\ipykernel_8716\\563302744.py:4: PerformanceWarning: DataFrame is highly fragmented.  This is usually the result of calling `frame.insert` many times, which has poor performance.  Consider joining all columns at once using pd.concat(axis=1) instead. To get a de-fragmented frame, use `newframe = frame.copy()`\n",
      "  Factor_data[['LOG_'+i+f'_LAG_{month}' if month!=0 else 'LOG_'+i for i in factor_col]] = \\\n",
      "C:\\Users\\temp5\\AppData\\Local\\Temp\\ipykernel_8716\\563302744.py:4: PerformanceWarning: DataFrame is highly fragmented.  This is usually the result of calling `frame.insert` many times, which has poor performance.  Consider joining all columns at once using pd.concat(axis=1) instead. To get a de-fragmented frame, use `newframe = frame.copy()`\n",
      "  Factor_data[['LOG_'+i+f'_LAG_{month}' if month!=0 else 'LOG_'+i for i in factor_col]] = \\\n",
      "C:\\Users\\temp5\\AppData\\Local\\Temp\\ipykernel_8716\\563302744.py:4: PerformanceWarning: DataFrame is highly fragmented.  This is usually the result of calling `frame.insert` many times, which has poor performance.  Consider joining all columns at once using pd.concat(axis=1) instead. To get a de-fragmented frame, use `newframe = frame.copy()`\n",
      "  Factor_data[['LOG_'+i+f'_LAG_{month}' if month!=0 else 'LOG_'+i for i in factor_col]] = \\\n",
      "C:\\Users\\temp5\\AppData\\Local\\Temp\\ipykernel_8716\\563302744.py:4: PerformanceWarning: DataFrame is highly fragmented.  This is usually the result of calling `frame.insert` many times, which has poor performance.  Consider joining all columns at once using pd.concat(axis=1) instead. To get a de-fragmented frame, use `newframe = frame.copy()`\n",
      "  Factor_data[['LOG_'+i+f'_LAG_{month}' if month!=0 else 'LOG_'+i for i in factor_col]] = \\\n",
      "C:\\Users\\temp5\\AppData\\Local\\Temp\\ipykernel_8716\\563302744.py:4: PerformanceWarning: DataFrame is highly fragmented.  This is usually the result of calling `frame.insert` many times, which has poor performance.  Consider joining all columns at once using pd.concat(axis=1) instead. To get a de-fragmented frame, use `newframe = frame.copy()`\n",
      "  Factor_data[['LOG_'+i+f'_LAG_{month}' if month!=0 else 'LOG_'+i for i in factor_col]] = \\\n",
      "C:\\Users\\temp5\\AppData\\Local\\Temp\\ipykernel_8716\\563302744.py:4: PerformanceWarning: DataFrame is highly fragmented.  This is usually the result of calling `frame.insert` many times, which has poor performance.  Consider joining all columns at once using pd.concat(axis=1) instead. To get a de-fragmented frame, use `newframe = frame.copy()`\n",
      "  Factor_data[['LOG_'+i+f'_LAG_{month}' if month!=0 else 'LOG_'+i for i in factor_col]] = \\\n",
      "C:\\Users\\temp5\\AppData\\Local\\Temp\\ipykernel_8716\\563302744.py:4: PerformanceWarning: DataFrame is highly fragmented.  This is usually the result of calling `frame.insert` many times, which has poor performance.  Consider joining all columns at once using pd.concat(axis=1) instead. To get a de-fragmented frame, use `newframe = frame.copy()`\n",
      "  Factor_data[['LOG_'+i+f'_LAG_{month}' if month!=0 else 'LOG_'+i for i in factor_col]] = \\\n",
      "C:\\Users\\temp5\\AppData\\Local\\Temp\\ipykernel_8716\\563302744.py:4: PerformanceWarning: DataFrame is highly fragmented.  This is usually the result of calling `frame.insert` many times, which has poor performance.  Consider joining all columns at once using pd.concat(axis=1) instead. To get a de-fragmented frame, use `newframe = frame.copy()`\n",
      "  Factor_data[['LOG_'+i+f'_LAG_{month}' if month!=0 else 'LOG_'+i for i in factor_col]] = \\\n",
      "C:\\Users\\temp5\\AppData\\Local\\Temp\\ipykernel_8716\\563302744.py:4: PerformanceWarning: DataFrame is highly fragmented.  This is usually the result of calling `frame.insert` many times, which has poor performance.  Consider joining all columns at once using pd.concat(axis=1) instead. To get a de-fragmented frame, use `newframe = frame.copy()`\n",
      "  Factor_data[['LOG_'+i+f'_LAG_{month}' if month!=0 else 'LOG_'+i for i in factor_col]] = \\\n",
      "C:\\Users\\temp5\\AppData\\Local\\Temp\\ipykernel_8716\\563302744.py:4: PerformanceWarning: DataFrame is highly fragmented.  This is usually the result of calling `frame.insert` many times, which has poor performance.  Consider joining all columns at once using pd.concat(axis=1) instead. To get a de-fragmented frame, use `newframe = frame.copy()`\n",
      "  Factor_data[['LOG_'+i+f'_LAG_{month}' if month!=0 else 'LOG_'+i for i in factor_col]] = \\\n",
      "C:\\Users\\temp5\\AppData\\Local\\Temp\\ipykernel_8716\\563302744.py:4: PerformanceWarning: DataFrame is highly fragmented.  This is usually the result of calling `frame.insert` many times, which has poor performance.  Consider joining all columns at once using pd.concat(axis=1) instead. To get a de-fragmented frame, use `newframe = frame.copy()`\n",
      "  Factor_data[['LOG_'+i+f'_LAG_{month}' if month!=0 else 'LOG_'+i for i in factor_col]] = \\\n",
      "C:\\Users\\temp5\\AppData\\Local\\Temp\\ipykernel_8716\\563302744.py:4: PerformanceWarning: DataFrame is highly fragmented.  This is usually the result of calling `frame.insert` many times, which has poor performance.  Consider joining all columns at once using pd.concat(axis=1) instead. To get a de-fragmented frame, use `newframe = frame.copy()`\n",
      "  Factor_data[['LOG_'+i+f'_LAG_{month}' if month!=0 else 'LOG_'+i for i in factor_col]] = \\\n",
      "C:\\Users\\temp5\\AppData\\Local\\Temp\\ipykernel_8716\\563302744.py:4: PerformanceWarning: DataFrame is highly fragmented.  This is usually the result of calling `frame.insert` many times, which has poor performance.  Consider joining all columns at once using pd.concat(axis=1) instead. To get a de-fragmented frame, use `newframe = frame.copy()`\n",
      "  Factor_data[['LOG_'+i+f'_LAG_{month}' if month!=0 else 'LOG_'+i for i in factor_col]] = \\\n",
      "C:\\Users\\temp5\\AppData\\Local\\Temp\\ipykernel_8716\\563302744.py:4: PerformanceWarning: DataFrame is highly fragmented.  This is usually the result of calling `frame.insert` many times, which has poor performance.  Consider joining all columns at once using pd.concat(axis=1) instead. To get a de-fragmented frame, use `newframe = frame.copy()`\n",
      "  Factor_data[['LOG_'+i+f'_LAG_{month}' if month!=0 else 'LOG_'+i for i in factor_col]] = \\\n",
      "C:\\Users\\temp5\\AppData\\Local\\Temp\\ipykernel_8716\\563302744.py:4: PerformanceWarning: DataFrame is highly fragmented.  This is usually the result of calling `frame.insert` many times, which has poor performance.  Consider joining all columns at once using pd.concat(axis=1) instead. To get a de-fragmented frame, use `newframe = frame.copy()`\n",
      "  Factor_data[['LOG_'+i+f'_LAG_{month}' if month!=0 else 'LOG_'+i for i in factor_col]] = \\\n",
      "C:\\Users\\temp5\\AppData\\Local\\Temp\\ipykernel_8716\\563302744.py:4: PerformanceWarning: DataFrame is highly fragmented.  This is usually the result of calling `frame.insert` many times, which has poor performance.  Consider joining all columns at once using pd.concat(axis=1) instead. To get a de-fragmented frame, use `newframe = frame.copy()`\n",
      "  Factor_data[['LOG_'+i+f'_LAG_{month}' if month!=0 else 'LOG_'+i for i in factor_col]] = \\\n",
      "C:\\Users\\temp5\\AppData\\Local\\Temp\\ipykernel_8716\\563302744.py:4: PerformanceWarning: DataFrame is highly fragmented.  This is usually the result of calling `frame.insert` many times, which has poor performance.  Consider joining all columns at once using pd.concat(axis=1) instead. To get a de-fragmented frame, use `newframe = frame.copy()`\n",
      "  Factor_data[['LOG_'+i+f'_LAG_{month}' if month!=0 else 'LOG_'+i for i in factor_col]] = \\\n",
      "C:\\Users\\temp5\\AppData\\Local\\Temp\\ipykernel_8716\\563302744.py:4: PerformanceWarning: DataFrame is highly fragmented.  This is usually the result of calling `frame.insert` many times, which has poor performance.  Consider joining all columns at once using pd.concat(axis=1) instead. To get a de-fragmented frame, use `newframe = frame.copy()`\n",
      "  Factor_data[['LOG_'+i+f'_LAG_{month}' if month!=0 else 'LOG_'+i for i in factor_col]] = \\\n",
      "C:\\Users\\temp5\\AppData\\Local\\Temp\\ipykernel_8716\\563302744.py:4: PerformanceWarning: DataFrame is highly fragmented.  This is usually the result of calling `frame.insert` many times, which has poor performance.  Consider joining all columns at once using pd.concat(axis=1) instead. To get a de-fragmented frame, use `newframe = frame.copy()`\n",
      "  Factor_data[['LOG_'+i+f'_LAG_{month}' if month!=0 else 'LOG_'+i for i in factor_col]] = \\\n",
      "C:\\Users\\temp5\\AppData\\Local\\Temp\\ipykernel_8716\\563302744.py:4: PerformanceWarning: DataFrame is highly fragmented.  This is usually the result of calling `frame.insert` many times, which has poor performance.  Consider joining all columns at once using pd.concat(axis=1) instead. To get a de-fragmented frame, use `newframe = frame.copy()`\n",
      "  Factor_data[['LOG_'+i+f'_LAG_{month}' if month!=0 else 'LOG_'+i for i in factor_col]] = \\\n",
      "C:\\Users\\temp5\\AppData\\Local\\Temp\\ipykernel_8716\\563302744.py:4: PerformanceWarning: DataFrame is highly fragmented.  This is usually the result of calling `frame.insert` many times, which has poor performance.  Consider joining all columns at once using pd.concat(axis=1) instead. To get a de-fragmented frame, use `newframe = frame.copy()`\n",
      "  Factor_data[['LOG_'+i+f'_LAG_{month}' if month!=0 else 'LOG_'+i for i in factor_col]] = \\\n",
      "C:\\Users\\temp5\\AppData\\Local\\Temp\\ipykernel_8716\\563302744.py:4: PerformanceWarning: DataFrame is highly fragmented.  This is usually the result of calling `frame.insert` many times, which has poor performance.  Consider joining all columns at once using pd.concat(axis=1) instead. To get a de-fragmented frame, use `newframe = frame.copy()`\n",
      "  Factor_data[['LOG_'+i+f'_LAG_{month}' if month!=0 else 'LOG_'+i for i in factor_col]] = \\\n",
      "C:\\Users\\temp5\\AppData\\Local\\Temp\\ipykernel_8716\\563302744.py:4: PerformanceWarning: DataFrame is highly fragmented.  This is usually the result of calling `frame.insert` many times, which has poor performance.  Consider joining all columns at once using pd.concat(axis=1) instead. To get a de-fragmented frame, use `newframe = frame.copy()`\n",
      "  Factor_data[['LOG_'+i+f'_LAG_{month}' if month!=0 else 'LOG_'+i for i in factor_col]] = \\\n",
      "C:\\Users\\temp5\\AppData\\Local\\Temp\\ipykernel_8716\\563302744.py:4: PerformanceWarning: DataFrame is highly fragmented.  This is usually the result of calling `frame.insert` many times, which has poor performance.  Consider joining all columns at once using pd.concat(axis=1) instead. To get a de-fragmented frame, use `newframe = frame.copy()`\n",
      "  Factor_data[['LOG_'+i+f'_LAG_{month}' if month!=0 else 'LOG_'+i for i in factor_col]] = \\\n",
      "C:\\Users\\temp5\\AppData\\Local\\Temp\\ipykernel_8716\\563302744.py:4: PerformanceWarning: DataFrame is highly fragmented.  This is usually the result of calling `frame.insert` many times, which has poor performance.  Consider joining all columns at once using pd.concat(axis=1) instead. To get a de-fragmented frame, use `newframe = frame.copy()`\n",
      "  Factor_data[['LOG_'+i+f'_LAG_{month}' if month!=0 else 'LOG_'+i for i in factor_col]] = \\\n",
      "C:\\Users\\temp5\\AppData\\Local\\Temp\\ipykernel_8716\\563302744.py:4: PerformanceWarning: DataFrame is highly fragmented.  This is usually the result of calling `frame.insert` many times, which has poor performance.  Consider joining all columns at once using pd.concat(axis=1) instead. To get a de-fragmented frame, use `newframe = frame.copy()`\n",
      "  Factor_data[['LOG_'+i+f'_LAG_{month}' if month!=0 else 'LOG_'+i for i in factor_col]] = \\\n"
     ]
    }
   ],
   "source": [
    "# Factor_data[['LOG_'+i for i in factor_col]] = \\\n",
    "#     Factor_data[[i for i in factor_col]].apply(np.log)\n",
    "for month in range(0,2):\n",
    "    Factor_data[['LOG_'+i+f'_LAG_{month}' if month!=0 else 'LOG_'+i for i in factor_col]] = \\\n",
    "    Factor_data[[i+f'_LAG_{month}' if month!=0 else i for i in factor_col]].apply(np.log)"
   ]
  },
  {
   "cell_type": "code",
   "execution_count": 228,
   "id": "6f5498b4-9cf1-4639-9623-c8129595a3b5",
   "metadata": {
    "execution": {
     "iopub.execute_input": "2024-07-16T07:53:02.392807Z",
     "iopub.status.busy": "2024-07-16T07:53:02.392807Z",
     "iopub.status.idle": "2024-07-16T07:53:02.404846Z",
     "shell.execute_reply": "2024-07-16T07:53:02.403682Z",
     "shell.execute_reply.started": "2024-07-16T07:53:02.392807Z"
    }
   },
   "outputs": [
    {
     "data": {
      "text/plain": [
       "Index(['Report Date', '(Inflation)', 'PTT_แก๊สโซฮอล์_95', 'PTT_แก๊สโซฮอล์_91',\n",
       "       'PTT_แก๊สโซฮอล์_E20', 'PTT_แก๊สโซฮอล์_E85', 'PTT_ดีเซล',\n",
       "       'อัตราแลกเปลี่ยน_USD_THB', 'BOT_Policy_rate_(อัตราดอกเบี้ย นโยบาย)',\n",
       "       'SCB_ออมทรัพย์(อัตราดอกเบี้ย)',\n",
       "       ...\n",
       "       'LOG_PTT_แก๊สโซฮอล์_E85_LAG_1', 'LOG_PTT_ดีเซล_LAG_1',\n",
       "       'LOG_อัตราแลกเปลี่ยน_USD_THB_LAG_1',\n",
       "       'LOG_BOT_Policy_rate_(อัตราดอกเบี้ย นโยบาย)_LAG_1',\n",
       "       'LOG_SCB_ออมทรัพย์(อัตราดอกเบี้ย)_LAG_1',\n",
       "       'LOG_SCB_ประจำ_3_เดือน(อัตราดอกเบี้ย)_LAG_1',\n",
       "       'LOG_SCB_ประจำ_6_เดือน(อัตราดอกเบี้ย)_LAG_1',\n",
       "       'LOG_SCB_ประจำ_12_เดือน(อัตราดอกเบี้ย)_LAG_1', 'LOG_SET Index_LAG_1',\n",
       "       'LOG_XAU_USD_LAG_1'],\n",
       "      dtype='object', length=211)"
      ]
     },
     "execution_count": 228,
     "metadata": {},
     "output_type": "execute_result"
    }
   ],
   "source": [
    "Factor_data.columns"
   ]
  },
  {
   "cell_type": "code",
   "execution_count": 229,
   "id": "eeedcd18-dc4d-4d76-a3bc-46b384451ce3",
   "metadata": {
    "execution": {
     "iopub.execute_input": "2024-07-16T07:53:02.654230Z",
     "iopub.status.busy": "2024-07-16T07:53:02.650268Z",
     "iopub.status.idle": "2024-07-16T07:53:02.659595Z",
     "shell.execute_reply": "2024-07-16T07:53:02.659595Z",
     "shell.execute_reply.started": "2024-07-16T07:53:02.654230Z"
    },
    "scrolled": true
   },
   "outputs": [],
   "source": [
    "# ln(self/lag) -> lag 12 months\n",
    "# for month in range(1,13):\n",
    "#     Factor_data[['LOG_('+i+f'/{i}_LAG_{month})' for i in factor_col]] = \\\n",
    "#     np.log(Factor_data[[i for i in factor_col]].values/Factor_data[[f'{i}_LAG_{month}' for i in factor_col]].values)"
   ]
  },
  {
   "cell_type": "code",
   "execution_count": 230,
   "id": "cce3d4d1-22bc-4860-bd05-baf8dfa8ebdb",
   "metadata": {
    "execution": {
     "iopub.execute_input": "2024-07-16T07:53:02.910700Z",
     "iopub.status.busy": "2024-07-16T07:53:02.909703Z",
     "iopub.status.idle": "2024-07-16T07:53:02.915437Z",
     "shell.execute_reply": "2024-07-16T07:53:02.914435Z",
     "shell.execute_reply.started": "2024-07-16T07:53:02.910700Z"
    }
   },
   "outputs": [],
   "source": [
    "# Factor_data.columns"
   ]
  },
  {
   "cell_type": "code",
   "execution_count": 231,
   "id": "583009c4-e602-4f3a-af3d-721ce63ece3c",
   "metadata": {
    "execution": {
     "iopub.execute_input": "2024-07-16T07:53:03.129939Z",
     "iopub.status.busy": "2024-07-16T07:53:03.129939Z",
     "iopub.status.idle": "2024-07-16T07:53:03.137437Z",
     "shell.execute_reply": "2024-07-16T07:53:03.136339Z",
     "shell.execute_reply.started": "2024-07-16T07:53:03.129939Z"
    },
    "scrolled": true
   },
   "outputs": [],
   "source": [
    "# ln(self/lag) MoM lag 1-12 months\n",
    "# for month in range(1,13):\n",
    "#     Factor_data[['LOG_MoM_('+i+f'/{i}_LAG_1)_LAG_{month}' for i in factor_col]] = Factor_data[['LOG_('+i+f'/{i}_LAG_1)' for i in factor_col]].shift(month)"
   ]
  },
  {
   "cell_type": "code",
   "execution_count": 232,
   "id": "7f7a4a70-db28-43c1-a5d4-d452018098c8",
   "metadata": {
    "execution": {
     "iopub.execute_input": "2024-07-16T07:53:03.321979Z",
     "iopub.status.busy": "2024-07-16T07:53:03.321979Z",
     "iopub.status.idle": "2024-07-16T07:53:03.333448Z",
     "shell.execute_reply": "2024-07-16T07:53:03.333448Z",
     "shell.execute_reply.started": "2024-07-16T07:53:03.321979Z"
    }
   },
   "outputs": [],
   "source": [
    "# Factor_data.columns"
   ]
  },
  {
   "cell_type": "code",
   "execution_count": 233,
   "id": "4f0f0189-764d-4b8d-8e95-ca74cf81ffbd",
   "metadata": {
    "execution": {
     "iopub.execute_input": "2024-07-16T07:53:03.658169Z",
     "iopub.status.busy": "2024-07-16T07:53:03.658169Z",
     "iopub.status.idle": "2024-07-16T07:53:03.682085Z",
     "shell.execute_reply": "2024-07-16T07:53:03.682085Z",
     "shell.execute_reply.started": "2024-07-16T07:53:03.658169Z"
    }
   },
   "outputs": [],
   "source": [
    "Gold_Factor_data = \\\n",
    "                pd.merge(\n",
    "                    Gold_data,\n",
    "                    Factor_data,\n",
    "                    left_on = 'Report Date',\n",
    "                    right_on = 'Report Date',\n",
    "                    how = 'left'\n",
    "                )"
   ]
  },
  {
   "cell_type": "code",
   "execution_count": 234,
   "id": "60bcc171-1905-4ede-862b-398349efa745",
   "metadata": {
    "execution": {
     "iopub.execute_input": "2024-07-16T07:53:04.091136Z",
     "iopub.status.busy": "2024-07-16T07:53:04.091136Z",
     "iopub.status.idle": "2024-07-16T07:53:04.105231Z",
     "shell.execute_reply": "2024-07-16T07:53:04.103445Z",
     "shell.execute_reply.started": "2024-07-16T07:53:04.091136Z"
    }
   },
   "outputs": [],
   "source": [
    "Gold_Factor_data.replace([np.inf, -np.inf, np.nan],0,inplace=True)\n",
    "# Gold_Factor_data.replace([np.inf, -np.inf],np.nan,inplace=True)\n",
    "Gold_Factor_data = Gold_Factor_data.dropna(axis='columns')"
   ]
  },
  {
   "cell_type": "code",
   "execution_count": 235,
   "id": "16ffa661-99c8-4de4-a739-75bc6b51b457",
   "metadata": {
    "execution": {
     "iopub.execute_input": "2024-07-16T07:53:04.409268Z",
     "iopub.status.busy": "2024-07-16T07:53:04.409268Z",
     "iopub.status.idle": "2024-07-16T07:53:04.421261Z",
     "shell.execute_reply": "2024-07-16T07:53:04.420134Z",
     "shell.execute_reply.started": "2024-07-16T07:53:04.409268Z"
    }
   },
   "outputs": [
    {
     "data": {
      "text/plain": [
       "Index(['Report Date', 'GoldBar_Sale', '(Inflation)', 'PTT_แก๊สโซฮอล์_95',\n",
       "       'PTT_แก๊สโซฮอล์_91', 'PTT_แก๊สโซฮอล์_E20', 'PTT_แก๊สโซฮอล์_E85',\n",
       "       'PTT_ดีเซล', 'อัตราแลกเปลี่ยน_USD_THB',\n",
       "       'BOT_Policy_rate_(อัตราดอกเบี้ย นโยบาย)',\n",
       "       ...\n",
       "       'LOG_PTT_แก๊สโซฮอล์_E85_LAG_1', 'LOG_PTT_ดีเซล_LAG_1',\n",
       "       'LOG_อัตราแลกเปลี่ยน_USD_THB_LAG_1',\n",
       "       'LOG_BOT_Policy_rate_(อัตราดอกเบี้ย นโยบาย)_LAG_1',\n",
       "       'LOG_SCB_ออมทรัพย์(อัตราดอกเบี้ย)_LAG_1',\n",
       "       'LOG_SCB_ประจำ_3_เดือน(อัตราดอกเบี้ย)_LAG_1',\n",
       "       'LOG_SCB_ประจำ_6_เดือน(อัตราดอกเบี้ย)_LAG_1',\n",
       "       'LOG_SCB_ประจำ_12_เดือน(อัตราดอกเบี้ย)_LAG_1', 'LOG_SET Index_LAG_1',\n",
       "       'LOG_XAU_USD_LAG_1'],\n",
       "      dtype='object', length=212)"
      ]
     },
     "execution_count": 235,
     "metadata": {},
     "output_type": "execute_result"
    }
   ],
   "source": [
    "Gold_Factor_data.columns"
   ]
  },
  {
   "cell_type": "code",
   "execution_count": 236,
   "id": "b99116e8-09a2-4d5c-85a7-b095a7bce592",
   "metadata": {
    "execution": {
     "iopub.execute_input": "2024-07-16T07:53:04.955562Z",
     "iopub.status.busy": "2024-07-16T07:53:04.955562Z",
     "iopub.status.idle": "2024-07-16T07:53:04.964941Z",
     "shell.execute_reply": "2024-07-16T07:53:04.964941Z",
     "shell.execute_reply.started": "2024-07-16T07:53:04.955562Z"
    }
   },
   "outputs": [
    {
     "name": "stderr",
     "output_type": "stream",
     "text": [
      "C:\\Users\\temp5\\AppData\\Local\\Temp\\ipykernel_8716\\3363949668.py:2: FutureWarning: A value is trying to be set on a copy of a DataFrame or Series through chained assignment using an inplace method.\n",
      "The behavior will change in pandas 3.0. This inplace method will never work because the intermediate object on which we are setting values always behaves as a copy.\n",
      "\n",
      "For example, when doing 'df[col].method(value, inplace=True)', try using 'df.method({col: value}, inplace=True)' or df[col] = df[col].method(value) instead, to perform the operation inplace on the original object.\n",
      "\n",
      "\n",
      "  Gold_Factor_data['LOGIT'].replace([np.inf, -np.inf, np.nan],0,inplace=True)\n"
     ]
    }
   ],
   "source": [
    "Gold_Factor_data['LOGIT'] = np.log(Gold_Factor_data['GoldBar_Sale'].values)\n",
    "Gold_Factor_data['LOGIT'].replace([np.inf, -np.inf, np.nan],0,inplace=True)"
   ]
  },
  {
   "cell_type": "code",
   "execution_count": 237,
   "id": "8857c355-da6f-440d-bc3b-f0e84a86b582",
   "metadata": {
    "execution": {
     "iopub.execute_input": "2024-07-16T07:53:05.498255Z",
     "iopub.status.busy": "2024-07-16T07:53:05.498255Z",
     "iopub.status.idle": "2024-07-16T07:53:05.512887Z",
     "shell.execute_reply": "2024-07-16T07:53:05.512887Z",
     "shell.execute_reply.started": "2024-07-16T07:53:05.498255Z"
    }
   },
   "outputs": [
    {
     "data": {
      "text/plain": [
       "Index(['Report Date', '(Inflation)', 'PTT_แก๊สโซฮอล์_95', 'PTT_แก๊สโซฮอล์_91',\n",
       "       'PTT_แก๊สโซฮอล์_E20', 'PTT_แก๊สโซฮอล์_E85', 'PTT_ดีเซล',\n",
       "       'อัตราแลกเปลี่ยน_USD_THB', 'BOT_Policy_rate_(อัตราดอกเบี้ย นโยบาย)',\n",
       "       'SCB_ออมทรัพย์(อัตราดอกเบี้ย)',\n",
       "       ...\n",
       "       'LOG_PTT_แก๊สโซฮอล์_E85_LAG_1', 'LOG_PTT_ดีเซล_LAG_1',\n",
       "       'LOG_อัตราแลกเปลี่ยน_USD_THB_LAG_1',\n",
       "       'LOG_BOT_Policy_rate_(อัตราดอกเบี้ย นโยบาย)_LAG_1',\n",
       "       'LOG_SCB_ออมทรัพย์(อัตราดอกเบี้ย)_LAG_1',\n",
       "       'LOG_SCB_ประจำ_3_เดือน(อัตราดอกเบี้ย)_LAG_1',\n",
       "       'LOG_SCB_ประจำ_6_เดือน(อัตราดอกเบี้ย)_LAG_1',\n",
       "       'LOG_SCB_ประจำ_12_เดือน(อัตราดอกเบี้ย)_LAG_1', 'LOG_SET Index_LAG_1',\n",
       "       'LOG_XAU_USD_LAG_1'],\n",
       "      dtype='object', length=211)"
      ]
     },
     "execution_count": 237,
     "metadata": {},
     "output_type": "execute_result"
    }
   ],
   "source": [
    "Factor_data.columns"
   ]
  },
  {
   "cell_type": "code",
   "execution_count": 238,
   "id": "deccd72b-b357-4c5d-8fbd-01361f3ee2ce",
   "metadata": {
    "execution": {
     "iopub.execute_input": "2024-07-16T07:53:06.207345Z",
     "iopub.status.busy": "2024-07-16T07:53:06.206381Z",
     "iopub.status.idle": "2024-07-16T07:53:06.213726Z",
     "shell.execute_reply": "2024-07-16T07:53:06.213726Z",
     "shell.execute_reply.started": "2024-07-16T07:53:06.207345Z"
    }
   },
   "outputs": [
    {
     "data": {
      "text/plain": [
       "0       9.888374\n",
       "1       9.920836\n",
       "2       9.920836\n",
       "3       9.982761\n",
       "4       9.998798\n",
       "         ...    \n",
       "151    10.373491\n",
       "152    10.393600\n",
       "153    10.439981\n",
       "154    10.422281\n",
       "155    10.423768\n",
       "Name: LOGIT, Length: 156, dtype: float64"
      ]
     },
     "execution_count": 238,
     "metadata": {},
     "output_type": "execute_result"
    }
   ],
   "source": [
    "Gold_Factor_data['LOGIT']"
   ]
  },
  {
   "cell_type": "code",
   "execution_count": 258,
   "id": "a82582fb-356c-4d13-a7b1-af901a452494",
   "metadata": {
    "execution": {
     "iopub.execute_input": "2024-07-16T08:30:24.200771Z",
     "iopub.status.busy": "2024-07-16T08:30:24.199771Z",
     "iopub.status.idle": "2024-07-16T08:30:25.038201Z",
     "shell.execute_reply": "2024-07-16T08:30:25.038201Z",
     "shell.execute_reply.started": "2024-07-16T08:30:24.200771Z"
    }
   },
   "outputs": [],
   "source": [
    "Gold_Factor_data.to_excel(\"LAG_RESULT.xlsx\")"
   ]
  },
  {
   "cell_type": "markdown",
   "id": "3d94ee79-aa72-4ad0-8628-253d5bf838b2",
   "metadata": {},
   "source": [
    "เลือกตัวแปรที่สนใจ และเกี่ยวข้องกับทองคำ"
   ]
  },
  {
   "cell_type": "code",
   "execution_count": 239,
   "id": "4ab4ae2d-daeb-4a52-9486-3ad7e3af5a24",
   "metadata": {
    "execution": {
     "iopub.execute_input": "2024-07-16T07:53:06.921659Z",
     "iopub.status.busy": "2024-07-16T07:53:06.921659Z",
     "iopub.status.idle": "2024-07-16T07:53:09.422343Z",
     "shell.execute_reply": "2024-07-16T07:53:09.421342Z",
     "shell.execute_reply.started": "2024-07-16T07:53:06.921659Z"
    },
    "scrolled": true
   },
   "outputs": [
    {
     "data": {
      "text/html": [
       "<div>\n",
       "<style scoped>\n",
       "    .dataframe tbody tr th:only-of-type {\n",
       "        vertical-align: middle;\n",
       "    }\n",
       "\n",
       "    .dataframe tbody tr th {\n",
       "        vertical-align: top;\n",
       "    }\n",
       "\n",
       "    .dataframe thead th {\n",
       "        text-align: right;\n",
       "    }\n",
       "</style>\n",
       "<table border=\"1\" class=\"dataframe\">\n",
       "  <thead>\n",
       "    <tr style=\"text-align: right;\">\n",
       "      <th></th>\n",
       "      <th>Factor</th>\n",
       "      <th>r2</th>\n",
       "      <th>sign</th>\n",
       "      <th>adf</th>\n",
       "      <th>adf_result</th>\n",
       "    </tr>\n",
       "  </thead>\n",
       "  <tbody>\n",
       "    <tr>\n",
       "      <th>0</th>\n",
       "      <td>(Inflation)</td>\n",
       "      <td>0.05187151977125404</td>\n",
       "      <td>+</td>\n",
       "      <td>0.384208513196113</td>\n",
       "      <td>PASS</td>\n",
       "    </tr>\n",
       "    <tr>\n",
       "      <th>1</th>\n",
       "      <td>(Inflation)_LAG_1</td>\n",
       "      <td>0.054405709215588516</td>\n",
       "      <td>+</td>\n",
       "      <td>0.3362302389299119</td>\n",
       "      <td>PASS</td>\n",
       "    </tr>\n",
       "    <tr>\n",
       "      <th>2</th>\n",
       "      <td>(Inflation)_LAG_2</td>\n",
       "      <td>0.055283130021961724</td>\n",
       "      <td>+</td>\n",
       "      <td>0.19741664974776724</td>\n",
       "      <td>PASS</td>\n",
       "    </tr>\n",
       "    <tr>\n",
       "      <th>3</th>\n",
       "      <td>(Inflation)_LAG_3</td>\n",
       "      <td>0.05670107871432539</td>\n",
       "      <td>+</td>\n",
       "      <td>0.3039389850156042</td>\n",
       "      <td>PASS</td>\n",
       "    </tr>\n",
       "    <tr>\n",
       "      <th>4</th>\n",
       "      <td>(Inflation)_LAG_4</td>\n",
       "      <td>0.05645775960343169</td>\n",
       "      <td>+</td>\n",
       "      <td>0.3660969987165338</td>\n",
       "      <td>PASS</td>\n",
       "    </tr>\n",
       "    <tr>\n",
       "      <th>...</th>\n",
       "      <td>...</td>\n",
       "      <td>...</td>\n",
       "      <td>...</td>\n",
       "      <td>...</td>\n",
       "      <td>...</td>\n",
       "    </tr>\n",
       "    <tr>\n",
       "      <th>205</th>\n",
       "      <td>XAU_USD_LAG_10</td>\n",
       "      <td>0.006694119343623961</td>\n",
       "      <td>-</td>\n",
       "      <td>0.007219028393346012</td>\n",
       "      <td>PASS</td>\n",
       "    </tr>\n",
       "    <tr>\n",
       "      <th>206</th>\n",
       "      <td>XAU_USD_LAG_11</td>\n",
       "      <td>0.012528274798980776</td>\n",
       "      <td>-</td>\n",
       "      <td>0.01045275165155568</td>\n",
       "      <td>PASS</td>\n",
       "    </tr>\n",
       "    <tr>\n",
       "      <th>207</th>\n",
       "      <td>XAU_USD_LAG_12</td>\n",
       "      <td>0.014825388845696175</td>\n",
       "      <td>-</td>\n",
       "      <td>0.015053462057879536</td>\n",
       "      <td>PASS</td>\n",
       "    </tr>\n",
       "    <tr>\n",
       "      <th>208</th>\n",
       "      <td>LOG_XAU_USD</td>\n",
       "      <td>0.0006549384190054353</td>\n",
       "      <td>+</td>\n",
       "      <td>0.19306634129907924</td>\n",
       "      <td>PASS</td>\n",
       "    </tr>\n",
       "    <tr>\n",
       "      <th>209</th>\n",
       "      <td>LOG_XAU_USD_LAG_1</td>\n",
       "      <td>0.004373423165069279</td>\n",
       "      <td>+</td>\n",
       "      <td>0.0</td>\n",
       "      <td>PASS</td>\n",
       "    </tr>\n",
       "  </tbody>\n",
       "</table>\n",
       "<p>210 rows × 5 columns</p>\n",
       "</div>"
      ],
      "text/plain": [
       "                Factor                     r2 sign                   adf  \\\n",
       "0          (Inflation)    0.05187151977125404    +     0.384208513196113   \n",
       "1    (Inflation)_LAG_1   0.054405709215588516    +    0.3362302389299119   \n",
       "2    (Inflation)_LAG_2   0.055283130021961724    +   0.19741664974776724   \n",
       "3    (Inflation)_LAG_3    0.05670107871432539    +    0.3039389850156042   \n",
       "4    (Inflation)_LAG_4    0.05645775960343169    +    0.3660969987165338   \n",
       "..                 ...                    ...  ...                   ...   \n",
       "205     XAU_USD_LAG_10   0.006694119343623961    -  0.007219028393346012   \n",
       "206     XAU_USD_LAG_11   0.012528274798980776    -   0.01045275165155568   \n",
       "207     XAU_USD_LAG_12   0.014825388845696175    -  0.015053462057879536   \n",
       "208        LOG_XAU_USD  0.0006549384190054353    +   0.19306634129907924   \n",
       "209  LOG_XAU_USD_LAG_1   0.004373423165069279    +                   0.0   \n",
       "\n",
       "    adf_result  \n",
       "0         PASS  \n",
       "1         PASS  \n",
       "2         PASS  \n",
       "3         PASS  \n",
       "4         PASS  \n",
       "..         ...  \n",
       "205       PASS  \n",
       "206       PASS  \n",
       "207       PASS  \n",
       "208       PASS  \n",
       "209       PASS  \n",
       "\n",
       "[210 rows x 5 columns]"
      ]
     },
     "execution_count": 239,
     "metadata": {},
     "output_type": "execute_result"
    }
   ],
   "source": [
    "import statsmodels.api as sm\n",
    "from statsmodels.compat import lzip\n",
    "from statsmodels.tsa.stattools import adfuller\n",
    "main_Factor_list = factor_col\n",
    "# Factor_list = Gold_Factor_data.drop(columns = ['GoldBar_Sale'] ).columns\n",
    "# Factor_list = Gold_Factor_data.drop(columns = ['Report Date','GoldBar_Sale','LOGIT']).columns\n",
    "Factor_list = Gold_Factor_data.drop(columns = ['Report Date','GoldBar_Sale','LOGIT']).columns\n",
    "All_result_table = pd.DataFrame()\n",
    "All_result_table_best = pd.DataFrame()\n",
    "\n",
    "for ix , temp_factor_group in enumerate(main_Factor_list,1):\n",
    "    Factor_group = [i for i in Factor_list if temp_factor_group in i]\n",
    "    r2_list = []\n",
    "    # print(ix , \" \" , temp_factor_group , \" \" , Factor_group)\n",
    "    # print(Factor_group)\n",
    "    temp_result_table = pd.DataFrame()\n",
    "    for temp_factor in Factor_group:\n",
    "        X_train = np.array(Gold_Factor_data[temp_factor].values , dtype=float)\n",
    "        y_train = np.array(Gold_Factor_data['LOGIT'].values , dtype=float)\n",
    "        # y_train = np.array(Gold_Factor_data['GoldBar_Sale'].values , dtype=float)\n",
    "        \n",
    "        X_train_1 = X_train.reshape(-1,1)\n",
    "        y_train_1 = y_train.reshape(-1,1)\n",
    "\n",
    "        # test stationary test 10%\n",
    "        adf = adfuller(X_train)[1]\n",
    "        adf_result = 'PASS' if adfuller(X_train)[1] <= 0.4 else 'FAIL'\n",
    "\n",
    "        #Regression\n",
    "        linear_model = LinearRegression()\n",
    "        linear_model.fit(X_train_1 , y_train_1)\n",
    "\n",
    "        X_train = sm.add_constant(X_train)\n",
    "        reg = sm.OLS(y_train , X_train).fit()\n",
    "        sign = '+' if linear_model.coef_ > 0 else '-'\n",
    "\n",
    "        r2_list.append((temp_factor,reg.rsquared,sign,adf,adf_result))\n",
    "        # print(r2_list)\n",
    "\n",
    "    temp_result_table['Factor'] = np.array(r2_list)[:,0]\n",
    "    temp_result_table['r2'] = np.array(r2_list)[:,1]\n",
    "    temp_result_table['sign'] = np.array(r2_list)[:,2]\n",
    "    temp_result_table['adf'] = np.array(r2_list)[:,3]\n",
    "    temp_result_table['adf_result'] = np.array(r2_list)[:,4]\n",
    "\n",
    "    temp_result_table_sort = temp_result_table.sort_values(['adf_result','r2'], ascending = [False,False]).reset_index(drop=True)\n",
    "\n",
    "    if ix == 1:\n",
    "        All_result_table = temp_result_table\n",
    "        All_result_table_best = temp_result_table_sort.head(1)\n",
    "    else:\n",
    "        All_result_table = pd.concat([All_result_table,temp_result_table], ignore_index = True)\n",
    "        All_result_table_best = pd.concat([All_result_table,temp_result_table_sort.head(1)], ignore_index = True)\n",
    "All_result_table"
   ]
  },
  {
   "cell_type": "code",
   "execution_count": 240,
   "id": "4f3e126d-73de-4c5a-aafd-99183134a482",
   "metadata": {
    "execution": {
     "iopub.execute_input": "2024-07-16T07:53:09.423355Z",
     "iopub.status.busy": "2024-07-16T07:53:09.423355Z",
     "iopub.status.idle": "2024-07-16T07:53:09.429049Z",
     "shell.execute_reply": "2024-07-16T07:53:09.429049Z",
     "shell.execute_reply.started": "2024-07-16T07:53:09.423355Z"
    }
   },
   "outputs": [
    {
     "data": {
      "text/plain": [
       "Index(['(Inflation)', 'PTT_แก๊สโซฮอล์_95', 'PTT_แก๊สโซฮอล์_91',\n",
       "       'PTT_แก๊สโซฮอล์_E20', 'PTT_แก๊สโซฮอล์_E85', 'PTT_ดีเซล',\n",
       "       'อัตราแลกเปลี่ยน_USD_THB', 'BOT_Policy_rate_(อัตราดอกเบี้ย นโยบาย)',\n",
       "       'SCB_ออมทรัพย์(อัตราดอกเบี้ย)', 'SCB_ประจำ_3_เดือน(อัตราดอกเบี้ย)',\n",
       "       ...\n",
       "       'LOG_PTT_แก๊สโซฮอล์_E85_LAG_1', 'LOG_PTT_ดีเซล_LAG_1',\n",
       "       'LOG_อัตราแลกเปลี่ยน_USD_THB_LAG_1',\n",
       "       'LOG_BOT_Policy_rate_(อัตราดอกเบี้ย นโยบาย)_LAG_1',\n",
       "       'LOG_SCB_ออมทรัพย์(อัตราดอกเบี้ย)_LAG_1',\n",
       "       'LOG_SCB_ประจำ_3_เดือน(อัตราดอกเบี้ย)_LAG_1',\n",
       "       'LOG_SCB_ประจำ_6_เดือน(อัตราดอกเบี้ย)_LAG_1',\n",
       "       'LOG_SCB_ประจำ_12_เดือน(อัตราดอกเบี้ย)_LAG_1', 'LOG_SET Index_LAG_1',\n",
       "       'LOG_XAU_USD_LAG_1'],\n",
       "      dtype='object', length=210)"
      ]
     },
     "execution_count": 240,
     "metadata": {},
     "output_type": "execute_result"
    }
   ],
   "source": [
    "Factor_list"
   ]
  },
  {
   "cell_type": "code",
   "execution_count": 241,
   "id": "bbb2a526-3288-4f57-a601-5bf194c21924",
   "metadata": {
    "execution": {
     "iopub.execute_input": "2024-07-16T07:53:09.430049Z",
     "iopub.status.busy": "2024-07-16T07:53:09.430049Z",
     "iopub.status.idle": "2024-07-16T07:53:09.578838Z",
     "shell.execute_reply": "2024-07-16T07:53:09.578838Z",
     "shell.execute_reply.started": "2024-07-16T07:53:09.430049Z"
    }
   },
   "outputs": [],
   "source": [
    "Pass_Factor_list = All_result_table[All_result_table['adf_result'] == 'PASS']\n",
    "Pass_Factor_list.to_excel(\"ADF_RESULT_PASS.xlsx\")"
   ]
  },
  {
   "cell_type": "code",
   "execution_count": 242,
   "id": "c8785a06-ec1d-4608-be16-41ced38b0c7e",
   "metadata": {
    "execution": {
     "iopub.execute_input": "2024-07-16T07:53:09.580844Z",
     "iopub.status.busy": "2024-07-16T07:53:09.580844Z",
     "iopub.status.idle": "2024-07-16T07:53:09.630622Z",
     "shell.execute_reply": "2024-07-16T07:53:09.630622Z",
     "shell.execute_reply.started": "2024-07-16T07:53:09.580844Z"
    }
   },
   "outputs": [],
   "source": [
    "Pass_Factor_list = Pass_Factor_list['Factor']"
   ]
  },
  {
   "cell_type": "markdown",
   "id": "f67b66d6-bac5-4469-a38c-1385e50f45cb",
   "metadata": {},
   "source": [
    "Overall Model Performance"
   ]
  },
  {
   "cell_type": "code",
   "execution_count": 244,
   "id": "cb10066d-79d1-46f3-9cf1-86143f331423",
   "metadata": {
    "execution": {
     "iopub.execute_input": "2024-07-16T07:53:28.081283Z",
     "iopub.status.busy": "2024-07-16T07:53:28.081283Z",
     "iopub.status.idle": "2024-07-16T07:53:28.090111Z",
     "shell.execute_reply": "2024-07-16T07:53:28.090111Z",
     "shell.execute_reply.started": "2024-07-16T07:53:28.081283Z"
    }
   },
   "outputs": [
    {
     "data": {
      "text/plain": [
       "17020"
      ]
     },
     "execution_count": 244,
     "metadata": {},
     "output_type": "execute_result"
    }
   ],
   "source": [
    "from itertools import combinations\n",
    "# comb_list = [i for i in combinations(Pass_Factor_list , 3)] + [i for i in combinations(Pass_Factor_list, 2)]\n",
    "comb_list = [i for i in combinations(Pass_Factor_list , 2)]\n",
    "len(comb_list)\n",
    "# 2 fac\n",
    "#5000 = 2 min\n",
    "#2346 = 50 sec\n",
    "#30856 = 14 min\n",
    "#4186 = 1.34 min/sec\n",
    "#9453 = 3.32 min/sec\n",
    "#17020 = 6.52 min/sec"
   ]
  },
  {
   "cell_type": "code",
   "execution_count": 245,
   "id": "de4e14c6-1d8b-4533-80b5-d741944013e9",
   "metadata": {
    "execution": {
     "iopub.execute_input": "2024-07-16T07:53:28.905557Z",
     "iopub.status.busy": "2024-07-16T07:53:28.905557Z",
     "iopub.status.idle": "2024-07-16T08:00:21.709774Z",
     "shell.execute_reply": "2024-07-16T08:00:21.709774Z",
     "shell.execute_reply.started": "2024-07-16T07:53:28.905557Z"
    },
    "scrolled": true
   },
   "outputs": [],
   "source": [
    "from sklearn.linear_model import LinearRegression\n",
    "from sklearn.metrics import r2_score\n",
    "from scipy.stats import anderson as AD\n",
    "from statsmodels.stats.outliers_influence import variance_inflation_factor\n",
    "\n",
    "all_stats_results = pd.DataFrame()\n",
    "\n",
    "# y_train = np.array(Gold_Factor_data['GoldBar_Sale'].values , dtype=float)\n",
    "y_train = np.array(Gold_Factor_data['LOGIT'].values , dtype=float)\n",
    "\n",
    "for out_index , comb in enumerate(comb_list,1):\n",
    "    selected_Factor = list(comb)\n",
    "    X_train = np.array(Gold_Factor_data[selected_Factor].values , dtype = float)\n",
    "\n",
    "    linear_model = LinearRegression()\n",
    "    linear_model.fit(X_train , y_train)\n",
    "\n",
    "    X_train = sm.add_constant(X_train)\n",
    "    reg = sm.OLS(y_train , X_train).fit()\n",
    "\n",
    "    X_train = X_train[:,1:]\n",
    "    y_pred = linear_model.predict(X_train)\n",
    "\n",
    "    stats_results = pd.DataFrame()\n",
    "    stats_results[[f'FACTOR_{i+1}' for i in range(len(selected_Factor))]] = np.array([selected_Factor])\n",
    "\n",
    "    coeff_result = reg.summary2().tables[1].iloc[:,:1].transpose().reset_index(drop=True)\n",
    "    for i in ['const','x1','x2']:\n",
    "        if i in coeff_result.columns:\n",
    "            stats_results[i] = coeff_result[i]\n",
    "        else:\n",
    "            stats_results[i] = None\n",
    "    # P-Value\n",
    "    stats_results[['intercept_p_value'] + [f'FACTOR_{i+1}_p_value' for i in range(len(selected_Factor))]] = reg.pvalues\n",
    "    # ADJ Rsq\n",
    "    r2 = r2_score(y_train,y_pred)\n",
    "    n , p = X_train.shape\n",
    "    adj_r2 = 1 - (( 1 - r2 ) * (n - 1) / (n - p - 1))\n",
    "    stats_results['r2'] = r2\n",
    "    stats_results['adj_r2'] = adj_r2\n",
    "    # F stats\n",
    "    stats_results['Probability of F-Stats'] = reg.summary2().tables[0][3].astype(float)[5]\n",
    "    # Anderson Darling\n",
    "    stats_results['AD'] = AD(reg.resid , dist='norm')[0]\n",
    "    stats_results['AD_criteria'] = [{i:j for i , j in zip(AD( reg.resid , dist='norm')[2],\n",
    "                                                         AD( reg.resid , dist='norm')[1]\n",
    "                                                         )}]\n",
    "    stats_results['AD_criteria_0.05'] = AD( reg.resid , dist='norm')[1][2:3]\n",
    "    # Breusch-Pagan\n",
    "    name_stats = ['Lagrange multiplier statistic','p-value','f-value','f p-value']\n",
    "    test = sm.stats.het_breuschpagan(reg.resid , reg.model.exog )\n",
    "    stats_results['BP_pvalues'] = lzip(name_stats , test )[1][1]\n",
    "    # Durbin Watson\n",
    "    stats_results['Durbin_Watson'] = sm.stats.durbin_watson(reg.resid)\n",
    "    # VIF \n",
    "    VIF_values = [variance_inflation_factor(Gold_Factor_data[selected_Factor].values , i) for i in range(len(selected_Factor))]\n",
    "\n",
    "    for in_index , i in enumerate(selected_Factor , 0 ):\n",
    "        stats_results[f'VIF_Factor_{in_index+1}'] = VIF_values[in_index]\n",
    "    if out_index == 1:\n",
    "        all_stats_results = stats_results\n",
    "    else:\n",
    "        all_stats_results = pd.concat([all_stats_results, stats_results], axis = 0).reset_index(drop=True)\n",
    "all_stats_results = all_stats_results.sort_values('adj_r2', ascending = False)"
   ]
  },
  {
   "cell_type": "code",
   "execution_count": 247,
   "id": "db338ba8-bcc3-4acc-9ebc-5830e791f7d6",
   "metadata": {
    "execution": {
     "iopub.execute_input": "2024-07-16T08:00:43.168424Z",
     "iopub.status.busy": "2024-07-16T08:00:43.167429Z",
     "iopub.status.idle": "2024-07-16T08:00:43.172899Z",
     "shell.execute_reply": "2024-07-16T08:00:43.171899Z",
     "shell.execute_reply.started": "2024-07-16T08:00:43.168424Z"
    }
   },
   "outputs": [],
   "source": [
    "Pass_Stat_list = all_stats_results"
   ]
  },
  {
   "cell_type": "code",
   "execution_count": 260,
   "id": "d110a5a4-d0e1-408e-aa2d-33be4d3aca8d",
   "metadata": {
    "execution": {
     "iopub.execute_input": "2024-07-16T09:11:00.248694Z",
     "iopub.status.busy": "2024-07-16T09:11:00.248694Z",
     "iopub.status.idle": "2024-07-16T09:11:00.261185Z",
     "shell.execute_reply": "2024-07-16T09:11:00.261185Z",
     "shell.execute_reply.started": "2024-07-16T09:11:00.248694Z"
    }
   },
   "outputs": [],
   "source": [
    "#Adj Stats in factor to interesting\n",
    "Pass_Stat_list = all_stats_results[all_stats_results['r2'] >= 0.5]\n",
    "Pass_Stat_list = all_stats_results[all_stats_results['adj_r2'] >= 0.5]\n",
    "Pass_Stat_list = Pass_Stat_list[Pass_Stat_list['Probability of F-Stats'] <= 0.5]\n",
    "Pass_Stat_list = Pass_Stat_list[Pass_Stat_list['AD'] < Pass_Stat_list['AD_criteria_0.05']]\n",
    "Pass_Stat_list = Pass_Stat_list[Pass_Stat_list['BP_pvalues'] > 0.05]\n",
    "# Pass_Stat_list = Pass_Stat_list[Pass_Stat_list['Durbin_Watson'] >= 1] # ใช้ไมได้\n",
    "Pass_Stat_list = Pass_Stat_list[Pass_Stat_list['VIF_Factor_1'] <= 5]\n",
    "Pass_Stat_list = Pass_Stat_list[Pass_Stat_list['VIF_Factor_2'] <= 5]\n",
    "# Pass_Stat_list = Pass_Stat_list[Pass_Stat_list['VIF_Factor_3'] <= 5]\n",
    "# Pass_Stat_list = Pass_Stat_list[Pass_Stat_list['VIF_Factor_4'] <= 5]\n",
    "# Pass_Stat_list = Pass_Stat_list[(Pass_Stat_list['VIF_Factor_3'] <= 5 | (Pass_Stat_list['VIF_Factor_3'].isna()))]"
   ]
  },
  {
   "cell_type": "code",
   "execution_count": 261,
   "id": "07ea6873-2a07-47ff-97eb-7facd0f1b7c3",
   "metadata": {
    "execution": {
     "iopub.execute_input": "2024-07-16T09:11:00.510572Z",
     "iopub.status.busy": "2024-07-16T09:11:00.509549Z",
     "iopub.status.idle": "2024-07-16T09:11:00.532337Z",
     "shell.execute_reply": "2024-07-16T09:11:00.532337Z",
     "shell.execute_reply.started": "2024-07-16T09:11:00.510572Z"
    },
    "scrolled": true
   },
   "outputs": [
    {
     "data": {
      "text/html": [
       "<div>\n",
       "<style scoped>\n",
       "    .dataframe tbody tr th:only-of-type {\n",
       "        vertical-align: middle;\n",
       "    }\n",
       "\n",
       "    .dataframe tbody tr th {\n",
       "        vertical-align: top;\n",
       "    }\n",
       "\n",
       "    .dataframe thead th {\n",
       "        text-align: right;\n",
       "    }\n",
       "</style>\n",
       "<table border=\"1\" class=\"dataframe\">\n",
       "  <thead>\n",
       "    <tr style=\"text-align: right;\">\n",
       "      <th></th>\n",
       "      <th>FACTOR_1</th>\n",
       "      <th>FACTOR_2</th>\n",
       "      <th>intercept_p_value</th>\n",
       "      <th>x1</th>\n",
       "      <th>x2</th>\n",
       "      <th>r2</th>\n",
       "      <th>adj_r2</th>\n",
       "      <th>AD</th>\n",
       "      <th>AD_criteria_0.05</th>\n",
       "      <th>BP_pvalues</th>\n",
       "      <th>Durbin_Watson</th>\n",
       "      <th>Probability of F-Stats</th>\n",
       "      <th>VIF_Factor_1</th>\n",
       "      <th>VIF_Factor_2</th>\n",
       "    </tr>\n",
       "  </thead>\n",
       "  <tbody>\n",
       "    <tr>\n",
       "      <th>1221</th>\n",
       "      <td>(Inflation)_LAG_6</td>\n",
       "      <td>LOG_SCB_ประจำ_6_เดือน(อัตราดอกเบี้ย)_LAG_1</td>\n",
       "      <td>2.063775e-258</td>\n",
       "      <td>0.117846</td>\n",
       "      <td>-0.259044</td>\n",
       "      <td>0.532340</td>\n",
       "      <td>0.526227</td>\n",
       "      <td>0.566477</td>\n",
       "      <td>0.768</td>\n",
       "      <td>0.068126</td>\n",
       "      <td>0.149328</td>\n",
       "      <td>5.620000e-26</td>\n",
       "      <td>1.156848</td>\n",
       "      <td>1.156848</td>\n",
       "    </tr>\n",
       "    <tr>\n",
       "      <th>1220</th>\n",
       "      <td>(Inflation)_LAG_6</td>\n",
       "      <td>LOG_SCB_ประจำ_6_เดือน(อัตราดอกเบี้ย)</td>\n",
       "      <td>4.189700e-257</td>\n",
       "      <td>0.120822</td>\n",
       "      <td>-0.258278</td>\n",
       "      <td>0.519139</td>\n",
       "      <td>0.512853</td>\n",
       "      <td>0.767801</td>\n",
       "      <td>0.768</td>\n",
       "      <td>0.079108</td>\n",
       "      <td>0.152002</td>\n",
       "      <td>4.730000e-25</td>\n",
       "      <td>1.171016</td>\n",
       "      <td>1.171016</td>\n",
       "    </tr>\n",
       "    <tr>\n",
       "      <th>1043</th>\n",
       "      <td>(Inflation)_LAG_5</td>\n",
       "      <td>LOG_SCB_ประจำ_6_เดือน(อัตราดอกเบี้ย)_LAG_1</td>\n",
       "      <td>2.123953e-257</td>\n",
       "      <td>0.113568</td>\n",
       "      <td>-0.250993</td>\n",
       "      <td>0.517590</td>\n",
       "      <td>0.511284</td>\n",
       "      <td>0.620791</td>\n",
       "      <td>0.768</td>\n",
       "      <td>0.166975</td>\n",
       "      <td>0.152727</td>\n",
       "      <td>6.040000e-25</td>\n",
       "      <td>1.141366</td>\n",
       "      <td>1.141366</td>\n",
       "    </tr>\n",
       "    <tr>\n",
       "      <th>1208</th>\n",
       "      <td>(Inflation)_LAG_6</td>\n",
       "      <td>LOG_SCB_ประจำ_3_เดือน(อัตราดอกเบี้ย)_LAG_1</td>\n",
       "      <td>3.319991e-248</td>\n",
       "      <td>0.122854</td>\n",
       "      <td>-0.254314</td>\n",
       "      <td>0.507957</td>\n",
       "      <td>0.501525</td>\n",
       "      <td>0.655386</td>\n",
       "      <td>0.768</td>\n",
       "      <td>0.090890</td>\n",
       "      <td>0.144206</td>\n",
       "      <td>2.740000e-24</td>\n",
       "      <td>1.003317</td>\n",
       "      <td>1.003317</td>\n",
       "    </tr>\n",
       "  </tbody>\n",
       "</table>\n",
       "</div>"
      ],
      "text/plain": [
       "               FACTOR_1                                    FACTOR_2  \\\n",
       "1221  (Inflation)_LAG_6  LOG_SCB_ประจำ_6_เดือน(อัตราดอกเบี้ย)_LAG_1   \n",
       "1220  (Inflation)_LAG_6        LOG_SCB_ประจำ_6_เดือน(อัตราดอกเบี้ย)   \n",
       "1043  (Inflation)_LAG_5  LOG_SCB_ประจำ_6_เดือน(อัตราดอกเบี้ย)_LAG_1   \n",
       "1208  (Inflation)_LAG_6  LOG_SCB_ประจำ_3_เดือน(อัตราดอกเบี้ย)_LAG_1   \n",
       "\n",
       "      intercept_p_value        x1        x2        r2    adj_r2        AD  \\\n",
       "1221      2.063775e-258  0.117846 -0.259044  0.532340  0.526227  0.566477   \n",
       "1220      4.189700e-257  0.120822 -0.258278  0.519139  0.512853  0.767801   \n",
       "1043      2.123953e-257  0.113568 -0.250993  0.517590  0.511284  0.620791   \n",
       "1208      3.319991e-248  0.122854 -0.254314  0.507957  0.501525  0.655386   \n",
       "\n",
       "      AD_criteria_0.05  BP_pvalues  Durbin_Watson  Probability of F-Stats  \\\n",
       "1221             0.768    0.068126       0.149328            5.620000e-26   \n",
       "1220             0.768    0.079108       0.152002            4.730000e-25   \n",
       "1043             0.768    0.166975       0.152727            6.040000e-25   \n",
       "1208             0.768    0.090890       0.144206            2.740000e-24   \n",
       "\n",
       "      VIF_Factor_1  VIF_Factor_2  \n",
       "1221      1.156848      1.156848  \n",
       "1220      1.171016      1.171016  \n",
       "1043      1.141366      1.141366  \n",
       "1208      1.003317      1.003317  "
      ]
     },
     "execution_count": 261,
     "metadata": {},
     "output_type": "execute_result"
    }
   ],
   "source": [
    "# Pass_Stat_list['adj_r2'].max()\n",
    "# Pass_Stat_list[Pass_Stat_list['adj_r2'].values == Pass_Stat_list['adj_r2'].max()]\n",
    "# Pass_Stat_list.describe()\n",
    "# Pass_Stat_list.info()\n",
    "# Pass_Stat_list[['FACTOR_1','FACTOR_2','FACTOR_3','FACTOR_4','FACTOR_5','FACTOR_6','FACTOR_7','const','x1','x2','x3','x4','x5','x6','x7','r2','adj_r2','Probability of F-Stats']]\n",
    "# Pass_Stat_list[['FACTOR_1','FACTOR_2','FACTOR_3','FACTOR_4','FACTOR_5','FACTOR_6','FACTOR_7','BP_pvalues','r2','adj_r2','Probability of F-Stats']]\n",
    "# Pass_Stat_list[['FACTOR_1','FACTOR_2','FACTOR_3','BP_pvalues','r2','adj_r2','Probability of F-Stats']]\n",
    "# Pass_Stat_list[['FACTOR_1','FACTOR_2','FACTOR_3','AD','AD_criteria_0.05','BP_pvalues','r2','adj_r2','Probability of F-Stats']]\n",
    "# Pass_Stat_list[['FACTOR_1','FACTOR_2','FACTOR_3','Durbin_Watson','AD','AD_criteria_0.05','BP_pvalues','r2','adj_r2','Probability of F-Stats']]\n",
    "# Pass_Stat_list[['FACTOR_1','FACTOR_2','FACTOR_3','FACTOR_4','VIF_Factor_1','VIF_Factor_2','VIF_Factor_3','VIF_Factor_4']]\n",
    "Pass_Stat_list[['FACTOR_1','FACTOR_2','intercept_p_value','x1','x2','r2','adj_r2','AD','AD_criteria_0.05','BP_pvalues','Durbin_Watson','Probability of F-Stats','VIF_Factor_1','VIF_Factor_2']]\n",
    "# Pass_Stat_list[['FACTOR_1','FACTOR_2','intercept_p_value','x1','x2']]\n",
    "# Pass_Stat_list[['FACTOR_1','FACTOR_2','FACTOR_3','FACTOR_4','FACTOR_5','FACTOR_6','const','x1','x2','x3','x4','x5','x6','r2','adj_r2','Probability of F-Stats']]\n",
    "# Pass_Stat_list[['FACTOR_1','FACTOR_2','FACTOR_3','FACTOR_4','FACTOR_5','const','x1','x2','x3','x4','x5','r2','adj_r2','Probability of F-Stats']]\n",
    "# Pass_Stat_list[['FACTOR_1','FACTOR_2','FACTOR_3','const','x1','x2','x3','r2','adj_r2','Probability of F-Stats']]\n",
    "# Pass_Stat_list[['FACTOR_1','FACTOR_2','FACTOR_3','FACTOR_4','const','x1','x2','x3','x4','r2','adj_r2','Probability of F-Stats']]"
   ]
  },
  {
   "cell_type": "code",
   "execution_count": 254,
   "id": "72c2fa3f-7512-4075-b6a5-97bfc57f8bd7",
   "metadata": {
    "execution": {
     "iopub.execute_input": "2024-07-16T08:07:48.991893Z",
     "iopub.status.busy": "2024-07-16T08:07:48.990896Z",
     "iopub.status.idle": "2024-07-16T08:07:48.997164Z",
     "shell.execute_reply": "2024-07-16T08:07:48.997164Z",
     "shell.execute_reply.started": "2024-07-16T08:07:48.991893Z"
    }
   },
   "outputs": [],
   "source": [
    "# ตัวแปรที่สนใจ \n",
    "Factor_interested = ['(Inflation)_LAG_6','LOG_SCB_ประจำ_6_เดือน(อัตราดอกเบี้ย)_LAG_1']\n",
    "Factor_value = [2.063775e-258,0.117846,-0.259044]"
   ]
  },
  {
   "cell_type": "code",
   "execution_count": 259,
   "id": "673b5c10-6930-4042-9162-7d9053cd7102",
   "metadata": {
    "execution": {
     "iopub.execute_input": "2024-07-16T09:10:09.532867Z",
     "iopub.status.busy": "2024-07-16T09:10:09.532867Z",
     "iopub.status.idle": "2024-07-16T09:10:09.537639Z",
     "shell.execute_reply": "2024-07-16T09:10:09.537639Z",
     "shell.execute_reply.started": "2024-07-16T09:10:09.532867Z"
    }
   },
   "outputs": [
    {
     "data": {
      "text/plain": [
       "5.62e-26"
      ]
     },
     "execution_count": 259,
     "metadata": {},
     "output_type": "execute_result"
    }
   ],
   "source": [
    "5.620000e-26"
   ]
  },
  {
   "cell_type": "markdown",
   "id": "12e44300-e6b0-4c82-b8b2-a8efd7579401",
   "metadata": {},
   "source": [
    "Version 2"
   ]
  },
  {
   "cell_type": "code",
   "execution_count": null,
   "id": "7945d9fe-d3f2-4c94-9fbb-bade06bed22f",
   "metadata": {},
   "outputs": [],
   "source": [
    "# Gold_Factor_data[['LOGIT']+Factor_interested].corr()\n",
    "Gold_Factor_data[['GoldBar_Sale']+Factor_interested].corr()"
   ]
  },
  {
   "cell_type": "code",
   "execution_count": null,
   "id": "9dd2a809-ecf2-48e2-b905-4c69a18f5807",
   "metadata": {},
   "outputs": [],
   "source": [
    "Gold_Factor_data.plot(x='SET Index',y='GoldBar_Sale',style='o')\n",
    "plt.ylabel('Gold Price')"
   ]
  },
  {
   "cell_type": "code",
   "execution_count": null,
   "id": "06dab90d-919b-42b4-a8f6-bc1aaa3b022b",
   "metadata": {},
   "outputs": [],
   "source": [
    "from sklearn.linear_model import LinearRegression"
   ]
  },
  {
   "cell_type": "code",
   "execution_count": null,
   "id": "9be34ed7-858b-42d5-ac0c-58a6c4588c26",
   "metadata": {},
   "outputs": [],
   "source": [
    "X = Gold_Factor_data[['SET Index']]\n",
    "y = Gold_Factor_data[['GoldBar_Sale']]"
   ]
  },
  {
   "cell_type": "code",
   "execution_count": null,
   "id": "dc7e38e5-c3e9-45cf-9a7c-77fc6d5827b6",
   "metadata": {},
   "outputs": [],
   "source": [
    "# y = ax + b\n",
    "lrm = LinearRegression()\n",
    "lrm.fit(X,y)"
   ]
  },
  {
   "cell_type": "code",
   "execution_count": null,
   "id": "4a4023a1-fb31-4ae2-9226-4541cd460506",
   "metadata": {},
   "outputs": [],
   "source": [
    "lrm.intercept_ # b"
   ]
  },
  {
   "cell_type": "code",
   "execution_count": null,
   "id": "2601bb3b-afe1-40fd-b5e4-57afa14339cb",
   "metadata": {},
   "outputs": [],
   "source": [
    "lrm.coef_ # a"
   ]
  },
  {
   "cell_type": "code",
   "execution_count": null,
   "id": "bc2d1c32-7bc1-4ba8-8e9c-7d761f8a5a61",
   "metadata": {
    "scrolled": true
   },
   "outputs": [],
   "source": [
    "predictions = lrm.predict(X)\n",
    "predictions"
   ]
  },
  {
   "cell_type": "code",
   "execution_count": null,
   "id": "ee46b00c-0fbe-4b0a-a8da-ebbd1fa12687",
   "metadata": {},
   "outputs": [],
   "source": [
    "plt.scatter(X,y,color='black')\n",
    "plt.plot(X,predictions)"
   ]
  },
  {
   "cell_type": "code",
   "execution_count": null,
   "id": "185bc13e-e0bf-4c7f-9254-be954ed4f1a6",
   "metadata": {},
   "outputs": [],
   "source": [
    "from sklearn import metrics\n",
    "metrics.mean_absolute_error(y,predictions)"
   ]
  },
  {
   "cell_type": "code",
   "execution_count": null,
   "id": "ce359a69-5be6-452e-a7ff-c5feb0335ccf",
   "metadata": {},
   "outputs": [],
   "source": [
    "Gold_Factor_data[['GoldBar_Sale']+Factor_interested].corr()"
   ]
  },
  {
   "cell_type": "code",
   "execution_count": null,
   "id": "6e29bbb2-4051-437e-864d-693a8aaa4600",
   "metadata": {},
   "outputs": [],
   "source": [
    "from sklearn.linear_model import LinearRegression\n",
    "X = Gold_Factor_data[Factor_interested]\n",
    "y = np.log(Gold_Factor_data[['GoldBar_Sale']])"
   ]
  },
  {
   "cell_type": "code",
   "execution_count": null,
   "id": "f58d9934-8d91-4384-bc7f-5afa3266f587",
   "metadata": {},
   "outputs": [],
   "source": [
    "lrm = LinearRegression()\n",
    "lrm.fit(X,y)"
   ]
  },
  {
   "cell_type": "code",
   "execution_count": null,
   "id": "32a69a7f-b482-4321-8a07-0017a0caefb2",
   "metadata": {
    "scrolled": true
   },
   "outputs": [],
   "source": [
    "predictions = lrm.predict(X)\n",
    "np.exp(predictions)"
   ]
  },
  {
   "cell_type": "code",
   "execution_count": null,
   "id": "9c008a8a-a953-4cfe-8c15-ce6888ae72c8",
   "metadata": {},
   "outputs": [],
   "source": [
    "from sklearn import metrics\n",
    "metrics.mean_absolute_error(y,predictions) # MAE"
   ]
  },
  {
   "cell_type": "code",
   "execution_count": null,
   "id": "3df43e7e-be1f-40fe-a8b6-077a55329c15",
   "metadata": {},
   "outputs": [],
   "source": [
    "lrm.score(X,y) # R-Square"
   ]
  },
  {
   "cell_type": "code",
   "execution_count": null,
   "id": "ec3e632c-e631-452a-b314-f750ba58f598",
   "metadata": {},
   "outputs": [],
   "source": [
    "import statsmodels.api as sm\n",
    "import statsmodels.formula.api as smf"
   ]
  },
  {
   "cell_type": "code",
   "execution_count": null,
   "id": "a9876dc1-7721-49f6-a15e-4247fcdbf1b3",
   "metadata": {},
   "outputs": [],
   "source": [
    "X = Gold_Factor_data[Factor_interested]\n",
    "y = (Gold_Factor_data[['GoldBar_Sale']])"
   ]
  },
  {
   "cell_type": "code",
   "execution_count": null,
   "id": "51ce95a6-558b-4870-827a-183991f6f954",
   "metadata": {},
   "outputs": [],
   "source": [
    "model = sm.OLS(y,X)"
   ]
  },
  {
   "cell_type": "code",
   "execution_count": null,
   "id": "5a66d188-95a7-4dd9-b8e6-1b2c0c910e30",
   "metadata": {},
   "outputs": [],
   "source": [
    "# model.params # ceof\n",
    "result = model.fit()\n",
    "result.params "
   ]
  },
  {
   "cell_type": "code",
   "execution_count": null,
   "id": "1830c551-e421-4e13-8bcf-47b0ba0a4789",
   "metadata": {},
   "outputs": [],
   "source": [
    "result.summary()"
   ]
  },
  {
   "cell_type": "markdown",
   "id": "49b4be65-8d39-4689-9bb1-db771a82fe3f",
   "metadata": {},
   "source": [
    "Plot Graph\n",
    "\n",
    "       ! Gold_data -> File\n"
   ]
  },
  {
   "cell_type": "code",
   "execution_count": null,
   "id": "d8e2a4c0-c64c-4007-a209-70fd229b0c78",
   "metadata": {},
   "outputs": [],
   "source": [
    "Gold_data['GoldBar_Sale'].plot(figsize = (20,5) , legend = True)"
   ]
  },
  {
   "cell_type": "code",
   "execution_count": null,
   "id": "454d3ba4-669d-4eb0-8524-49a8f737f29c",
   "metadata": {},
   "outputs": [],
   "source": [
    "#Plot Two Side View\n",
    "fig , ax = plt.subplots(1,1,figsize=(16,5) , dpi=120)\n",
    "x = Gold_data['Report Date'].values\n",
    "\n",
    "y1 = Gold_data['GoldBar_Sale'].values\n",
    "\n",
    "plt.fill_between( x , y1 = y1 , y2 = -y1 , alpha=0.9 , linewidth=2, color='skyblue')\n",
    "\n",
    "plt.ylim(-700 , 700 )\n",
    "plt.title('GoldBar_Sale (Two Side View) ' , fontsize = 20)\n",
    "\n",
    "plt.hlines( y=0 , xmin = np.min(Gold_data['Report Date']) , xmax = np.max(Gold_data['Report Date']) , linewidth=0.5)\n",
    "\n",
    "plt.show()"
   ]
  },
  {
   "cell_type": "code",
   "execution_count": null,
   "id": "b4271f94-1bb0-4ecb-b4cd-57843aa69f2b",
   "metadata": {
    "scrolled": true
   },
   "outputs": [],
   "source": [
    "#ทดสอบ Stationary\n",
    "rolling_mean = Gold_data['GoldBar_Sale'].rolling(window = 12).mean()\n",
    "rolling_std = Gold_data['GoldBar_Sale'].rolling(window = 12).std()\n",
    "fig , ax = plt.subplots(1,1,figsize=(16,5),dpi = 120)\n",
    "plt.plot(Gold_data['GoldBar_Sale'],color = 'blue',label = 'Original')\n",
    "plt.plot(rolling_mean , color = 'red' , label = 'Rolling Mean')\n",
    "plt.plot(rolling_std , color = 'black' , label = 'Rolling Std')\n",
    "plt.legend(loc = 'best')\n",
    "plt.title('Rolling Mean & Rolling Standard Deviation')\n",
    "plt.show()"
   ]
  },
  {
   "cell_type": "code",
   "execution_count": null,
   "id": "a653fe06-a8b6-4dd2-8021-34ad7c60794b",
   "metadata": {},
   "outputs": [],
   "source": [
    "result = adfuller(Gold_data['GoldBar_Sale'])\n",
    "print('ADF Statistic : {}'.format(result[0]))\n",
    "print('p-value : {}'.format(result[1]))\n",
    "print('Critical Values:')\n",
    "for key , value in result[4].items():\n",
    "    print('\\t{}: {}'.format(key,value))"
   ]
  },
  {
   "cell_type": "code",
   "execution_count": null,
   "id": "45602b45-84d0-48ed-b660-f52370d59185",
   "metadata": {},
   "outputs": [],
   "source": [
    "# function\n",
    "def get_stationarity(timeseries):\n",
    "    rolling_mean = timeseries.rolling(window = 12).mean()\n",
    "    rolling_std = timeseries.rolling(window = 12).std()\n",
    "    original = plt.plot(timeseries, color = 'blue' , label ='Original')\n",
    "    mean = plt.plot(rolling_mean , color = 'red' , label = 'Rolling Mean')\n",
    "    std = plt.plot(rolling_std , color = 'black' , label = 'Rolling Std')\n",
    "    plt.legend(loc = 'best')\n",
    "    plt.title('Rolling Mean & Standard Deviation')\n",
    "    plt.show(block =False)\n",
    "    # Dickey-Fuller Test\n",
    "    result = adfuller(timeseries)\n",
    "    print('ADF Statiestic: {} '.format(result[0]))\n",
    "    print('p-value: {}'.format(result[1]))\n",
    "    print('Critical Values:')\n",
    "    for key , value in result[4].items():\n",
    "        print('\\t{} : {}'.format(key,value))"
   ]
  },
  {
   "cell_type": "code",
   "execution_count": null,
   "id": "01aa571f-df04-46b7-a5d0-60cb6fd1233e",
   "metadata": {},
   "outputs": [],
   "source": [
    "# วิธีแรกในการปรับข้อมูลให้เรียบคือ การลบด้วยค่าเฉลี่ยเคลื่อนที่ 12 เดือนย้อนหลังออกไป เพื่อกำจัด ฤดูกาลกับแนวโน้ม\n",
    "rolling_mean = Gold_data['GoldBar_Sale'].rolling(window=12).mean()\n",
    "df_log_minus_mean = Gold_data['GoldBar_Sale'] - rolling_mean\n",
    "df_log_minus_mean.dropna(inplace=True)\n",
    "get_stationarity(df_log_minus_mean)"
   ]
  },
  {
   "cell_type": "code",
   "execution_count": null,
   "id": "285049dc-2bf6-4fe2-b155-8c81c6c8d1f9",
   "metadata": {},
   "outputs": [],
   "source": [
    "# p value ต่ำแล้ว ลองวิธี take log\n",
    "rolling_mean_exp_decay = Gold_data['GoldBar_Sale'].ewm(halflife=12,min_periods=0,adjust=True).mean()\n",
    "\n",
    "df_log_exp_decay = Gold_data['GoldBar_Sale'] - rolling_mean_exp_decay\n",
    "df_log_exp_decay.dropna(inplace = True)\n",
    "get_stationarity(df_log_exp_decay)"
   ]
  },
  {
   "cell_type": "code",
   "execution_count": null,
   "id": "b3da1d7a-78f9-443a-9d22-8ec50a258b8f",
   "metadata": {},
   "outputs": [],
   "source": [
    "# วิธีลบด้วยค่าก่อนหน้า\n",
    "df_log_shift = Gold_data['GoldBar_Sale'] - Gold_data['GoldBar_Sale'].shift()\n",
    "df_log_shift.dropna(inplace = True)\n",
    "get_stationarity(df_log_shift)"
   ]
  },
  {
   "cell_type": "markdown",
   "id": "878bfecc-e213-4b56-963d-2314ef3320ea",
   "metadata": {},
   "source": [
    "สร้าง ARIMA Model"
   ]
  },
  {
   "cell_type": "code",
   "execution_count": null,
   "id": "ee509ba6-fc6f-455d-a803-25d2d70de3ff",
   "metadata": {},
   "outputs": [],
   "source": [
    "# import libaries\n",
    "from dateutil.parser import parse\n",
    "import matplotlib as mpl\n",
    "import matplotlib.pyplot as plt\n",
    "import seaborn as sns\n",
    "import numpy as np\n",
    "import pandas as pd\n",
    "import statsmodels.formula.api as smf\n",
    "import statsmodels.api as sm\n",
    "import pmdarima as pm\n",
    "from pmdarima import model_selection\n",
    "from pmdarima import auto_arima\n",
    "from sklearn.metrics import mean_squared_error\n",
    "from statsmodels.tsa.arima_model import ARIMA\n",
    "import joblib\n",
    "import os"
   ]
  },
  {
   "cell_type": "code",
   "execution_count": null,
   "id": "1ce5fc1e-4a83-457c-b23f-8d6b85d481ee",
   "metadata": {},
   "outputs": [],
   "source": [
    "# 1,1,2 ARIMA Model\n",
    "model = pm.ARIMA(order=(1,1,2),seasonal=False)\n",
    "model_fit = model.fit(Gold_data['GoldBar_Sale'],disp=0)\n",
    "print(model_fit.summary())"
   ]
  },
  {
   "cell_type": "code",
   "execution_count": null,
   "id": "a108a42a-934f-4e44-8264-6b3ac2863111",
   "metadata": {},
   "outputs": [],
   "source": [
    "# 1,1,1 ARIMA Model\n",
    "model = pm.ARIMA(order=(1,1,1),seasonal=False)\n",
    "model_fit = model.fit(Gold_data['GoldBar_Sale'],disp=0)\n",
    "print(model_fit.summary())"
   ]
  },
  {
   "cell_type": "code",
   "execution_count": null,
   "id": "c417c159-b851-4287-a590-f7fd7b04ae5b",
   "metadata": {},
   "outputs": [],
   "source": [
    "# เลือกอันที่ P > |Z| ดีๆ คือค่าน้อยๆ\n",
    "preds, conf_int = model_fit.predict(n_periods=12, return_conf_int=True)\n",
    "residuals = pd.DataFrame(preds)\n",
    "fig,ax = plt.subplots(1,2)\n",
    "residuals.plot(title=\"Residuals\",ax=ax[0])\n",
    "residuals.plot(kind='kde',title='Density',ax=ax[1])\n",
    "plt.show()"
   ]
  },
  {
   "cell_type": "markdown",
   "id": "030d8264-d673-43c7-8707-3b5b929a2e24",
   "metadata": {},
   "source": [
    "ARIMA MODEL pmdarima "
   ]
  },
  {
   "cell_type": "code",
   "execution_count": null,
   "id": "8a78fcb4-13dd-4fc0-8d33-1281d29613dc",
   "metadata": {
    "scrolled": true
   },
   "outputs": [],
   "source": [
    "arima = pm.auto_arima(Gold_data['GoldBar_Sale'], start_p=1, start_q=1, max_p=12, max_q=5, max_order = 12,\n",
    "                     trace=False, suppress_warnings=True, stepwise = True,\n",
    "                     error_action='ignore', m=12)\n",
    "period_predict = 10\n",
    "preds, conf_int = arima.predict(n_periods=12*period_predict, return_conf_int=True)\n",
    "arima.summary()"
   ]
  },
  {
   "cell_type": "code",
   "execution_count": null,
   "id": "85b2caaa-1fd8-40c2-bac4-dff2e11007cc",
   "metadata": {
    "scrolled": true
   },
   "outputs": [],
   "source": [
    "preds"
   ]
  },
  {
   "cell_type": "code",
   "execution_count": null,
   "id": "5998ae88-65bc-4fe3-8db2-bebd092004f7",
   "metadata": {},
   "outputs": [],
   "source": [
    "def eomonth(d, months=0):\n",
    "    months = int(months)\n",
    "    if isinstance(d, list):\n",
    "        return [eomonth(d0, months) for d0 in d]\n",
    "    elif isinstance(d, pd.Series):\n",
    "        return d.map(lambda d0: eomonth(d0, months))\n",
    "    else:\n",
    "        y, m = divmod(d.month + months + 1, 12)\n",
    "        # y, m = int(y), int(m)\n",
    "        if m==0:\n",
    "            y -= 1\n",
    "            m = 12\n",
    "        return pytz.UTC.localize(datetime.datetime(d.year + y, m, 1) - datetime.timedelta(days=1))"
   ]
  },
  {
   "cell_type": "code",
   "execution_count": null,
   "id": "ba0430b9-187f-4fd4-bfa9-67c73440a67c",
   "metadata": {},
   "outputs": [],
   "source": [
    "Date = Gold_data['Report Date']\n",
    "last_date = Date.iloc[-1]\n",
    "arr = []\n",
    "period = period_predict*12\n",
    "for i in range(period):\n",
    "    next_month = eomonth(last_date,i+1)\n",
    "    arr = np.append(arr,next_month)\n",
    "\n",
    "Date_forecast_period = pd.DataFrame(arr)\n",
    "Date_forecast_period.columns = ['Report Date']\n",
    "Date_forecast_period['Report Date'] = Date_forecast_period['Report Date'].dt.tz_localize(None)"
   ]
  },
  {
   "cell_type": "code",
   "execution_count": null,
   "id": "699a97d3-d7c8-44d1-bd2d-b69e775868ef",
   "metadata": {},
   "outputs": [],
   "source": [
    "plt.figure(figsize=(12,6))\n",
    "plt.plot(Gold_data['Report Date'] , Gold_data['GoldBar_Sale'] , label = 'Actual Data')\n",
    "plt.plot(Date_forecast_period,preds , label='Forecast' , color = 'red')\n",
    "# plt.fill_between(Date_forecast_period , conf_int[:,0],conf_int[:,1] , color='pink' , alpha=0.3)\n",
    "plt.xlabel('Date')\n",
    "plt.ylabel('Value')\n",
    "plt.title('Actual Data vs Forecast')\n",
    "plt.legend()\n",
    "plt.grid(True)\n",
    "plt.show()"
   ]
  },
  {
   "cell_type": "markdown",
   "id": "2cdddd60-abdf-49e9-b55d-b2ac2584b521",
   "metadata": {},
   "source": [
    "Forecast GoldBar_Sale price in Thailand with Feature_Seletion by LinearRegression and ARIMA model"
   ]
  },
  {
   "cell_type": "code",
   "execution_count": null,
   "id": "08bf6dfc-1c88-4f18-ad7d-86de6e8d3135",
   "metadata": {},
   "outputs": [],
   "source": []
  }
 ],
 "metadata": {
  "kernelspec": {
   "display_name": "Python 3 (ipykernel)",
   "language": "python",
   "name": "python3"
  },
  "language_info": {
   "codemirror_mode": {
    "name": "ipython",
    "version": 3
   },
   "file_extension": ".py",
   "mimetype": "text/x-python",
   "name": "python",
   "nbconvert_exporter": "python",
   "pygments_lexer": "ipython3",
   "version": "3.12.3"
  }
 },
 "nbformat": 4,
 "nbformat_minor": 5
}
