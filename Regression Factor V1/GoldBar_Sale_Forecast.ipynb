{
 "cells": [
  {
   "cell_type": "markdown",
   "id": "2c9150a6-4067-4034-adf1-dc0dae2840ad",
   "metadata": {},
   "source": [
    "Import Libraries"
   ]
  },
  {
   "cell_type": "code",
   "execution_count": 72,
   "id": "b4e5470f-9bc6-49c9-b398-bc725527dfd1",
   "metadata": {
    "execution": {
     "iopub.execute_input": "2024-07-10T07:20:28.012184Z",
     "iopub.status.busy": "2024-07-10T07:20:28.012184Z",
     "iopub.status.idle": "2024-07-10T07:20:28.016700Z",
     "shell.execute_reply": "2024-07-10T07:20:28.016700Z",
     "shell.execute_reply.started": "2024-07-10T07:20:28.012184Z"
    }
   },
   "outputs": [],
   "source": [
    "import os\n",
    "import msoffcrypto\n",
    "import pandas as pd\n",
    "import numpy as np\n",
    "from datetime import datetime as dt\n",
    "from matplotlib import pyplot as plt\n",
    "from scipy.interpolate import CubicSpline\n",
    "from sklearn.linear_model import LinearRegression\n",
    "import pmdarima as pm\n",
    "from pmdarima import model_selection\n",
    "import math\n",
    "import pytz\n",
    "import datetime"
   ]
  },
  {
   "cell_type": "code",
   "execution_count": 82,
   "id": "3dc78b3a-e711-43c6-b327-e0612f073682",
   "metadata": {
    "execution": {
     "iopub.execute_input": "2024-07-10T07:24:12.481473Z",
     "iopub.status.busy": "2024-07-10T07:24:12.481473Z",
     "iopub.status.idle": "2024-07-10T07:24:12.585934Z",
     "shell.execute_reply": "2024-07-10T07:24:12.585022Z",
     "shell.execute_reply.started": "2024-07-10T07:24:12.481473Z"
    }
   },
   "outputs": [],
   "source": [
    "xls = pd.ExcelFile(\"RawData2.xlsx\")\n",
    "Factor_data = pd.read_excel(xls,'Factor')\n",
    "Gold_data = pd.read_excel(xls,'GoldBar_Sale')"
   ]
  },
  {
   "cell_type": "code",
   "execution_count": 83,
   "id": "df219fd8-903c-47bd-a9eb-7a2c8716751c",
   "metadata": {
    "execution": {
     "iopub.execute_input": "2024-07-10T07:24:13.121292Z",
     "iopub.status.busy": "2024-07-10T07:24:13.121292Z",
     "iopub.status.idle": "2024-07-10T07:24:13.126632Z",
     "shell.execute_reply": "2024-07-10T07:24:13.126632Z",
     "shell.execute_reply.started": "2024-07-10T07:24:13.121292Z"
    }
   },
   "outputs": [],
   "source": [
    "factor_col = Factor_data.columns[1:]"
   ]
  },
  {
   "cell_type": "code",
   "execution_count": 84,
   "id": "4f0f0189-764d-4b8d-8e95-ca74cf81ffbd",
   "metadata": {
    "execution": {
     "iopub.execute_input": "2024-07-10T07:24:14.022029Z",
     "iopub.status.busy": "2024-07-10T07:24:14.021066Z",
     "iopub.status.idle": "2024-07-10T07:24:14.028400Z",
     "shell.execute_reply": "2024-07-10T07:24:14.028400Z",
     "shell.execute_reply.started": "2024-07-10T07:24:14.022029Z"
    }
   },
   "outputs": [],
   "source": [
    "Gold_Factor_data = \\\n",
    "                pd.merge(\n",
    "                    Gold_data,\n",
    "                    Factor_data,\n",
    "                    left_on = 'Report Date',\n",
    "                    right_on = 'Report Date',\n",
    "                    how = 'left'\n",
    "                )"
   ]
  },
  {
   "cell_type": "code",
   "execution_count": 85,
   "id": "60bcc171-1905-4ede-862b-398349efa745",
   "metadata": {
    "execution": {
     "iopub.execute_input": "2024-07-10T07:24:14.453381Z",
     "iopub.status.busy": "2024-07-10T07:24:14.452382Z",
     "iopub.status.idle": "2024-07-10T07:24:14.459995Z",
     "shell.execute_reply": "2024-07-10T07:24:14.459995Z",
     "shell.execute_reply.started": "2024-07-10T07:24:14.453381Z"
    }
   },
   "outputs": [],
   "source": [
    "Gold_Factor_data.replace([np.inf, -np.inf],np.nan,inplace=True)\n",
    "Gold_Factor_data = Gold_Factor_data.dropna(axis='columns')"
   ]
  },
  {
   "cell_type": "code",
   "execution_count": 102,
   "id": "b99116e8-09a2-4d5c-85a7-b095a7bce592",
   "metadata": {
    "execution": {
     "iopub.execute_input": "2024-07-10T07:43:10.486725Z",
     "iopub.status.busy": "2024-07-10T07:43:10.486725Z",
     "iopub.status.idle": "2024-07-10T07:43:10.497465Z",
     "shell.execute_reply": "2024-07-10T07:43:10.496464Z",
     "shell.execute_reply.started": "2024-07-10T07:43:10.486725Z"
    }
   },
   "outputs": [
    {
     "name": "stderr",
     "output_type": "stream",
     "text": [
      "C:\\Users\\temp5\\AppData\\Local\\Temp\\ipykernel_5104\\4255634414.py:2: FutureWarning: A value is trying to be set on a copy of a DataFrame or Series through chained assignment using an inplace method.\n",
      "The behavior will change in pandas 3.0. This inplace method will never work because the intermediate object on which we are setting values always behaves as a copy.\n",
      "\n",
      "For example, when doing 'df[col].method(value, inplace=True)', try using 'df.method({col: value}, inplace=True)' or df[col] = df[col].method(value) instead, to perform the operation inplace on the original object.\n",
      "\n",
      "\n",
      "  Gold_Factor_data['LOGIT'].replace([np.inf, -np.inf, np.nan],0,inplace=True)\n"
     ]
    }
   ],
   "source": [
    "Gold_Factor_data['LOGIT'] = np.log(Gold_Factor_data['GoldBar_Sale'].values/Gold_Factor_data['GoldBar_Sale'].shift(1))\n",
    "Gold_Factor_data['LOGIT'].replace([np.inf, -np.inf, np.nan],0,inplace=True)"
   ]
  },
  {
   "cell_type": "code",
   "execution_count": 103,
   "id": "deccd72b-b357-4c5d-8fbd-01361f3ee2ce",
   "metadata": {
    "execution": {
     "iopub.execute_input": "2024-07-10T07:43:13.863115Z",
     "iopub.status.busy": "2024-07-10T07:43:13.863115Z",
     "iopub.status.idle": "2024-07-10T07:43:13.875272Z",
     "shell.execute_reply": "2024-07-10T07:43:13.874500Z",
     "shell.execute_reply.started": "2024-07-10T07:43:13.863115Z"
    }
   },
   "outputs": [
    {
     "data": {
      "text/plain": [
       "0      0.000000\n",
       "1      0.032462\n",
       "2      0.000000\n",
       "3      0.061925\n",
       "4      0.016037\n",
       "         ...   \n",
       "151    0.006270\n",
       "152    0.020109\n",
       "153    0.046381\n",
       "154   -0.017700\n",
       "155    0.001487\n",
       "Name: LOGIT, Length: 156, dtype: float64"
      ]
     },
     "execution_count": 103,
     "metadata": {},
     "output_type": "execute_result"
    }
   ],
   "source": [
    "Gold_Factor_data['LOGIT']"
   ]
  },
  {
   "cell_type": "markdown",
   "id": "3d94ee79-aa72-4ad0-8628-253d5bf838b2",
   "metadata": {},
   "source": [
    "เลือกตัวแปรที่สนใจ และเกี่ยวข้องกับทองคำ"
   ]
  },
  {
   "cell_type": "code",
   "execution_count": 109,
   "id": "4ab4ae2d-daeb-4a52-9486-3ad7e3af5a24",
   "metadata": {
    "execution": {
     "iopub.execute_input": "2024-07-10T07:48:49.416343Z",
     "iopub.status.busy": "2024-07-10T07:48:49.416343Z",
     "iopub.status.idle": "2024-07-10T07:48:49.612117Z",
     "shell.execute_reply": "2024-07-10T07:48:49.611379Z",
     "shell.execute_reply.started": "2024-07-10T07:48:49.416343Z"
    },
    "scrolled": true
   },
   "outputs": [
    {
     "name": "stdout",
     "output_type": "stream",
     "text": [
      "1   (Inflation)   ['(Inflation)']\n",
      "[('(Inflation)', 2.0074462920627312e-05, '-', 0.384208513196113, 'PASS')]\n",
      "2   แก๊สโซฮอล์ 95   ['แก๊สโซฮอล์ 95']\n",
      "[('แก๊สโซฮอล์ 95', 0.0038992120111775996, '-', 0.4433370559392254, 'FAIL')]\n",
      "3   แก๊สโซฮอล์ 91   ['แก๊สโซฮอล์ 91']\n",
      "[('แก๊สโซฮอล์ 91', 0.003239831477415911, '-', 0.3605919027180712, 'PASS')]\n",
      "4   แก๊สโซฮอล์ E20   ['แก๊สโซฮอล์ E20']\n",
      "[('แก๊สโซฮอล์ E20', 0.0022096127180323277, '-', 0.40180837828112953, 'FAIL')]\n",
      "5   แก๊สโซฮอล์ E85   ['แก๊สโซฮอล์ E85']\n",
      "[('แก๊สโซฮอล์ E85', 7.81811359181761e-05, '-', 0.7169152371016783, 'FAIL')]\n",
      "6   ดีเซล   ['ดีเซล']\n",
      "[('ดีเซล', 0.008121327029269931, '-', 0.23800627119664364, 'PASS')]\n",
      "7   อัตราแลกเปลี่ยน USD_THB   ['อัตราแลกเปลี่ยน USD_THB']\n",
      "[('อัตราแลกเปลี่ยน USD_THB', 0.0005678397241831723, '+', 0.2056790383161553, 'PASS')]\n",
      "8   BOT Policy rate   ['BOT Policy rate']\n",
      "[('BOT Policy rate', 0.0014587051845749155, '-', 0.08872752547000201, 'PASS')]\n",
      "9   US Dollar Index   ['US Dollar Index']\n",
      "[('US Dollar Index', 0.0007251063191413554, '+', 0.5042493483773777, 'FAIL')]\n",
      "10   S&P 500 Index   ['S&P 500 Index']\n",
      "[('S&P 500 Index', 0.003884991348159339, '+', 0.9811630268910562, 'FAIL')]\n",
      "11   MSTF Index   ['MSTF Index']\n",
      "[('MSTF Index', 0.006398634143781168, '+', 0.9985886994023718, 'FAIL')]\n"
     ]
    },
    {
     "data": {
      "text/html": [
       "<div>\n",
       "<style scoped>\n",
       "    .dataframe tbody tr th:only-of-type {\n",
       "        vertical-align: middle;\n",
       "    }\n",
       "\n",
       "    .dataframe tbody tr th {\n",
       "        vertical-align: top;\n",
       "    }\n",
       "\n",
       "    .dataframe thead th {\n",
       "        text-align: right;\n",
       "    }\n",
       "</style>\n",
       "<table border=\"1\" class=\"dataframe\">\n",
       "  <thead>\n",
       "    <tr style=\"text-align: right;\">\n",
       "      <th></th>\n",
       "      <th>Factor</th>\n",
       "      <th>r2</th>\n",
       "      <th>sign</th>\n",
       "      <th>adf</th>\n",
       "      <th>adf_result</th>\n",
       "    </tr>\n",
       "  </thead>\n",
       "  <tbody>\n",
       "    <tr>\n",
       "      <th>0</th>\n",
       "      <td>(Inflation)</td>\n",
       "      <td>2.0074462920627312e-05</td>\n",
       "      <td>-</td>\n",
       "      <td>0.384208513196113</td>\n",
       "      <td>PASS</td>\n",
       "    </tr>\n",
       "    <tr>\n",
       "      <th>1</th>\n",
       "      <td>แก๊สโซฮอล์ 95</td>\n",
       "      <td>0.0038992120111775996</td>\n",
       "      <td>-</td>\n",
       "      <td>0.4433370559392254</td>\n",
       "      <td>FAIL</td>\n",
       "    </tr>\n",
       "    <tr>\n",
       "      <th>2</th>\n",
       "      <td>แก๊สโซฮอล์ 91</td>\n",
       "      <td>0.003239831477415911</td>\n",
       "      <td>-</td>\n",
       "      <td>0.3605919027180712</td>\n",
       "      <td>PASS</td>\n",
       "    </tr>\n",
       "    <tr>\n",
       "      <th>3</th>\n",
       "      <td>แก๊สโซฮอล์ E20</td>\n",
       "      <td>0.0022096127180323277</td>\n",
       "      <td>-</td>\n",
       "      <td>0.40180837828112953</td>\n",
       "      <td>FAIL</td>\n",
       "    </tr>\n",
       "    <tr>\n",
       "      <th>4</th>\n",
       "      <td>แก๊สโซฮอล์ E85</td>\n",
       "      <td>7.81811359181761e-05</td>\n",
       "      <td>-</td>\n",
       "      <td>0.7169152371016783</td>\n",
       "      <td>FAIL</td>\n",
       "    </tr>\n",
       "    <tr>\n",
       "      <th>5</th>\n",
       "      <td>ดีเซล</td>\n",
       "      <td>0.008121327029269931</td>\n",
       "      <td>-</td>\n",
       "      <td>0.23800627119664364</td>\n",
       "      <td>PASS</td>\n",
       "    </tr>\n",
       "    <tr>\n",
       "      <th>6</th>\n",
       "      <td>อัตราแลกเปลี่ยน USD_THB</td>\n",
       "      <td>0.0005678397241831723</td>\n",
       "      <td>+</td>\n",
       "      <td>0.2056790383161553</td>\n",
       "      <td>PASS</td>\n",
       "    </tr>\n",
       "    <tr>\n",
       "      <th>7</th>\n",
       "      <td>BOT Policy rate</td>\n",
       "      <td>0.0014587051845749155</td>\n",
       "      <td>-</td>\n",
       "      <td>0.08872752547000201</td>\n",
       "      <td>PASS</td>\n",
       "    </tr>\n",
       "    <tr>\n",
       "      <th>8</th>\n",
       "      <td>US Dollar Index</td>\n",
       "      <td>0.0007251063191413554</td>\n",
       "      <td>+</td>\n",
       "      <td>0.5042493483773777</td>\n",
       "      <td>FAIL</td>\n",
       "    </tr>\n",
       "    <tr>\n",
       "      <th>9</th>\n",
       "      <td>S&amp;P 500 Index</td>\n",
       "      <td>0.003884991348159339</td>\n",
       "      <td>+</td>\n",
       "      <td>0.9811630268910562</td>\n",
       "      <td>FAIL</td>\n",
       "    </tr>\n",
       "    <tr>\n",
       "      <th>10</th>\n",
       "      <td>MSTF Index</td>\n",
       "      <td>0.006398634143781168</td>\n",
       "      <td>+</td>\n",
       "      <td>0.9985886994023718</td>\n",
       "      <td>FAIL</td>\n",
       "    </tr>\n",
       "  </tbody>\n",
       "</table>\n",
       "</div>"
      ],
      "text/plain": [
       "                     Factor                      r2 sign                  adf  \\\n",
       "0               (Inflation)  2.0074462920627312e-05    -    0.384208513196113   \n",
       "1             แก๊สโซฮอล์ 95   0.0038992120111775996    -   0.4433370559392254   \n",
       "2             แก๊สโซฮอล์ 91    0.003239831477415911    -   0.3605919027180712   \n",
       "3            แก๊สโซฮอล์ E20   0.0022096127180323277    -  0.40180837828112953   \n",
       "4            แก๊สโซฮอล์ E85    7.81811359181761e-05    -   0.7169152371016783   \n",
       "5                     ดีเซล    0.008121327029269931    -  0.23800627119664364   \n",
       "6   อัตราแลกเปลี่ยน USD_THB   0.0005678397241831723    +   0.2056790383161553   \n",
       "7           BOT Policy rate   0.0014587051845749155    -  0.08872752547000201   \n",
       "8           US Dollar Index   0.0007251063191413554    +   0.5042493483773777   \n",
       "9             S&P 500 Index    0.003884991348159339    +   0.9811630268910562   \n",
       "10               MSTF Index    0.006398634143781168    +   0.9985886994023718   \n",
       "\n",
       "   adf_result  \n",
       "0        PASS  \n",
       "1        FAIL  \n",
       "2        PASS  \n",
       "3        FAIL  \n",
       "4        FAIL  \n",
       "5        PASS  \n",
       "6        PASS  \n",
       "7        PASS  \n",
       "8        FAIL  \n",
       "9        FAIL  \n",
       "10       FAIL  "
      ]
     },
     "execution_count": 109,
     "metadata": {},
     "output_type": "execute_result"
    }
   ],
   "source": [
    "import statsmodels.api as sm\n",
    "from statsmodels.compat import lzip\n",
    "from statsmodels.tsa.stattools import adfuller\n",
    "main_Factor_list = factor_col\n",
    "# Factor_list = Gold_Factor_data.drop(columns = ['GoldBar_Sale'] ).columns\n",
    "Factor_list = Gold_Factor_data.drop(columns = ['Report Date','GoldBar_Sale','LOGIT']).columns\n",
    "All_result_table = pd.DataFrame()\n",
    "All_result_table_best = pd.DataFrame()\n",
    "\n",
    "for ix , temp_factor_group in enumerate(main_Factor_list,1):\n",
    "    Factor_group = [i for i in Factor_list if temp_factor_group in i]\n",
    "    r2_list = []\n",
    "    print(ix , \" \" , temp_factor_group , \" \" , Factor_group)\n",
    "    # print(Factor_group)\n",
    "    temp_result_table = pd.DataFrame()\n",
    "    for temp_factor in Factor_group:\n",
    "        X_train = np.array(Gold_Factor_data[temp_factor].values , dtype=float)\n",
    "        y_train = np.array(Gold_Factor_data['LOGIT'].values , dtype=float)\n",
    "        \n",
    "        X_train_1 = X_train.reshape(-1,1)\n",
    "        y_train_1 = y_train.reshape(-1,1)\n",
    "\n",
    "        # test stationary test 10%\n",
    "        adf = adfuller(X_train)[1]\n",
    "        adf_result = 'PASS' if adfuller(X_train)[1] <= 0.4 else 'FAIL'\n",
    "\n",
    "        #Regression\n",
    "        linear_model = LinearRegression()\n",
    "        linear_model.fit(X_train_1 , y_train_1)\n",
    "\n",
    "        X_train = sm.add_constant(X_train)\n",
    "        reg = sm.OLS(y_train , X_train).fit()\n",
    "        sign = '+' if linear_model.coef_ > 0 else '-'\n",
    "\n",
    "        r2_list.append((temp_factor,reg.rsquared,sign,adf,adf_result))\n",
    "        print(r2_list)\n",
    "\n",
    "    temp_result_table['Factor'] = np.array(r2_list)[:,0]\n",
    "    temp_result_table['r2'] = np.array(r2_list)[:,1]\n",
    "    temp_result_table['sign'] = np.array(r2_list)[:,2]\n",
    "    temp_result_table['adf'] = np.array(r2_list)[:,3]\n",
    "    temp_result_table['adf_result'] = np.array(r2_list)[:,4]\n",
    "\n",
    "    temp_result_table_sort = temp_result_table.sort_values(['adf_result','r2'], ascending = [False,False]).reset_index(drop=True)\n",
    "\n",
    "    if ix == 1:\n",
    "        All_result_table = temp_result_table\n",
    "        # All_result_table_best = temp_result_table_sort.head(1)\n",
    "    else:\n",
    "        All_result_table = pd.concat([All_result_table,temp_result_table], ignore_index = True)\n",
    "        # All_result_table_best = pd.concat([All_result_table,temp_result_table_sort.head(1)], ignore_index = True)\n",
    "All_result_table"
   ]
  },
  {
   "cell_type": "code",
   "execution_count": 41,
   "id": "4f3e126d-73de-4c5a-aafd-99183134a482",
   "metadata": {
    "execution": {
     "iopub.execute_input": "2024-07-10T07:05:24.972217Z",
     "iopub.status.busy": "2024-07-10T07:05:24.972217Z",
     "iopub.status.idle": "2024-07-10T07:05:24.981188Z",
     "shell.execute_reply": "2024-07-10T07:05:24.981188Z",
     "shell.execute_reply.started": "2024-07-10T07:05:24.972217Z"
    }
   },
   "outputs": [
    {
     "data": {
      "text/html": [
       "<div>\n",
       "<style scoped>\n",
       "    .dataframe tbody tr th:only-of-type {\n",
       "        vertical-align: middle;\n",
       "    }\n",
       "\n",
       "    .dataframe tbody tr th {\n",
       "        vertical-align: top;\n",
       "    }\n",
       "\n",
       "    .dataframe thead th {\n",
       "        text-align: right;\n",
       "    }\n",
       "</style>\n",
       "<table border=\"1\" class=\"dataframe\">\n",
       "  <thead>\n",
       "    <tr style=\"text-align: right;\">\n",
       "      <th></th>\n",
       "      <th>Report Date</th>\n",
       "      <th>GoldBar_Sale</th>\n",
       "    </tr>\n",
       "  </thead>\n",
       "  <tbody>\n",
       "    <tr>\n",
       "      <th>0</th>\n",
       "      <td>2011-01-31</td>\n",
       "      <td>19700</td>\n",
       "    </tr>\n",
       "    <tr>\n",
       "      <th>1</th>\n",
       "      <td>2011-02-28</td>\n",
       "      <td>20350</td>\n",
       "    </tr>\n",
       "    <tr>\n",
       "      <th>2</th>\n",
       "      <td>2011-03-31</td>\n",
       "      <td>20350</td>\n",
       "    </tr>\n",
       "    <tr>\n",
       "      <th>3</th>\n",
       "      <td>2011-04-30</td>\n",
       "      <td>21650</td>\n",
       "    </tr>\n",
       "    <tr>\n",
       "      <th>4</th>\n",
       "      <td>2011-05-30</td>\n",
       "      <td>22000</td>\n",
       "    </tr>\n",
       "    <tr>\n",
       "      <th>...</th>\n",
       "      <td>...</td>\n",
       "      <td>...</td>\n",
       "    </tr>\n",
       "    <tr>\n",
       "      <th>163</th>\n",
       "      <td>2024-05-04</td>\n",
       "      <td>40250</td>\n",
       "    </tr>\n",
       "    <tr>\n",
       "      <th>164</th>\n",
       "      <td>2024-05-05</td>\n",
       "      <td>40100</td>\n",
       "    </tr>\n",
       "    <tr>\n",
       "      <th>165</th>\n",
       "      <td>2024-05-06</td>\n",
       "      <td>40050</td>\n",
       "    </tr>\n",
       "    <tr>\n",
       "      <th>166</th>\n",
       "      <td>2024-05-08</td>\n",
       "      <td>40300</td>\n",
       "    </tr>\n",
       "    <tr>\n",
       "      <th>167</th>\n",
       "      <td>2024-05-09</td>\n",
       "      <td>40400</td>\n",
       "    </tr>\n",
       "  </tbody>\n",
       "</table>\n",
       "<p>168 rows × 2 columns</p>\n",
       "</div>"
      ],
      "text/plain": [
       "    Report Date  GoldBar_Sale\n",
       "0    2011-01-31         19700\n",
       "1    2011-02-28         20350\n",
       "2    2011-03-31         20350\n",
       "3    2011-04-30         21650\n",
       "4    2011-05-30         22000\n",
       "..          ...           ...\n",
       "163  2024-05-04         40250\n",
       "164  2024-05-05         40100\n",
       "165  2024-05-06         40050\n",
       "166  2024-05-08         40300\n",
       "167  2024-05-09         40400\n",
       "\n",
       "[168 rows x 2 columns]"
      ]
     },
     "execution_count": 41,
     "metadata": {},
     "output_type": "execute_result"
    }
   ],
   "source": [
    "Factor_list"
   ]
  },
  {
   "cell_type": "code",
   "execution_count": 112,
   "id": "bbb2a526-3288-4f57-a601-5bf194c21924",
   "metadata": {
    "execution": {
     "iopub.execute_input": "2024-07-10T07:58:29.103117Z",
     "iopub.status.busy": "2024-07-10T07:58:29.102120Z",
     "iopub.status.idle": "2024-07-10T07:58:29.121724Z",
     "shell.execute_reply": "2024-07-10T07:58:29.121724Z",
     "shell.execute_reply.started": "2024-07-10T07:58:29.103117Z"
    }
   },
   "outputs": [],
   "source": [
    "Pass_Factor_list = All_result_table[All_result_table['adf_result'] == 'PASS']\n",
    "list_Factor.to_excel(\"ADF_RESULT_PASS.xlsx\")"
   ]
  },
  {
   "cell_type": "code",
   "execution_count": 113,
   "id": "c8785a06-ec1d-4608-be16-41ced38b0c7e",
   "metadata": {
    "execution": {
     "iopub.execute_input": "2024-07-10T07:58:45.967631Z",
     "iopub.status.busy": "2024-07-10T07:58:45.967631Z",
     "iopub.status.idle": "2024-07-10T07:58:45.974305Z",
     "shell.execute_reply": "2024-07-10T07:58:45.973275Z",
     "shell.execute_reply.started": "2024-07-10T07:58:45.967631Z"
    }
   },
   "outputs": [],
   "source": [
    "Pass_Factor_list = Pass_Factor_list['Factor']"
   ]
  },
  {
   "cell_type": "markdown",
   "id": "f67b66d6-bac5-4469-a38c-1385e50f45cb",
   "metadata": {},
   "source": [
    "Overall Model Performance"
   ]
  },
  {
   "cell_type": "code",
   "execution_count": 114,
   "id": "cb10066d-79d1-46f3-9cf1-86143f331423",
   "metadata": {
    "execution": {
     "iopub.execute_input": "2024-07-10T07:59:35.436005Z",
     "iopub.status.busy": "2024-07-10T07:59:35.436005Z",
     "iopub.status.idle": "2024-07-10T07:59:35.444622Z",
     "shell.execute_reply": "2024-07-10T07:59:35.444622Z",
     "shell.execute_reply.started": "2024-07-10T07:59:35.436005Z"
    }
   },
   "outputs": [],
   "source": [
    "from itertools import combinations\n",
    "comb_list = [i for i in combinations(Pass_Factor_list , 3)] + [i for i in combinations(Pass_Factor_list, 2)]"
   ]
  },
  {
   "cell_type": "code",
   "execution_count": 120,
   "id": "de4e14c6-1d8b-4533-80b5-d741944013e9",
   "metadata": {
    "execution": {
     "iopub.execute_input": "2024-07-10T08:30:36.858084Z",
     "iopub.status.busy": "2024-07-10T08:30:36.858084Z",
     "iopub.status.idle": "2024-07-10T08:30:37.407849Z",
     "shell.execute_reply": "2024-07-10T08:30:37.407849Z",
     "shell.execute_reply.started": "2024-07-10T08:30:36.858084Z"
    },
    "scrolled": true
   },
   "outputs": [
    {
     "name": "stderr",
     "output_type": "stream",
     "text": [
      "C:\\Users\\temp5\\AppData\\Local\\Temp\\ipykernel_5104\\3180822270.py:62: FutureWarning: The behavior of DataFrame concatenation with empty or all-NA entries is deprecated. In a future version, this will no longer exclude empty or all-NA columns when determining the result dtypes. To retain the old behavior, exclude the relevant entries before the concat operation.\n",
      "  all_stats_results = pd.concat([all_stats_results, stats_results], axis = 0).reset_index(drop=True)\n",
      "C:\\Users\\temp5\\AppData\\Local\\Temp\\ipykernel_5104\\3180822270.py:62: FutureWarning: The behavior of DataFrame concatenation with empty or all-NA entries is deprecated. In a future version, this will no longer exclude empty or all-NA columns when determining the result dtypes. To retain the old behavior, exclude the relevant entries before the concat operation.\n",
      "  all_stats_results = pd.concat([all_stats_results, stats_results], axis = 0).reset_index(drop=True)\n",
      "C:\\Users\\temp5\\AppData\\Local\\Temp\\ipykernel_5104\\3180822270.py:62: FutureWarning: The behavior of DataFrame concatenation with empty or all-NA entries is deprecated. In a future version, this will no longer exclude empty or all-NA columns when determining the result dtypes. To retain the old behavior, exclude the relevant entries before the concat operation.\n",
      "  all_stats_results = pd.concat([all_stats_results, stats_results], axis = 0).reset_index(drop=True)\n",
      "C:\\Users\\temp5\\AppData\\Local\\Temp\\ipykernel_5104\\3180822270.py:62: FutureWarning: The behavior of DataFrame concatenation with empty or all-NA entries is deprecated. In a future version, this will no longer exclude empty or all-NA columns when determining the result dtypes. To retain the old behavior, exclude the relevant entries before the concat operation.\n",
      "  all_stats_results = pd.concat([all_stats_results, stats_results], axis = 0).reset_index(drop=True)\n",
      "C:\\Users\\temp5\\AppData\\Local\\Temp\\ipykernel_5104\\3180822270.py:62: FutureWarning: The behavior of DataFrame concatenation with empty or all-NA entries is deprecated. In a future version, this will no longer exclude empty or all-NA columns when determining the result dtypes. To retain the old behavior, exclude the relevant entries before the concat operation.\n",
      "  all_stats_results = pd.concat([all_stats_results, stats_results], axis = 0).reset_index(drop=True)\n",
      "C:\\Users\\temp5\\AppData\\Local\\Temp\\ipykernel_5104\\3180822270.py:62: FutureWarning: The behavior of DataFrame concatenation with empty or all-NA entries is deprecated. In a future version, this will no longer exclude empty or all-NA columns when determining the result dtypes. To retain the old behavior, exclude the relevant entries before the concat operation.\n",
      "  all_stats_results = pd.concat([all_stats_results, stats_results], axis = 0).reset_index(drop=True)\n",
      "C:\\Users\\temp5\\AppData\\Local\\Temp\\ipykernel_5104\\3180822270.py:62: FutureWarning: The behavior of DataFrame concatenation with empty or all-NA entries is deprecated. In a future version, this will no longer exclude empty or all-NA columns when determining the result dtypes. To retain the old behavior, exclude the relevant entries before the concat operation.\n",
      "  all_stats_results = pd.concat([all_stats_results, stats_results], axis = 0).reset_index(drop=True)\n",
      "C:\\Users\\temp5\\AppData\\Local\\Temp\\ipykernel_5104\\3180822270.py:62: FutureWarning: The behavior of DataFrame concatenation with empty or all-NA entries is deprecated. In a future version, this will no longer exclude empty or all-NA columns when determining the result dtypes. To retain the old behavior, exclude the relevant entries before the concat operation.\n",
      "  all_stats_results = pd.concat([all_stats_results, stats_results], axis = 0).reset_index(drop=True)\n",
      "C:\\Users\\temp5\\AppData\\Local\\Temp\\ipykernel_5104\\3180822270.py:62: FutureWarning: The behavior of DataFrame concatenation with empty or all-NA entries is deprecated. In a future version, this will no longer exclude empty or all-NA columns when determining the result dtypes. To retain the old behavior, exclude the relevant entries before the concat operation.\n",
      "  all_stats_results = pd.concat([all_stats_results, stats_results], axis = 0).reset_index(drop=True)\n",
      "C:\\Users\\temp5\\AppData\\Local\\Temp\\ipykernel_5104\\3180822270.py:62: FutureWarning: The behavior of DataFrame concatenation with empty or all-NA entries is deprecated. In a future version, this will no longer exclude empty or all-NA columns when determining the result dtypes. To retain the old behavior, exclude the relevant entries before the concat operation.\n",
      "  all_stats_results = pd.concat([all_stats_results, stats_results], axis = 0).reset_index(drop=True)\n"
     ]
    }
   ],
   "source": [
    "from sklearn.linear_model import LinearRegression\n",
    "from sklearn.metrics import r2_score\n",
    "from scipy.stats import anderson as AD\n",
    "from statsmodels.stats.outliers_influence import variance_inflation_factor\n",
    "\n",
    "all_stats_results = pd.DataFrame()\n",
    "\n",
    "y_train = np.array(Gold_Factor_data['LOGIT'].values , dtype=float)\n",
    "\n",
    "for out_index , comb in enumerate(comb_list,1):\n",
    "    selected_Factor = list(comb)\n",
    "    X_train = np.array(Gold_Factor_data[selected_Factor].values , dtype = float)\n",
    "\n",
    "    linear_model = LinearRegression()\n",
    "    linear_model.fit(X_train , y_train)\n",
    "\n",
    "    X_train = sm.add_constant(X_train)\n",
    "    reg = sm.OLS(y_train , X_train).fit()\n",
    "\n",
    "    X_train = X_train[:,1:]\n",
    "    y_pred = linear_model.predict(X_train)\n",
    "\n",
    "    stats_results = pd.DataFrame()\n",
    "    stats_results[[f'FACTOR_{i+1}' for i in range(len(selected_Factor))]] = np.array([selected_Factor])\n",
    "\n",
    "    coeff_result = reg.summary2().tables[1].iloc[:,:1].transpose().reset_index(drop=True)\n",
    "    for i in ['const','x1','x2','x3']:\n",
    "        if i in coeff_result.columns:\n",
    "            stats_results[i] = coeff_result[i]\n",
    "        else:\n",
    "            stats_results[i] = None\n",
    "    # P-Value\n",
    "    stats_results[['intercept_p_value'] + [f'FACTOR_{i+1}_p_value' for i in range(len(selected_Factor))]] = reg.pvalues\n",
    "    # ADJ Rsq\n",
    "    r2 = r2_score(y_train,y_pred)\n",
    "    n , p = X_train.shape\n",
    "    adj_r2 = 1 - (( 1 - r2 ) * (n - 1) / (n - p - 1))\n",
    "    stats_results['r2'] = r2\n",
    "    stats_results['adj_r2'] = adj_r2\n",
    "    # F stats\n",
    "    stats_results['Probability of F-Stats'] = reg.summary2().tables[0][3].astype(float)[5]\n",
    "    # Anderson Darling\n",
    "    stats_results['AD'] = AD(reg.resid , dist='norm')[0]\n",
    "    stats_results['AD_criteria'] = [{i:j for i , j in zip(AD( reg.resid , dist='norm')[2],\n",
    "                                                         AD( reg.resid , dist='norm')[1]\n",
    "                                                         )}]\n",
    "    stats_results['AD_criteria_0.05'] = AD( reg.resid , dist='norm')[1][2:3]\n",
    "    # Breusch-Pagan\n",
    "    name_stats = ['Lagrange multiplier statistic','p-value','f-value','f p-value']\n",
    "    test = sm.stats.het_breuschpagan(reg.resid , reg.model.exog )\n",
    "    stats_results['BP_pvalues'] = lzip(name_stats , test )[1][1]\n",
    "    # Durbin Watson\n",
    "    stats_results['Durbin_Watson'] = sm.stats.durbin_watson(reg.resid)\n",
    "    # VIF \n",
    "    VIF_values = [variance_inflation_factor(Gold_Factor_data[selected_Factor].values , i) for i in range(len(selected_Factor))]\n",
    "\n",
    "    for in_index , i in enumerate(selected_Factor , 0 ):\n",
    "        stats_results[f'VIF_Factor_{in_index+1}'] = VIF_values[in_index]\n",
    "    if out_index == 1:\n",
    "        all_stats_results = stats_results\n",
    "    else:\n",
    "        all_stats_results = pd.concat([all_stats_results, stats_results], axis = 0).reset_index(drop=True)\n",
    "all_stats_results = all_stats_results.sort_values('adj_r2', ascending = False)"
   ]
  },
  {
   "cell_type": "code",
   "execution_count": 139,
   "id": "db338ba8-bcc3-4acc-9ebc-5830e791f7d6",
   "metadata": {
    "execution": {
     "iopub.execute_input": "2024-07-10T08:31:38.775370Z",
     "iopub.status.busy": "2024-07-10T08:31:38.771645Z",
     "iopub.status.idle": "2024-07-10T08:31:38.779145Z",
     "shell.execute_reply": "2024-07-10T08:31:38.779145Z",
     "shell.execute_reply.started": "2024-07-10T08:31:38.775370Z"
    }
   },
   "outputs": [],
   "source": [
    "Pass_Stat_list = all_stats_results"
   ]
  },
  {
   "cell_type": "code",
   "execution_count": 141,
   "id": "d110a5a4-d0e1-408e-aa2d-33be4d3aca8d",
   "metadata": {
    "execution": {
     "iopub.execute_input": "2024-07-10T08:32:01.226935Z",
     "iopub.status.busy": "2024-07-10T08:32:01.226935Z",
     "iopub.status.idle": "2024-07-10T08:32:01.233145Z",
     "shell.execute_reply": "2024-07-10T08:32:01.232146Z",
     "shell.execute_reply.started": "2024-07-10T08:32:01.226935Z"
    }
   },
   "outputs": [],
   "source": [
    "#Adj Stats in factor to interesting\n",
    "Pass_Stat_list = all_stats_results[all_stats_results['r2'] >= 0.00002]\n",
    "Pass_Stat_list = all_stats_results[all_stats_results['adj_r2'] >= 0.00002]\n",
    "# Pass_Stat_list = Pass_Stat_list[Pass_Stat_list['Probability of F-Stats'] <= 0.5]\n",
    "# Pass_Stat_list = Pass_Stat_list[Pass_Stat_list['AD'] < Pass_Stat_list['AD_criteria_0.05']]\n",
    "# Pass_Stat_list = Pass_Stat_list[Pass_Stat_list['BP_pvalues'] > 0.05]\n",
    "# Pass_Stat_list = Pass_Stat_list[Pass_Stat_list['Durbin_Watson'] >= 1]\n",
    "# Pass_Stat_list = Pass_Stat_list[Pass_Stat_list['VIF_Factor_1'] <= 5]\n",
    "# Pass_Stat_list = Pass_Stat_list[Pass_Stat_list['VIF_Factor_2'] <= 5]\n",
    "# Pass_Stat_list = Pass_Stat_list[(Pass_Stat_list['VIF_Factor_3'] <= 5 | (Pass_Stat_list['VIF_Factor_3'].isna()))]"
   ]
  },
  {
   "cell_type": "code",
   "execution_count": 142,
   "id": "07ea6873-2a07-47ff-97eb-7facd0f1b7c3",
   "metadata": {
    "execution": {
     "iopub.execute_input": "2024-07-10T08:32:01.725814Z",
     "iopub.status.busy": "2024-07-10T08:32:01.725814Z",
     "iopub.status.idle": "2024-07-10T08:32:01.760890Z",
     "shell.execute_reply": "2024-07-10T08:32:01.759889Z",
     "shell.execute_reply.started": "2024-07-10T08:32:01.725814Z"
    },
    "scrolled": true
   },
   "outputs": [
    {
     "data": {
      "text/html": [
       "<div>\n",
       "<style scoped>\n",
       "    .dataframe tbody tr th:only-of-type {\n",
       "        vertical-align: middle;\n",
       "    }\n",
       "\n",
       "    .dataframe tbody tr th {\n",
       "        vertical-align: top;\n",
       "    }\n",
       "\n",
       "    .dataframe thead th {\n",
       "        text-align: right;\n",
       "    }\n",
       "</style>\n",
       "<table border=\"1\" class=\"dataframe\">\n",
       "  <thead>\n",
       "    <tr style=\"text-align: right;\">\n",
       "      <th></th>\n",
       "      <th>FACTOR_1</th>\n",
       "      <th>FACTOR_2</th>\n",
       "      <th>FACTOR_3</th>\n",
       "      <th>const</th>\n",
       "      <th>x1</th>\n",
       "      <th>x2</th>\n",
       "      <th>x3</th>\n",
       "      <th>intercept_p_value</th>\n",
       "      <th>FACTOR_1_p_value</th>\n",
       "      <th>FACTOR_2_p_value</th>\n",
       "      <th>...</th>\n",
       "      <th>adj_r2</th>\n",
       "      <th>Probability of F-Stats</th>\n",
       "      <th>AD</th>\n",
       "      <th>AD_criteria</th>\n",
       "      <th>AD_criteria_0.05</th>\n",
       "      <th>BP_pvalues</th>\n",
       "      <th>Durbin_Watson</th>\n",
       "      <th>VIF_Factor_1</th>\n",
       "      <th>VIF_Factor_2</th>\n",
       "      <th>VIF_Factor_3</th>\n",
       "    </tr>\n",
       "  </thead>\n",
       "  <tbody>\n",
       "    <tr>\n",
       "      <th>11</th>\n",
       "      <td>(Inflation)</td>\n",
       "      <td>ดีเซล</td>\n",
       "      <td>NaN</td>\n",
       "      <td>0.045238</td>\n",
       "      <td>0.004486</td>\n",
       "      <td>-0.001691</td>\n",
       "      <td>NaN</td>\n",
       "      <td>0.122939</td>\n",
       "      <td>0.360297</td>\n",
       "      <td>0.149498</td>\n",
       "      <td>...</td>\n",
       "      <td>0.000655</td>\n",
       "      <td>0.352</td>\n",
       "      <td>1.834473</td>\n",
       "      <td>{15.0: 0.562, 10.0: 0.64, 5.0: 0.768, 2.5: 0.8...</td>\n",
       "      <td>0.768</td>\n",
       "      <td>0.336632</td>\n",
       "      <td>2.194423</td>\n",
       "      <td>3.641017</td>\n",
       "      <td>3.641017</td>\n",
       "      <td>NaN</td>\n",
       "    </tr>\n",
       "  </tbody>\n",
       "</table>\n",
       "<p>1 rows × 22 columns</p>\n",
       "</div>"
      ],
      "text/plain": [
       "       FACTOR_1 FACTOR_2 FACTOR_3     const        x1        x2  x3  \\\n",
       "11  (Inflation)    ดีเซล      NaN  0.045238  0.004486 -0.001691 NaN   \n",
       "\n",
       "    intercept_p_value  FACTOR_1_p_value  FACTOR_2_p_value  ...    adj_r2  \\\n",
       "11           0.122939          0.360297          0.149498  ...  0.000655   \n",
       "\n",
       "    Probability of F-Stats        AD  \\\n",
       "11                   0.352  1.834473   \n",
       "\n",
       "                                          AD_criteria  AD_criteria_0.05  \\\n",
       "11  {15.0: 0.562, 10.0: 0.64, 5.0: 0.768, 2.5: 0.8...             0.768   \n",
       "\n",
       "   BP_pvalues  Durbin_Watson  VIF_Factor_1  VIF_Factor_2  VIF_Factor_3  \n",
       "11   0.336632       2.194423      3.641017      3.641017           NaN  \n",
       "\n",
       "[1 rows x 22 columns]"
      ]
     },
     "execution_count": 142,
     "metadata": {},
     "output_type": "execute_result"
    }
   ],
   "source": [
    "Pass_Stat_list"
   ]
  },
  {
   "cell_type": "code",
   "execution_count": null,
   "id": "835bb64c-ce28-4c7a-ac44-19b540724534",
   "metadata": {},
   "outputs": [],
   "source": []
  }
 ],
 "metadata": {
  "kernelspec": {
   "display_name": "Python 3 (ipykernel)",
   "language": "python",
   "name": "python3"
  },
  "language_info": {
   "codemirror_mode": {
    "name": "ipython",
    "version": 3
   },
   "file_extension": ".py",
   "mimetype": "text/x-python",
   "name": "python",
   "nbconvert_exporter": "python",
   "pygments_lexer": "ipython3",
   "version": "3.12.3"
  }
 },
 "nbformat": 4,
 "nbformat_minor": 5
}
